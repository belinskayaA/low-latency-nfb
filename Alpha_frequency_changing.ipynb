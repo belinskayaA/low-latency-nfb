{
 "cells": [
  {
   "cell_type": "markdown",
   "metadata": {},
   "source": [
    "# Measurement of alpha rhythm change between control and experimental condition"
   ]
  },
  {
   "cell_type": "code",
   "execution_count": 3,
   "metadata": {},
   "outputs": [],
   "source": [
    "import numpy as np\n",
    "import scipy.signal as sg\n",
    "import pylab as plt\n",
    "import pandas as pd\n",
    "import seaborn as sns\n",
    "import glob \n",
    "import os\n",
    "import sys\n",
    "path_nfb = r'/Users/timofej/nfb-master'\n",
    "sys.path.insert(0, path_nfb)\n",
    "from utils.load_results import load_data"
   ]
  },
  {
   "cell_type": "markdown",
   "metadata": {},
   "source": [
    "### To quickly check the conditions of the experiment:\n",
    "- Take records of two different conditions;\n",
    "- Select one spatial channel;\n",
    "- Separate the time interval that we are interested in;\n",
    "- Estimate signal spectral density using Welch's method for both records;\n",
    "- Visualize both distributions\n"
   ]
  },
  {
   "cell_type": "code",
   "execution_count": 4,
   "metadata": {},
   "outputs": [],
   "source": [
    "data = r'/Users/belinskaia/Desktop/CBI/Tum_Data/A05_alpha_train/video_fb_subj_A05_1_01-27_17-26-28/experiment_data.h5'\n",
    "df, fs, channels, p_names = load_data(data)\n",
    "fs = int(fs)"
   ]
  },
  {
   "cell_type": "code",
   "execution_count": 5,
   "metadata": {},
   "outputs": [],
   "source": [
    "data_mock = r'/Users/belinskaia/Desktop/CBI/Tum_Data/Tum_mock/CO3/video_fb_subj_C03_1_01-20_17-29-27/experiment_data.h5'\n",
    "df_mock, fs, channels_mock, p_names_mock = load_data(data_mock)\n",
    "fs = int(fs)"
   ]
  },
  {
   "cell_type": "code",
   "execution_count": 6,
   "metadata": {},
   "outputs": [
    {
     "data": {
      "text/html": [
       "<div>\n",
       "<style scoped>\n",
       "    .dataframe tbody tr th:only-of-type {\n",
       "        vertical-align: middle;\n",
       "    }\n",
       "\n",
       "    .dataframe tbody tr th {\n",
       "        vertical-align: top;\n",
       "    }\n",
       "\n",
       "    .dataframe thead th {\n",
       "        text-align: right;\n",
       "    }\n",
       "</style>\n",
       "<table border=\"1\" class=\"dataframe\">\n",
       "  <thead>\n",
       "    <tr style=\"text-align: right;\">\n",
       "      <th></th>\n",
       "      <th>FP1</th>\n",
       "      <th>FP2</th>\n",
       "      <th>F7</th>\n",
       "      <th>F3</th>\n",
       "      <th>FZ</th>\n",
       "      <th>F4</th>\n",
       "      <th>F8</th>\n",
       "      <th>FT9</th>\n",
       "      <th>FC5</th>\n",
       "      <th>FC1</th>\n",
       "      <th>...</th>\n",
       "      <th>P4</th>\n",
       "      <th>P8</th>\n",
       "      <th>O1</th>\n",
       "      <th>OZ</th>\n",
       "      <th>O2</th>\n",
       "      <th>VIDEO</th>\n",
       "      <th>signal_Alpha0</th>\n",
       "      <th>events</th>\n",
       "      <th>block_name</th>\n",
       "      <th>block_number</th>\n",
       "    </tr>\n",
       "  </thead>\n",
       "  <tbody>\n",
       "    <tr>\n",
       "      <th>0</th>\n",
       "      <td>-0.000001</td>\n",
       "      <td>-3.806206e-07</td>\n",
       "      <td>-3.667863e-07</td>\n",
       "      <td>1.774275e-07</td>\n",
       "      <td>-3.717009e-07</td>\n",
       "      <td>0.000002</td>\n",
       "      <td>0.000002</td>\n",
       "      <td>-0.000002</td>\n",
       "      <td>-0.000003</td>\n",
       "      <td>8.767321e-07</td>\n",
       "      <td>...</td>\n",
       "      <td>0.000007</td>\n",
       "      <td>0.000008</td>\n",
       "      <td>-0.000019</td>\n",
       "      <td>-0.000019</td>\n",
       "      <td>-0.000013</td>\n",
       "      <td>-0.149021</td>\n",
       "      <td>0.000014</td>\n",
       "      <td>0.0</td>\n",
       "      <td>Close</td>\n",
       "      <td>1</td>\n",
       "    </tr>\n",
       "    <tr>\n",
       "      <th>1</th>\n",
       "      <td>-0.000002</td>\n",
       "      <td>1.333124e-06</td>\n",
       "      <td>-1.645002e-06</td>\n",
       "      <td>-8.469502e-07</td>\n",
       "      <td>6.256323e-07</td>\n",
       "      <td>0.000004</td>\n",
       "      <td>0.000005</td>\n",
       "      <td>-0.000005</td>\n",
       "      <td>-0.000003</td>\n",
       "      <td>2.423172e-06</td>\n",
       "      <td>...</td>\n",
       "      <td>0.000008</td>\n",
       "      <td>0.000011</td>\n",
       "      <td>-0.000012</td>\n",
       "      <td>-0.000015</td>\n",
       "      <td>-0.000008</td>\n",
       "      <td>-0.149147</td>\n",
       "      <td>0.000014</td>\n",
       "      <td>0.0</td>\n",
       "      <td>Close</td>\n",
       "      <td>1</td>\n",
       "    </tr>\n",
       "    <tr>\n",
       "      <th>2</th>\n",
       "      <td>-0.000006</td>\n",
       "      <td>-9.133375e-07</td>\n",
       "      <td>-5.581103e-06</td>\n",
       "      <td>-4.815390e-06</td>\n",
       "      <td>-1.889212e-06</td>\n",
       "      <td>0.000002</td>\n",
       "      <td>0.000004</td>\n",
       "      <td>-0.000010</td>\n",
       "      <td>-0.000006</td>\n",
       "      <td>-5.975798e-09</td>\n",
       "      <td>...</td>\n",
       "      <td>0.000006</td>\n",
       "      <td>0.000010</td>\n",
       "      <td>-0.000006</td>\n",
       "      <td>-0.000011</td>\n",
       "      <td>-0.000004</td>\n",
       "      <td>-0.149172</td>\n",
       "      <td>0.000014</td>\n",
       "      <td>0.0</td>\n",
       "      <td>Close</td>\n",
       "      <td>1</td>\n",
       "    </tr>\n",
       "  </tbody>\n",
       "</table>\n",
       "<p>3 rows × 37 columns</p>\n",
       "</div>"
      ],
      "text/plain": [
       "        FP1           FP2            F7            F3            FZ        F4  \\\n",
       "0 -0.000001 -3.806206e-07 -3.667863e-07  1.774275e-07 -3.717009e-07  0.000002   \n",
       "1 -0.000002  1.333124e-06 -1.645002e-06 -8.469502e-07  6.256323e-07  0.000004   \n",
       "2 -0.000006 -9.133375e-07 -5.581103e-06 -4.815390e-06 -1.889212e-06  0.000002   \n",
       "\n",
       "         F8       FT9       FC5           FC1  ...        P4        P8  \\\n",
       "0  0.000002 -0.000002 -0.000003  8.767321e-07  ...  0.000007  0.000008   \n",
       "1  0.000005 -0.000005 -0.000003  2.423172e-06  ...  0.000008  0.000011   \n",
       "2  0.000004 -0.000010 -0.000006 -5.975798e-09  ...  0.000006  0.000010   \n",
       "\n",
       "         O1        OZ        O2     VIDEO  signal_Alpha0  events  block_name  \\\n",
       "0 -0.000019 -0.000019 -0.000013 -0.149021       0.000014     0.0       Close   \n",
       "1 -0.000012 -0.000015 -0.000008 -0.149147       0.000014     0.0       Close   \n",
       "2 -0.000006 -0.000011 -0.000004 -0.149172       0.000014     0.0       Close   \n",
       "\n",
       "   block_number  \n",
       "0             1  \n",
       "1             1  \n",
       "2             1  \n",
       "\n",
       "[3 rows x 37 columns]"
      ]
     },
     "execution_count": 6,
     "metadata": {},
     "output_type": "execute_result"
    }
   ],
   "source": [
    "df.head(3)"
   ]
  },
  {
   "cell_type": "code",
   "execution_count": 9,
   "metadata": {},
   "outputs": [
    {
     "data": {
      "text/plain": [
       "(0.0, 45.0)"
      ]
     },
     "execution_count": 9,
     "metadata": {},
     "output_type": "execute_result"
    },
    {
     "data": {
      "image/png": "[encoded data removed]",
      "text/plain": [
       "<Figure size 432x288 with 1 Axes>"
      ]
     },
     "metadata": {
      "needs_background": "light"
     },
     "output_type": "display_data"
    }
   ],
   "source": [
    "baseline4 = df.loc[df.block_number==1,'P4'].values\n",
    "f_b4, pxx_b4 = (sg.welch(baseline4, fs=fs, nperseg=1000))\n",
    "\n",
    "baseline6 = df_mock.loc[df_mock.block_number==1,'P4'].values\n",
    "f_b6, pxx_b6 = (sg.welch(baseline6, fs=fs, nperseg=1000))\n",
    "\n",
    "\n",
    "baseline4_open = df.loc[df.block_number==6,'P4'].values\n",
    "f_b4_open , pxx_b4_open  = (sg.welch(baseline4, fs=fs, nperseg=1000))\n",
    "\n",
    "baseline6_open  = df_mock.loc[df_mock.block_number==6,'P4'].values\n",
    "f_b6_open , pxx_b6_open  = (sg.welch(baseline6, fs=fs, nperseg=1000))\n",
    "\n",
    "band = (7,15)\n",
    "plt.axvline(band[0], color = 'r')\n",
    "plt.axvline(band[1], color = 'r')\n",
    "plt.plot(f_b4, pxx_b4, label='close_fb0')\n",
    "plt.plot(f_b6, pxx_b6, label='close_Mock')\n",
    "\n",
    "\n",
    "plt.legend(loc=1)\n",
    "\n",
    "plt.xlim(0, 45)"
   ]
  }
 ],
 "metadata": {
  "kernelspec": {
   "display_name": "Python 3",
   "language": "python",
   "name": "python3"
  },
  "language_info": {
   "codemirror_mode": {
    "name": "ipython",
    "version": 3
   },
   "file_extension": ".py",
   "mimetype": "text/x-python",
   "name": "python",
   "nbconvert_exporter": "python",
   "pygments_lexer": "ipython3",
   "version": "3.9.1"
  }
 },
 "nbformat": 4,
 "nbformat_minor": 2
}
