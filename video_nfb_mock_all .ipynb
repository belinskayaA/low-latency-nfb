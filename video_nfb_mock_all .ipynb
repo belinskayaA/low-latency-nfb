{
 "cells": [
  {
   "cell_type": "code",
   "execution_count": 1,
   "id": "meaningful-stream",
   "metadata": {},
   "outputs": [
    {
     "name": "stderr",
     "output_type": "stream",
     "text": [
      "/Users/belinskaia/.pyenv/versions/3.9.1/envs/brain3/lib/python3.9/site-packages/pandas/compat/__init__.py:97: UserWarning: Could not import the lzma module. Your installed Python is incomplete. Attempting to use lzma compression will result in a RuntimeError.\n",
      "  warnings.warn(msg)\n"
     ]
    }
   ],
   "source": [
    "import pandas as pd\n",
    "import numpy as np\n",
    "import seaborn as sns\n",
    "import os.path as op\n",
    "import scipy.signal as sg\n",
    "from scipy.stats import zscore\n",
    "import h5py\n",
    "import matplotlib.pyplot as plt\n",
    "import os"
   ]
  },
  {
   "cell_type": "code",
   "execution_count": 2,
   "id": "current-department",
   "metadata": {},
   "outputs": [],
   "source": [
    "path_nfb = r'/share/nastya/experiments/1/nfb'\n",
    "import sys\n",
    "sys.path.insert(0, path_nfb)\n",
    "from utils.load_results import load_data"
   ]
  },
  {
   "cell_type": "code",
   "execution_count": 33,
   "id": "hybrid-jackson",
   "metadata": {},
   "outputs": [],
   "source": [
    "file_path_first_day = r'/Users/belinskaia/Desktop/Tum_Data/A05_alpha_train/video_fb_subj_A05_3_01-29_10-34-32/experiment_data.h5'\n",
    "#file_path_first_second = r'/Users/belinskaia/Desktop/Tum_mock/CO1/video_fb_subj_С01_2_01-13_16-07-53/experiment_data.h5'\n",
    "#file_path_first_third = r'/Users/belinskaia/Desktop/Tum_mock/CO1/video_fb_subj_С01_3_01-14_10-23-24/experiment_data.h5'\n"
   ]
  },
  {
   "cell_type": "code",
   "execution_count": 34,
   "id": "electric-accreditation",
   "metadata": {},
   "outputs": [],
   "source": [
    "with h5py.File(file_path_first_day) as f:\n",
    "            spat_filter = f['protocol6/signals_stats/Alpha0/spatial_filter'][...]\n",
    "            band = f['protocol6/signals_stats/Alpha0/bandpass'][...]\n",
    "\n",
    "df_1, fs, channels, p_names = load_data(file_path_first_day)"
   ]
  },
  {
   "cell_type": "code",
   "execution_count": 35,
   "id": "irish-pickup",
   "metadata": {},
   "outputs": [
    {
     "data": {
      "text/plain": [
       "array(['Close', 'Baseline0', 'PauseBL', 'Baseline', 'PauseFB', 'FB0'],\n",
       "      dtype=object)"
      ]
     },
     "execution_count": 35,
     "metadata": {},
     "output_type": "execute_result"
    }
   ],
   "source": [
    "df_1.block_name.unique()"
   ]
  },
  {
   "cell_type": "code",
   "execution_count": 36,
   "id": "infectious-knight",
   "metadata": {},
   "outputs": [
    {
     "name": "stderr",
     "output_type": "stream",
     "text": [
      "<ipython-input-36-cd1eaba717ef>:10: SettingWithCopyWarning: \n",
      "A value is trying to be set on a copy of a slice from a DataFrame.\n",
      "Try using .loc[row_indexer,col_indexer] = value instead\n",
      "\n",
      "See the caveats in the documentation: https://pandas.pydata.org/pandas-docs/stable/user_guide/indexing.html#returning-a-view-versus-a-copy\n",
      "  df_fb_1['alpha_env'] = fb_alpha\n",
      "<ipython-input-36-cd1eaba717ef>:11: SettingWithCopyWarning: \n",
      "A value is trying to be set on a copy of a slice from a DataFrame.\n",
      "Try using .loc[row_indexer,col_indexer] = value instead\n",
      "\n",
      "See the caveats in the documentation: https://pandas.pydata.org/pandas-docs/stable/user_guide/indexing.html#returning-a-view-versus-a-copy\n",
      "  df_fb_1['block_number'] = df_1['block_number']\n"
     ]
    }
   ],
   "source": [
    "# Alpha filter \n",
    "slc = np.arange(2*60*fs, 4*60*fs)\n",
    "fb_alpha = df_1.query('block_name == \"FB0\"')[channels].values.dot(spat_filter)\n",
    "\n",
    "fb_alpha = sg.filtfilt(*sg.butter(4, band/fs*2, 'band'), fb_alpha)\n",
    "fb_alpha = np.abs(sg.hilbert(zscore(fb_alpha)))\n",
    "\n",
    "\n",
    "df_fb_1 = df_1[df_1['block_name'] =='FB0']\n",
    "df_fb_1['alpha_env'] = fb_alpha\n",
    "df_fb_1['block_number'] = df_1['block_number']"
   ]
  },
  {
   "cell_type": "code",
   "execution_count": 37,
   "id": "spatial-persian",
   "metadata": {},
   "outputs": [
    {
     "name": "stderr",
     "output_type": "stream",
     "text": [
      "<ipython-input-37-6d0c3eb5ff5d>:8: SettingWithCopyWarning: \n",
      "A value is trying to be set on a copy of a slice from a DataFrame.\n",
      "Try using .loc[row_indexer,col_indexer] = value instead\n",
      "\n",
      "See the caveats in the documentation: https://pandas.pydata.org/pandas-docs/stable/user_guide/indexing.html#returning-a-view-versus-a-copy\n",
      "  df_fb_1['theta_env'] = theta_env\n"
     ]
    }
   ],
   "source": [
    "# Theta filter\n",
    "theta_band = np.array([4.0, 8.2])\n",
    "\n",
    "theta_env = df_1.query('block_name == \"FB0\"')[channels].values.dot(spat_filter)\n",
    "theta_env = sg.filtfilt(*sg.butter(4, theta_band/fs*2, 'band'), theta_env)\n",
    "theta_env = np.abs(sg.hilbert(zscore(theta_env)))\n",
    "\n",
    "df_fb_1['theta_env'] = theta_env"
   ]
  },
  {
   "cell_type": "code",
   "execution_count": 38,
   "id": "regular-compilation",
   "metadata": {},
   "outputs": [
    {
     "data": {
      "text/plain": [
       "<matplotlib.legend.Legend at 0x178cf1850>"
      ]
     },
     "execution_count": 38,
     "metadata": {},
     "output_type": "execute_result"
    },
    {
     "data": {
      "image/png": "[encoded data removed]",
      "text/plain": [
       "<Figure size 432x288 with 1 Axes>"
      ]
     },
     "metadata": {
      "needs_background": "light"
     },
     "output_type": "display_data"
    }
   ],
   "source": [
    "plt.plot(df_fb_1['alpha_env'], label='alpha')\n",
    "#plt.plot(df_fb_1['theta_env'], label='theta')\n",
    "plt.legend(loc=1)"
   ]
  },
  {
   "cell_type": "code",
   "execution_count": 39,
   "id": "professional-indianapolis",
   "metadata": {},
   "outputs": [
    {
     "data": {
      "text/plain": [
       "9.754252323706387"
      ]
     },
     "execution_count": 39,
     "metadata": {},
     "output_type": "execute_result"
    }
   ],
   "source": [
    "df_fb_1['alpha_env'].max()"
   ]
  },
  {
   "cell_type": "code",
   "execution_count": 40,
   "id": "turkish-thirty",
   "metadata": {},
   "outputs": [],
   "source": [
    "#df_fb_1 = df_fb_1[df_fb_1['alpha_env'] <= 8]\n",
    "#df_fb_1 = df_fb_1[df_fb_1['theta_env'] <= 8]\n"
   ]
  },
  {
   "cell_type": "code",
   "execution_count": 41,
   "id": "baking-services",
   "metadata": {},
   "outputs": [
    {
     "data": {
      "text/plain": [
       "[<matplotlib.lines.Line2D at 0x17ba7d400>]"
      ]
     },
     "execution_count": 41,
     "metadata": {},
     "output_type": "execute_result"
    },
    {
     "data": {
      "image/png": "[encoded data removed]",
      "text/plain": [
       "<Figure size 432x288 with 1 Axes>"
      ]
     },
     "metadata": {
      "needs_background": "light"
     },
     "output_type": "display_data"
    }
   ],
   "source": [
    "plt.plot(df_fb_1['alpha_env'], label='alpha')\n",
    "plt.plot(df_fb_1['theta_env'], label='theta')"
   ]
  },
  {
   "cell_type": "code",
   "execution_count": 42,
   "id": "historical-jewel",
   "metadata": {},
   "outputs": [
    {
     "data": {
      "text/plain": [
       "1.0795133279023361"
      ]
     },
     "execution_count": 42,
     "metadata": {},
     "output_type": "execute_result"
    }
   ],
   "source": [
    "median_theta = df_fb_1['theta_env'].median()\n",
    "median_theta"
   ]
  },
  {
   "cell_type": "code",
   "execution_count": 43,
   "id": "surprising-tracker",
   "metadata": {},
   "outputs": [
    {
     "name": "stderr",
     "output_type": "stream",
     "text": [
      "<ipython-input-43-b2b0730244f7>:1: SettingWithCopyWarning: \n",
      "A value is trying to be set on a copy of a slice from a DataFrame.\n",
      "Try using .loc[row_indexer,col_indexer] = value instead\n",
      "\n",
      "See the caveats in the documentation: https://pandas.pydata.org/pandas-docs/stable/user_guide/indexing.html#returning-a-view-versus-a-copy\n",
      "  df_fb_1['alpha/thera'] = df_fb_1['alpha_env']/median_theta\n"
     ]
    }
   ],
   "source": [
    "df_fb_1['alpha/thera'] = df_fb_1['alpha_env']/median_theta\n"
   ]
  },
  {
   "cell_type": "code",
   "execution_count": 44,
   "id": "informal-block",
   "metadata": {},
   "outputs": [
    {
     "data": {
      "text/plain": [
       "<AxesSubplot:>"
      ]
     },
     "execution_count": 44,
     "metadata": {},
     "output_type": "execute_result"
    },
    {
     "data": {
      "image/png": "[encoded data removed]",
      "text/plain": [
       "<Figure size 432x288 with 1 Axes>"
      ]
     },
     "metadata": {
      "needs_background": "light"
     },
     "output_type": "display_data"
    }
   ],
   "source": [
    "df_fb_1['alpha/thera'].plot()"
   ]
  },
  {
   "cell_type": "code",
   "execution_count": 45,
   "id": "enhanced-divorce",
   "metadata": {},
   "outputs": [
    {
     "name": "stderr",
     "output_type": "stream",
     "text": [
      "<ipython-input-45-d0ea610bd360>:1: SettingWithCopyWarning: \n",
      "A value is trying to be set on a copy of a slice from a DataFrame.\n",
      "Try using .loc[row_indexer,col_indexer] = value instead\n",
      "\n",
      "See the caveats in the documentation: https://pandas.pydata.org/pandas-docs/stable/user_guide/indexing.html#returning-a-view-versus-a-copy\n",
      "  df_fb_1['subj'] = 'A05'\n",
      "<ipython-input-45-d0ea610bd360>:2: SettingWithCopyWarning: \n",
      "A value is trying to be set on a copy of a slice from a DataFrame.\n",
      "Try using .loc[row_indexer,col_indexer] = value instead\n",
      "\n",
      "See the caveats in the documentation: https://pandas.pydata.org/pandas-docs/stable/user_guide/indexing.html#returning-a-view-versus-a-copy\n",
      "  df_fb_1['day'] = 3\n",
      "<ipython-input-45-d0ea610bd360>:3: SettingWithCopyWarning: \n",
      "A value is trying to be set on a copy of a slice from a DataFrame.\n",
      "Try using .loc[row_indexer,col_indexer] = value instead\n",
      "\n",
      "See the caveats in the documentation: https://pandas.pydata.org/pandas-docs/stable/user_guide/indexing.html#returning-a-view-versus-a-copy\n",
      "  df_fb_1['fb_type'] = 'FB0'\n"
     ]
    }
   ],
   "source": [
    "df_fb_1['subj'] = 'A05'\n",
    "df_fb_1['day'] = 3\n",
    "df_fb_1['fb_type'] = 'FB0'"
   ]
  },
  {
   "cell_type": "code",
   "execution_count": 46,
   "id": "sized-tolerance",
   "metadata": {},
   "outputs": [],
   "source": [
    "df_fb_1 = df_fb_1.drop(columns=['events','signal_Alpha0',\n",
    "                                'FP1', 'FP2', 'F7', 'F3', 'FZ', 'F4', 'F8', 'FT9', 'FC5', 'FC1', 'FC2',\n",
    "                                'FC6', 'FT10', 'T7', 'C3', 'CZ', 'C4', 'T8', 'TP9', 'CP5', 'CP1', 'CP2',\n",
    "                                'CP6', 'TP10', 'P7', 'P3', 'PZ', 'P4', 'P8', 'O1', 'OZ', 'O2'])"
   ]
  },
  {
   "cell_type": "code",
   "execution_count": 47,
   "id": "honest-scene",
   "metadata": {},
   "outputs": [
    {
     "data": {
      "text/html": [
       "<div>\n",
       "<style scoped>\n",
       "    .dataframe tbody tr th:only-of-type {\n",
       "        vertical-align: middle;\n",
       "    }\n",
       "\n",
       "    .dataframe tbody tr th {\n",
       "        vertical-align: top;\n",
       "    }\n",
       "\n",
       "    .dataframe thead th {\n",
       "        text-align: right;\n",
       "    }\n",
       "</style>\n",
       "<table border=\"1\" class=\"dataframe\">\n",
       "  <thead>\n",
       "    <tr style=\"text-align: right;\">\n",
       "      <th></th>\n",
       "      <th>VIDEO</th>\n",
       "      <th>block_name</th>\n",
       "      <th>block_number</th>\n",
       "      <th>alpha_env</th>\n",
       "      <th>theta_env</th>\n",
       "      <th>alpha/thera</th>\n",
       "      <th>subj</th>\n",
       "      <th>day</th>\n",
       "      <th>fb_type</th>\n",
       "    </tr>\n",
       "  </thead>\n",
       "  <tbody>\n",
       "    <tr>\n",
       "      <th>135005</th>\n",
       "      <td>-0.358279</td>\n",
       "      <td>FB0</td>\n",
       "      <td>6</td>\n",
       "      <td>0.272261</td>\n",
       "      <td>0.608096</td>\n",
       "      <td>0.252207</td>\n",
       "      <td>A05</td>\n",
       "      <td>3</td>\n",
       "      <td>FB0</td>\n",
       "    </tr>\n",
       "    <tr>\n",
       "      <th>135006</th>\n",
       "      <td>-0.358293</td>\n",
       "      <td>FB0</td>\n",
       "      <td>6</td>\n",
       "      <td>0.401561</td>\n",
       "      <td>0.470617</td>\n",
       "      <td>0.371984</td>\n",
       "      <td>A05</td>\n",
       "      <td>3</td>\n",
       "      <td>FB0</td>\n",
       "    </tr>\n",
       "    <tr>\n",
       "      <th>135007</th>\n",
       "      <td>-0.358275</td>\n",
       "      <td>FB0</td>\n",
       "      <td>6</td>\n",
       "      <td>0.410167</td>\n",
       "      <td>0.483095</td>\n",
       "      <td>0.379956</td>\n",
       "      <td>A05</td>\n",
       "      <td>3</td>\n",
       "      <td>FB0</td>\n",
       "    </tr>\n",
       "  </tbody>\n",
       "</table>\n",
       "</div>"
      ],
      "text/plain": [
       "           VIDEO block_name  block_number  alpha_env  theta_env  alpha/thera  \\\n",
       "135005 -0.358279        FB0             6   0.272261   0.608096     0.252207   \n",
       "135006 -0.358293        FB0             6   0.401561   0.470617     0.371984   \n",
       "135007 -0.358275        FB0             6   0.410167   0.483095     0.379956   \n",
       "\n",
       "       subj  day fb_type  \n",
       "135005  A05    3     FB0  \n",
       "135006  A05    3     FB0  \n",
       "135007  A05    3     FB0  "
      ]
     },
     "execution_count": 47,
     "metadata": {},
     "output_type": "execute_result"
    }
   ],
   "source": [
    "df_fb_1.head(3)"
   ]
  },
  {
   "cell_type": "code",
   "execution_count": 48,
   "id": "functioning-listening",
   "metadata": {},
   "outputs": [],
   "source": [
    "df_fb_1.to_csv('A05_3_fb0.csv', index=False)"
   ]
  },
  {
   "cell_type": "code",
   "execution_count": null,
   "id": "whole-mount",
   "metadata": {},
   "outputs": [],
   "source": []
  },
  {
   "cell_type": "code",
   "execution_count": null,
   "id": "simple-motivation",
   "metadata": {},
   "outputs": [],
   "source": []
  },
  {
   "cell_type": "code",
   "execution_count": 158,
   "id": "electronic-chemistry",
   "metadata": {},
   "outputs": [],
   "source": [
    "threshold_factor = 2\n",
    "median = df_fb_2['alpha/thera'].median()\n",
    "threshold = threshold_factor * median"
   ]
  },
  {
   "cell_type": "code",
   "execution_count": 159,
   "id": "worth-blind",
   "metadata": {},
   "outputs": [],
   "source": [
    "columns=[ 'metric', 'metric_type', 'block_number','threshold_factor']\n",
    "\n",
    "stats_df_2 = pd.DataFrame(columns=columns)\n",
    "for block_number in df_fb_2.block_number.unique():\n",
    "    signal = df_fb_2.loc[df_fb_2['block_number'] == block_number]\n",
    "     # get spindles mask\n",
    "    magnitude_j = np.mean(signal['alpha/thera']) * 1e6\n",
    "    spindles_mask = signal['alpha/thera'] > threshold\n",
    "    if np.sum(np.diff(spindles_mask.astype(int)) == 1) > 0:\n",
    "         # number of spindles\n",
    "        n_spindles_j = np.sum(np.diff(spindles_mask.astype(int)) == 1)\n",
    "\n",
    "         # mean spindle duration\n",
    "        duration_j = np.sum(spindles_mask) / n_spindles_j / fs\n",
    "\n",
    "         # mean spindle amplitue\n",
    "        amplitude_j = np.mean(signal[spindles_mask]['alpha/thera']) * 1e6\n",
    "    else:\n",
    "        n_spindles_j = 1 # TODO replace by NaN\n",
    "        duration_j = 0.005\n",
    "        amplitude_j = threshold * 1e6 \n",
    "        #\n",
    "    stats_df_2 = stats_df_2.append(pd.DataFrame(\n",
    "    { 'metric': [magnitude_j, n_spindles_j/(len(df_fb['alpha/thera'])/fs/60), duration_j, amplitude_j],\n",
    "    'metric_type': ['magnitude','n_spindles', 'duration', 'amplitude'], \n",
    "    'block_number': block_number, 'threshold_factor': threshold_factor}),\n",
    "    ignore_index=True)"
   ]
  },
  {
   "cell_type": "code",
   "execution_count": 161,
   "id": "discrete-today",
   "metadata": {},
   "outputs": [
    {
     "data": {
      "text/html": [
       "<div>\n",
       "<style scoped>\n",
       "    .dataframe tbody tr th:only-of-type {\n",
       "        vertical-align: middle;\n",
       "    }\n",
       "\n",
       "    .dataframe tbody tr th {\n",
       "        vertical-align: top;\n",
       "    }\n",
       "\n",
       "    .dataframe thead th {\n",
       "        text-align: right;\n",
       "    }\n",
       "</style>\n",
       "<table border=\"1\" class=\"dataframe\">\n",
       "  <thead>\n",
       "    <tr style=\"text-align: right;\">\n",
       "      <th></th>\n",
       "      <th>metric</th>\n",
       "      <th>metric_type</th>\n",
       "      <th>block_number</th>\n",
       "      <th>threshold_factor</th>\n",
       "    </tr>\n",
       "  </thead>\n",
       "  <tbody>\n",
       "    <tr>\n",
       "      <th>0</th>\n",
       "      <td>1.189456e+06</td>\n",
       "      <td>magnitude</td>\n",
       "      <td>6</td>\n",
       "      <td>2</td>\n",
       "    </tr>\n",
       "    <tr>\n",
       "      <th>1</th>\n",
       "      <td>5.141577e+00</td>\n",
       "      <td>n_spindles</td>\n",
       "      <td>6</td>\n",
       "      <td>2</td>\n",
       "    </tr>\n",
       "    <tr>\n",
       "      <th>2</th>\n",
       "      <td>1.447143e-01</td>\n",
       "      <td>duration</td>\n",
       "      <td>6</td>\n",
       "      <td>2</td>\n",
       "    </tr>\n",
       "  </tbody>\n",
       "</table>\n",
       "</div>"
      ],
      "text/plain": [
       "         metric metric_type block_number threshold_factor\n",
       "0  1.189456e+06   magnitude            6                2\n",
       "1  5.141577e+00  n_spindles            6                2\n",
       "2  1.447143e-01    duration            6                2"
      ]
     },
     "execution_count": 161,
     "metadata": {},
     "output_type": "execute_result"
    }
   ],
   "source": [
    "stats_df_2.head(3)"
   ]
  },
  {
   "cell_type": "code",
   "execution_count": 162,
   "id": "wooden-nashville",
   "metadata": {},
   "outputs": [
    {
     "data": {
      "text/html": [
       "<div>\n",
       "<style scoped>\n",
       "    .dataframe tbody tr th:only-of-type {\n",
       "        vertical-align: middle;\n",
       "    }\n",
       "\n",
       "    .dataframe tbody tr th {\n",
       "        vertical-align: top;\n",
       "    }\n",
       "\n",
       "    .dataframe thead th {\n",
       "        text-align: right;\n",
       "    }\n",
       "</style>\n",
       "<table border=\"1\" class=\"dataframe\">\n",
       "  <thead>\n",
       "    <tr style=\"text-align: right;\">\n",
       "      <th></th>\n",
       "      <th>metric</th>\n",
       "      <th>metric_type</th>\n",
       "      <th>block_number</th>\n",
       "      <th>threshold_factor</th>\n",
       "    </tr>\n",
       "  </thead>\n",
       "  <tbody>\n",
       "    <tr>\n",
       "      <th>0</th>\n",
       "      <td>1.189456e+06</td>\n",
       "      <td>magnitude</td>\n",
       "      <td>6</td>\n",
       "      <td>2</td>\n",
       "    </tr>\n",
       "    <tr>\n",
       "      <th>1</th>\n",
       "      <td>5.141577e+00</td>\n",
       "      <td>n_spindles</td>\n",
       "      <td>6</td>\n",
       "      <td>2</td>\n",
       "    </tr>\n",
       "    <tr>\n",
       "      <th>2</th>\n",
       "      <td>1.447143e-01</td>\n",
       "      <td>duration</td>\n",
       "      <td>6</td>\n",
       "      <td>2</td>\n",
       "    </tr>\n",
       "  </tbody>\n",
       "</table>\n",
       "</div>"
      ],
      "text/plain": [
       "         metric metric_type block_number threshold_factor\n",
       "0  1.189456e+06   magnitude            6                2\n",
       "1  5.141577e+00  n_spindles            6                2\n",
       "2  1.447143e-01    duration            6                2"
      ]
     },
     "execution_count": 162,
     "metadata": {},
     "output_type": "execute_result"
    }
   ],
   "source": [
    "stats_df.head(3)"
   ]
  },
  {
   "cell_type": "code",
   "execution_count": 149,
   "id": "beneficial-nurse",
   "metadata": {},
   "outputs": [
    {
     "data": {
      "text/plain": [
       "array([6, 8, 10, 12, 14, 16, 18, 20, 22, 24, 26, 28, 30, 32, 34],\n",
       "      dtype=object)"
      ]
     },
     "execution_count": 149,
     "metadata": {},
     "output_type": "execute_result"
    }
   ],
   "source": [
    "stats_df.block_number.unique()"
   ]
  },
  {
   "cell_type": "code",
   "execution_count": 138,
   "id": "portable-protest",
   "metadata": {},
   "outputs": [
    {
     "data": {
      "text/html": [
       "<div>\n",
       "<style scoped>\n",
       "    .dataframe tbody tr th:only-of-type {\n",
       "        vertical-align: middle;\n",
       "    }\n",
       "\n",
       "    .dataframe tbody tr th {\n",
       "        vertical-align: top;\n",
       "    }\n",
       "\n",
       "    .dataframe thead th {\n",
       "        text-align: right;\n",
       "    }\n",
       "</style>\n",
       "<table border=\"1\" class=\"dataframe\">\n",
       "  <thead>\n",
       "    <tr style=\"text-align: right;\">\n",
       "      <th></th>\n",
       "      <th>metric</th>\n",
       "      <th>metric_type</th>\n",
       "      <th>block_number</th>\n",
       "      <th>threshold_factor</th>\n",
       "      <th>day</th>\n",
       "    </tr>\n",
       "  </thead>\n",
       "  <tbody>\n",
       "    <tr>\n",
       "      <th>0</th>\n",
       "      <td>1.673319e+06</td>\n",
       "      <td>magnitude</td>\n",
       "      <td>6</td>\n",
       "      <td>2</td>\n",
       "      <td>1</td>\n",
       "    </tr>\n",
       "    <tr>\n",
       "      <th>1</th>\n",
       "      <td>5.108190e+00</td>\n",
       "      <td>n_spindles</td>\n",
       "      <td>6</td>\n",
       "      <td>2</td>\n",
       "      <td>1</td>\n",
       "    </tr>\n",
       "    <tr>\n",
       "      <th>2</th>\n",
       "      <td>1.845359e-01</td>\n",
       "      <td>duration</td>\n",
       "      <td>6</td>\n",
       "      <td>2</td>\n",
       "      <td>1</td>\n",
       "    </tr>\n",
       "  </tbody>\n",
       "</table>\n",
       "</div>"
      ],
      "text/plain": [
       "         metric metric_type block_number threshold_factor  day\n",
       "0  1.673319e+06   magnitude            6                2    1\n",
       "1  5.108190e+00  n_spindles            6                2    1\n",
       "2  1.845359e-01    duration            6                2    1"
      ]
     },
     "execution_count": 138,
     "metadata": {},
     "output_type": "execute_result"
    }
   ],
   "source": [
    "stats_df['day'] = 1\n",
    "stats_df.head(3)"
   ]
  },
  {
   "cell_type": "code",
   "execution_count": 137,
   "id": "medium-potter",
   "metadata": {},
   "outputs": [
    {
     "data": {
      "text/plain": [
       "<seaborn.axisgrid.FacetGrid at 0x1933bca00>"
      ]
     },
     "execution_count": 137,
     "metadata": {},
     "output_type": "execute_result"
    },
    {
     "data": {
      "image/png": "[encoded data removed]",
      "text/plain": [
       "<Figure size 360x360 with 1 Axes>"
      ]
     },
     "metadata": {
      "needs_background": "light"
     },
     "output_type": "display_data"
    }
   ],
   "source": [
    "sns.relplot(x='block_number', y='metric', data=stats_df.loc[stats_df['metric_type'].isin(['magnitude'])], \n",
    "            kind=\"line\")"
   ]
  },
  {
   "cell_type": "code",
   "execution_count": null,
   "id": "european-thesis",
   "metadata": {},
   "outputs": [],
   "source": []
  }
 ],
 "metadata": {
  "kernelspec": {
   "display_name": "Python 3",
   "language": "python",
   "name": "python3"
  },
  "language_info": {
   "codemirror_mode": {
    "name": "ipython",
    "version": 3
   },
   "file_extension": ".py",
   "mimetype": "text/x-python",
   "name": "python",
   "nbconvert_exporter": "python",
   "pygments_lexer": "ipython3",
   "version": "3.9.1"
  }
 },
 "nbformat": 4,
 "nbformat_minor": 5
}
