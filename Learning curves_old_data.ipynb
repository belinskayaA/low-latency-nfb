{
 "cells": [
  {
   "cell_type": "code",
   "execution_count": 107,
   "id": "confused-console",
   "metadata": {},
   "outputs": [],
   "source": [
    "def print_full(df):\n",
    "    import pandas as pd\n",
    "    pd.set_option('display.max_rows', len(df))\n",
    "    print(df)\n",
    "    pd.reset_option('display.max_rows')"
   ]
  },
  {
   "cell_type": "code",
   "execution_count": 1085,
   "id": "compliant-jason",
   "metadata": {},
   "outputs": [],
   "source": [
    "import pandas as pd\n",
    "import numpy as np\n",
    "import seaborn as sns\n",
    "import pylab as plt"
   ]
  },
  {
   "cell_type": "code",
   "execution_count": 1338,
   "id": "alien-market",
   "metadata": {},
   "outputs": [
    {
     "data": {
      "text/html": [
       "<div>\n",
       "<style scoped>\n",
       "    .dataframe tbody tr th:only-of-type {\n",
       "        vertical-align: middle;\n",
       "    }\n",
       "\n",
       "    .dataframe tbody tr th {\n",
       "        vertical-align: top;\n",
       "    }\n",
       "\n",
       "    .dataframe thead th {\n",
       "        text-align: right;\n",
       "    }\n",
       "</style>\n",
       "<table border=\"1\" class=\"dataframe\">\n",
       "  <thead>\n",
       "    <tr style=\"text-align: right;\">\n",
       "      <th></th>\n",
       "      <th>metric</th>\n",
       "      <th>metric_type</th>\n",
       "      <th>block_number</th>\n",
       "      <th>threshold_factor</th>\n",
       "      <th>block_name</th>\n",
       "      <th>subj_id</th>\n",
       "    </tr>\n",
       "  </thead>\n",
       "  <tbody>\n",
       "    <tr>\n",
       "      <th>0</th>\n",
       "      <td>2.623608</td>\n",
       "      <td>magnitude</td>\n",
       "      <td>1</td>\n",
       "      <td>2.5</td>\n",
       "      <td>Baseline0</td>\n",
       "      <td>1</td>\n",
       "    </tr>\n",
       "    <tr>\n",
       "      <th>1</th>\n",
       "      <td>0.194311</td>\n",
       "      <td>n_spindles</td>\n",
       "      <td>1</td>\n",
       "      <td>2.5</td>\n",
       "      <td>Baseline0</td>\n",
       "      <td>1</td>\n",
       "    </tr>\n",
       "    <tr>\n",
       "      <th>2</th>\n",
       "      <td>0.101000</td>\n",
       "      <td>duration</td>\n",
       "      <td>1</td>\n",
       "      <td>2.5</td>\n",
       "      <td>Baseline0</td>\n",
       "      <td>1</td>\n",
       "    </tr>\n",
       "  </tbody>\n",
       "</table>\n",
       "</div>"
      ],
      "text/plain": [
       "     metric metric_type  block_number  threshold_factor block_name  subj_id\n",
       "0  2.623608   magnitude             1               2.5  Baseline0        1\n",
       "1  0.194311  n_spindles             1               2.5  Baseline0        1\n",
       "2  0.101000    duration             1               2.5  Baseline0        1"
      ]
     },
     "execution_count": 1338,
     "metadata": {},
     "output_type": "execute_result"
    }
   ],
   "source": [
    "df_all = pd.read_csv('/Users/belinskaia/Desktop/CBI/nfb_old_csv/alpha_old_script/all.csv')\n",
    "df_all.head(3)"
   ]
  },
  {
   "cell_type": "code",
   "execution_count": 1339,
   "id": "hawaiian-fiber",
   "metadata": {},
   "outputs": [
    {
     "data": {
      "text/plain": [
       "array(['magnitude', 'n_spindles', 'duration', 'amplitude'], dtype=object)"
      ]
     },
     "execution_count": 1339,
     "metadata": {},
     "output_type": "execute_result"
    }
   ],
   "source": [
    "df_all.metric_type.unique()"
   ]
  },
  {
   "cell_type": "code",
   "execution_count": 1340,
   "id": "premier-spending",
   "metadata": {},
   "outputs": [],
   "source": [
    "df_all = df_all.drop(df_all[df_all['subj_id'] == 11].index)\n",
    "df_all = df_all.drop(df_all[df_all['subj_id'] == 1].index)\n",
    "#df_all = df_all.drop(df_all[df_all['subj_id'] == 23].index)\n",
    "#df_all = df_all.drop(df_all[df_all['subj_id'] == 12].index)\n",
    "#df_all = df_all.drop(df_all[df_all['subj_id'] == 19].index)\n",
    "#df_all = df_all.drop(df_all[df_all['subj_id'] == 6].index)\n",
    "#df_all = df_all.drop(df_all[df_all['subj_id'] == 8].index)\n",
    "#len(df_all.subj_id.unique())"
   ]
  },
  {
   "cell_type": "code",
   "execution_count": 1341,
   "id": "developed-playback",
   "metadata": {},
   "outputs": [],
   "source": [
    "#f\n",
    "#df_all.loc[(df_all['subj_id'] ==8) & (df_all['block_name'] == 'FBMock'), ['metric']] = df_all.loc[(df_all['subj_id'] ==22) & (df_all['block_name'] == 'FBMock'),['metric']].values[:]\n",
    "#df_all.loc[(df_all['subj_id'] ==6) & (df_all['block_name'] == 'FBMock'), ['metric']] = df_all.loc[(df_all['subj_id'] ==6) & (df_all['block_name'] == 'FB1000'),['metric']].values[:]\n",
    "#df_all.loc[(df_all['subj_id'] ==6) & (df_all['block_name'] == 'FB1000'), ['metric']] = df_all.loc[(df_all['subj_id'] ==5) & (df_all['block_name'] == 'FBMock'),['metric']].values[:]\n",
    "#df_all.loc[(df_all['subj_id'] ==13) & (df_all['block_name'] == 'FBMock'), ['metric']] = df_all.loc[(df_all['subj_id'] ==9) & (df_all['block_name'] == 'FBMock'),['metric']].values[:]\n",
    "\n"
   ]
  },
  {
   "cell_type": "code",
   "execution_count": 1342,
   "id": "devoted-developer",
   "metadata": {},
   "outputs": [
    {
     "data": {
      "text/plain": [
       "metric              0\n",
       "metric_type         0\n",
       "block_number        0\n",
       "threshold_factor    0\n",
       "block_name          0\n",
       "subj_id             0\n",
       "dtype: int64"
      ]
     },
     "execution_count": 1342,
     "metadata": {},
     "output_type": "execute_result"
    }
   ],
   "source": [
    "df_all.isna().sum()"
   ]
  },
  {
   "cell_type": "code",
   "execution_count": 1343,
   "id": "neither-fabric",
   "metadata": {},
   "outputs": [],
   "source": [
    "#print_full(df_all.loc[df_all['subj_id']== 2])"
   ]
  },
  {
   "cell_type": "code",
   "execution_count": 1344,
   "id": "compact-scene",
   "metadata": {},
   "outputs": [],
   "source": [
    "#print_full(df_all.loc[df_all['block_number']== 47])"
   ]
  },
  {
   "cell_type": "code",
   "execution_count": 1345,
   "id": "twelve-chuck",
   "metadata": {},
   "outputs": [],
   "source": [
    "df_all = df_all.loc[df_all['block_name'].isin(['FB0', 'FB500','FB1000','FBMock'])]"
   ]
  },
  {
   "cell_type": "code",
   "execution_count": 1346,
   "id": "positive-insulin",
   "metadata": {},
   "outputs": [],
   "source": [
    "#df_all[df_all['block_name'] == 'Baseline']"
   ]
  },
  {
   "cell_type": "code",
   "execution_count": 1347,
   "id": "lyric-nurse",
   "metadata": {},
   "outputs": [
    {
     "data": {
      "text/plain": [
       "array(['FB0', 'FB500', 'FB1000', 'FBMock'], dtype=object)"
      ]
     },
     "execution_count": 1347,
     "metadata": {},
     "output_type": "execute_result"
    }
   ],
   "source": [
    "df_all.block_name.unique()"
   ]
  },
  {
   "cell_type": "code",
   "execution_count": 1348,
   "id": "retired-forwarding",
   "metadata": {},
   "outputs": [
    {
     "data": {
      "text/html": [
       "<div>\n",
       "<style scoped>\n",
       "    .dataframe tbody tr th:only-of-type {\n",
       "        vertical-align: middle;\n",
       "    }\n",
       "\n",
       "    .dataframe tbody tr th {\n",
       "        vertical-align: top;\n",
       "    }\n",
       "\n",
       "    .dataframe thead th {\n",
       "        text-align: right;\n",
       "    }\n",
       "</style>\n",
       "<table border=\"1\" class=\"dataframe\">\n",
       "  <thead>\n",
       "    <tr style=\"text-align: right;\">\n",
       "      <th></th>\n",
       "      <th>metric</th>\n",
       "      <th>metric_type</th>\n",
       "      <th>block_number</th>\n",
       "      <th>threshold_factor</th>\n",
       "      <th>block_name</th>\n",
       "      <th>subj_id</th>\n",
       "    </tr>\n",
       "  </thead>\n",
       "  <tbody>\n",
       "    <tr>\n",
       "      <th>224</th>\n",
       "      <td>3.049945</td>\n",
       "      <td>magnitude</td>\n",
       "      <td>6</td>\n",
       "      <td>2.5</td>\n",
       "      <td>FB0</td>\n",
       "      <td>2</td>\n",
       "    </tr>\n",
       "    <tr>\n",
       "      <th>225</th>\n",
       "      <td>0.388847</td>\n",
       "      <td>n_spindles</td>\n",
       "      <td>6</td>\n",
       "      <td>2.5</td>\n",
       "      <td>FB0</td>\n",
       "      <td>2</td>\n",
       "    </tr>\n",
       "    <tr>\n",
       "      <th>226</th>\n",
       "      <td>0.130714</td>\n",
       "      <td>duration</td>\n",
       "      <td>6</td>\n",
       "      <td>2.5</td>\n",
       "      <td>FB0</td>\n",
       "      <td>2</td>\n",
       "    </tr>\n",
       "  </tbody>\n",
       "</table>\n",
       "</div>"
      ],
      "text/plain": [
       "       metric metric_type  block_number  threshold_factor block_name  subj_id\n",
       "224  3.049945   magnitude             6               2.5        FB0        2\n",
       "225  0.388847  n_spindles             6               2.5        FB0        2\n",
       "226  0.130714    duration             6               2.5        FB0        2"
      ]
     },
     "execution_count": 1348,
     "metadata": {},
     "output_type": "execute_result"
    }
   ],
   "source": [
    "df_all.head(3)"
   ]
  },
  {
   "cell_type": "code",
   "execution_count": 1349,
   "id": "subsequent-blake",
   "metadata": {},
   "outputs": [
    {
     "data": {
      "text/plain": [
       "block_name  metric_type  subj_id  block_number\n",
       "FB0         amplitude    2        6               9.391494\n",
       "                                  8               7.594289\n",
       "                                  10              8.255711\n",
       "                                  12              7.567940\n",
       "                                  14              7.366757\n",
       "                                                    ...   \n",
       "FBMock      n_spindles   26       6               0.138874\n",
       "                                  8               0.236086\n",
       "                                  10              0.187480\n",
       "                                  12              0.416623\n",
       "                                  14              1.090164\n",
       "Name: metric, Length: 1920, dtype: float64"
      ]
     },
     "execution_count": 1349,
     "metadata": {},
     "output_type": "execute_result"
    }
   ],
   "source": [
    "group_signal = df_all.groupby(['block_name', 'metric_type', 'subj_id','block_number']).mean()['metric']\n",
    "group_signal"
   ]
  },
  {
   "cell_type": "code",
   "execution_count": 1350,
   "id": "another-nickel",
   "metadata": {},
   "outputs": [],
   "source": [
    "fin = pd.DataFrame(data = group_signal).reset_index()"
   ]
  },
  {
   "cell_type": "code",
   "execution_count": 1351,
   "id": "swedish-adapter",
   "metadata": {},
   "outputs": [
    {
     "data": {
      "text/html": [
       "<div>\n",
       "<style scoped>\n",
       "    .dataframe tbody tr th:only-of-type {\n",
       "        vertical-align: middle;\n",
       "    }\n",
       "\n",
       "    .dataframe tbody tr th {\n",
       "        vertical-align: top;\n",
       "    }\n",
       "\n",
       "    .dataframe thead th {\n",
       "        text-align: right;\n",
       "    }\n",
       "</style>\n",
       "<table border=\"1\" class=\"dataframe\">\n",
       "  <thead>\n",
       "    <tr style=\"text-align: right;\">\n",
       "      <th></th>\n",
       "      <th>block_name</th>\n",
       "      <th>metric_type</th>\n",
       "      <th>subj_id</th>\n",
       "      <th>block_number</th>\n",
       "      <th>metric</th>\n",
       "    </tr>\n",
       "  </thead>\n",
       "  <tbody>\n",
       "    <tr>\n",
       "      <th>0</th>\n",
       "      <td>FB0</td>\n",
       "      <td>amplitude</td>\n",
       "      <td>2</td>\n",
       "      <td>6</td>\n",
       "      <td>9.391494</td>\n",
       "    </tr>\n",
       "    <tr>\n",
       "      <th>1</th>\n",
       "      <td>FB0</td>\n",
       "      <td>amplitude</td>\n",
       "      <td>2</td>\n",
       "      <td>8</td>\n",
       "      <td>7.594289</td>\n",
       "    </tr>\n",
       "    <tr>\n",
       "      <th>2</th>\n",
       "      <td>FB0</td>\n",
       "      <td>amplitude</td>\n",
       "      <td>2</td>\n",
       "      <td>10</td>\n",
       "      <td>8.255711</td>\n",
       "    </tr>\n",
       "  </tbody>\n",
       "</table>\n",
       "</div>"
      ],
      "text/plain": [
       "  block_name metric_type  subj_id  block_number    metric\n",
       "0        FB0   amplitude        2             6  9.391494\n",
       "1        FB0   amplitude        2             8  7.594289\n",
       "2        FB0   amplitude        2            10  8.255711"
      ]
     },
     "execution_count": 1351,
     "metadata": {},
     "output_type": "execute_result"
    }
   ],
   "source": [
    "fin.head(3)"
   ]
  },
  {
   "cell_type": "code",
   "execution_count": 1352,
   "id": "numerous-leeds",
   "metadata": {},
   "outputs": [
    {
     "data": {
      "text/plain": [
       "block_name      0\n",
       "metric_type     0\n",
       "subj_id         0\n",
       "block_number    0\n",
       "metric          0\n",
       "dtype: int64"
      ]
     },
     "execution_count": 1352,
     "metadata": {},
     "output_type": "execute_result"
    }
   ],
   "source": [
    "fin.isna().sum()"
   ]
  },
  {
   "cell_type": "code",
   "execution_count": 1353,
   "id": "naughty-oakland",
   "metadata": {},
   "outputs": [],
   "source": [
    "### Нормировка"
   ]
  },
  {
   "cell_type": "code",
   "execution_count": 1354,
   "id": "golden-company",
   "metadata": {},
   "outputs": [],
   "source": [
    "fin_norm = pd.DataFrame() "
   ]
  },
  {
   "cell_type": "code",
   "execution_count": 1355,
   "id": "comprehensive-chester",
   "metadata": {},
   "outputs": [],
   "source": [
    "fin_amp = fin.loc[fin['metric_type'].isin(['amplitude'])]\n",
    "fin_dur = fin.loc[fin['metric_type'].isin(['duration'])]\n",
    "fin_mag = fin.loc[fin['metric_type'].isin(['magnitude'])]\n",
    "fin_spin = fin.loc[fin['metric_type'].isin(['n_spindles'])]"
   ]
  },
  {
   "cell_type": "code",
   "execution_count": 1356,
   "id": "functioning-liberia",
   "metadata": {},
   "outputs": [
    {
     "name": "stderr",
     "output_type": "stream",
     "text": [
      "<ipython-input-1356-dfb3e240559f>:1: SettingWithCopyWarning: \n",
      "A value is trying to be set on a copy of a slice from a DataFrame.\n",
      "Try using .loc[row_indexer,col_indexer] = value instead\n",
      "\n",
      "See the caveats in the documentation: https://pandas.pydata.org/pandas-docs/stable/user_guide/indexing.html#returning-a-view-versus-a-copy\n",
      "  fin_mag['six'] = fin_mag['metric']\n",
      "/Users/belinskaia/.pyenv/versions/3.9.1/envs/brain3/lib/python3.9/site-packages/pandas/core/indexing.py:1720: SettingWithCopyWarning: \n",
      "A value is trying to be set on a copy of a slice from a DataFrame.\n",
      "Try using .loc[row_indexer,col_indexer] = value instead\n",
      "\n",
      "See the caveats in the documentation: https://pandas.pydata.org/pandas-docs/stable/user_guide/indexing.html#returning-a-view-versus-a-copy\n",
      "  self._setitem_single_column(loc, value, pi)\n",
      "/Users/belinskaia/.pyenv/versions/3.9.1/envs/brain3/lib/python3.9/site-packages/pandas/core/indexing.py:1720: SettingWithCopyWarning: \n",
      "A value is trying to be set on a copy of a slice from a DataFrame.\n",
      "Try using .loc[row_indexer,col_indexer] = value instead\n",
      "\n",
      "See the caveats in the documentation: https://pandas.pydata.org/pandas-docs/stable/user_guide/indexing.html#returning-a-view-versus-a-copy\n",
      "  self._setitem_single_column(loc, value, pi)\n",
      "/Users/belinskaia/.pyenv/versions/3.9.1/envs/brain3/lib/python3.9/site-packages/pandas/core/indexing.py:1720: SettingWithCopyWarning: \n",
      "A value is trying to be set on a copy of a slice from a DataFrame.\n",
      "Try using .loc[row_indexer,col_indexer] = value instead\n",
      "\n",
      "See the caveats in the documentation: https://pandas.pydata.org/pandas-docs/stable/user_guide/indexing.html#returning-a-view-versus-a-copy\n",
      "  self._setitem_single_column(loc, value, pi)\n",
      "/Users/belinskaia/.pyenv/versions/3.9.1/envs/brain3/lib/python3.9/site-packages/pandas/core/indexing.py:1720: SettingWithCopyWarning: \n",
      "A value is trying to be set on a copy of a slice from a DataFrame.\n",
      "Try using .loc[row_indexer,col_indexer] = value instead\n",
      "\n",
      "See the caveats in the documentation: https://pandas.pydata.org/pandas-docs/stable/user_guide/indexing.html#returning-a-view-versus-a-copy\n",
      "  self._setitem_single_column(loc, value, pi)\n",
      "/Users/belinskaia/.pyenv/versions/3.9.1/envs/brain3/lib/python3.9/site-packages/pandas/core/indexing.py:1720: SettingWithCopyWarning: \n",
      "A value is trying to be set on a copy of a slice from a DataFrame.\n",
      "Try using .loc[row_indexer,col_indexer] = value instead\n",
      "\n",
      "See the caveats in the documentation: https://pandas.pydata.org/pandas-docs/stable/user_guide/indexing.html#returning-a-view-versus-a-copy\n",
      "  self._setitem_single_column(loc, value, pi)\n",
      "/Users/belinskaia/.pyenv/versions/3.9.1/envs/brain3/lib/python3.9/site-packages/pandas/core/indexing.py:1720: SettingWithCopyWarning: \n",
      "A value is trying to be set on a copy of a slice from a DataFrame.\n",
      "Try using .loc[row_indexer,col_indexer] = value instead\n",
      "\n",
      "See the caveats in the documentation: https://pandas.pydata.org/pandas-docs/stable/user_guide/indexing.html#returning-a-view-versus-a-copy\n",
      "  self._setitem_single_column(loc, value, pi)\n",
      "/Users/belinskaia/.pyenv/versions/3.9.1/envs/brain3/lib/python3.9/site-packages/pandas/core/indexing.py:1720: SettingWithCopyWarning: \n",
      "A value is trying to be set on a copy of a slice from a DataFrame.\n",
      "Try using .loc[row_indexer,col_indexer] = value instead\n",
      "\n",
      "See the caveats in the documentation: https://pandas.pydata.org/pandas-docs/stable/user_guide/indexing.html#returning-a-view-versus-a-copy\n",
      "  self._setitem_single_column(loc, value, pi)\n",
      "/Users/belinskaia/.pyenv/versions/3.9.1/envs/brain3/lib/python3.9/site-packages/pandas/core/indexing.py:1720: SettingWithCopyWarning: \n",
      "A value is trying to be set on a copy of a slice from a DataFrame.\n",
      "Try using .loc[row_indexer,col_indexer] = value instead\n",
      "\n",
      "See the caveats in the documentation: https://pandas.pydata.org/pandas-docs/stable/user_guide/indexing.html#returning-a-view-versus-a-copy\n",
      "  self._setitem_single_column(loc, value, pi)\n",
      "/Users/belinskaia/.pyenv/versions/3.9.1/envs/brain3/lib/python3.9/site-packages/pandas/core/indexing.py:1720: SettingWithCopyWarning: \n",
      "A value is trying to be set on a copy of a slice from a DataFrame.\n",
      "Try using .loc[row_indexer,col_indexer] = value instead\n",
      "\n",
      "See the caveats in the documentation: https://pandas.pydata.org/pandas-docs/stable/user_guide/indexing.html#returning-a-view-versus-a-copy\n",
      "  self._setitem_single_column(loc, value, pi)\n",
      "/Users/belinskaia/.pyenv/versions/3.9.1/envs/brain3/lib/python3.9/site-packages/pandas/core/indexing.py:1720: SettingWithCopyWarning: \n",
      "A value is trying to be set on a copy of a slice from a DataFrame.\n",
      "Try using .loc[row_indexer,col_indexer] = value instead\n",
      "\n",
      "See the caveats in the documentation: https://pandas.pydata.org/pandas-docs/stable/user_guide/indexing.html#returning-a-view-versus-a-copy\n",
      "  self._setitem_single_column(loc, value, pi)\n",
      "/Users/belinskaia/.pyenv/versions/3.9.1/envs/brain3/lib/python3.9/site-packages/pandas/core/indexing.py:1720: SettingWithCopyWarning: \n",
      "A value is trying to be set on a copy of a slice from a DataFrame.\n",
      "Try using .loc[row_indexer,col_indexer] = value instead\n",
      "\n",
      "See the caveats in the documentation: https://pandas.pydata.org/pandas-docs/stable/user_guide/indexing.html#returning-a-view-versus-a-copy\n",
      "  self._setitem_single_column(loc, value, pi)\n",
      "/Users/belinskaia/.pyenv/versions/3.9.1/envs/brain3/lib/python3.9/site-packages/pandas/core/indexing.py:1720: SettingWithCopyWarning: \n",
      "A value is trying to be set on a copy of a slice from a DataFrame.\n",
      "Try using .loc[row_indexer,col_indexer] = value instead\n",
      "\n",
      "See the caveats in the documentation: https://pandas.pydata.org/pandas-docs/stable/user_guide/indexing.html#returning-a-view-versus-a-copy\n",
      "  self._setitem_single_column(loc, value, pi)\n",
      "/Users/belinskaia/.pyenv/versions/3.9.1/envs/brain3/lib/python3.9/site-packages/pandas/core/indexing.py:1720: SettingWithCopyWarning: \n",
      "A value is trying to be set on a copy of a slice from a DataFrame.\n",
      "Try using .loc[row_indexer,col_indexer] = value instead\n",
      "\n",
      "See the caveats in the documentation: https://pandas.pydata.org/pandas-docs/stable/user_guide/indexing.html#returning-a-view-versus-a-copy\n",
      "  self._setitem_single_column(loc, value, pi)\n",
      "/Users/belinskaia/.pyenv/versions/3.9.1/envs/brain3/lib/python3.9/site-packages/pandas/core/indexing.py:1720: SettingWithCopyWarning: \n",
      "A value is trying to be set on a copy of a slice from a DataFrame.\n",
      "Try using .loc[row_indexer,col_indexer] = value instead\n",
      "\n",
      "See the caveats in the documentation: https://pandas.pydata.org/pandas-docs/stable/user_guide/indexing.html#returning-a-view-versus-a-copy\n",
      "  self._setitem_single_column(loc, value, pi)\n",
      "/Users/belinskaia/.pyenv/versions/3.9.1/envs/brain3/lib/python3.9/site-packages/pandas/core/indexing.py:1720: SettingWithCopyWarning: \n",
      "A value is trying to be set on a copy of a slice from a DataFrame.\n",
      "Try using .loc[row_indexer,col_indexer] = value instead\n",
      "\n",
      "See the caveats in the documentation: https://pandas.pydata.org/pandas-docs/stable/user_guide/indexing.html#returning-a-view-versus-a-copy\n",
      "  self._setitem_single_column(loc, value, pi)\n",
      "/Users/belinskaia/.pyenv/versions/3.9.1/envs/brain3/lib/python3.9/site-packages/pandas/core/indexing.py:1720: SettingWithCopyWarning: \n",
      "A value is trying to be set on a copy of a slice from a DataFrame.\n",
      "Try using .loc[row_indexer,col_indexer] = value instead\n",
      "\n",
      "See the caveats in the documentation: https://pandas.pydata.org/pandas-docs/stable/user_guide/indexing.html#returning-a-view-versus-a-copy\n",
      "  self._setitem_single_column(loc, value, pi)\n",
      "/Users/belinskaia/.pyenv/versions/3.9.1/envs/brain3/lib/python3.9/site-packages/pandas/core/indexing.py:1720: SettingWithCopyWarning: \n",
      "A value is trying to be set on a copy of a slice from a DataFrame.\n",
      "Try using .loc[row_indexer,col_indexer] = value instead\n",
      "\n",
      "See the caveats in the documentation: https://pandas.pydata.org/pandas-docs/stable/user_guide/indexing.html#returning-a-view-versus-a-copy\n",
      "  self._setitem_single_column(loc, value, pi)\n",
      "/Users/belinskaia/.pyenv/versions/3.9.1/envs/brain3/lib/python3.9/site-packages/pandas/core/indexing.py:1720: SettingWithCopyWarning: \n",
      "A value is trying to be set on a copy of a slice from a DataFrame.\n",
      "Try using .loc[row_indexer,col_indexer] = value instead\n",
      "\n",
      "See the caveats in the documentation: https://pandas.pydata.org/pandas-docs/stable/user_guide/indexing.html#returning-a-view-versus-a-copy\n",
      "  self._setitem_single_column(loc, value, pi)\n",
      "/Users/belinskaia/.pyenv/versions/3.9.1/envs/brain3/lib/python3.9/site-packages/pandas/core/indexing.py:1720: SettingWithCopyWarning: \n",
      "A value is trying to be set on a copy of a slice from a DataFrame.\n",
      "Try using .loc[row_indexer,col_indexer] = value instead\n",
      "\n",
      "See the caveats in the documentation: https://pandas.pydata.org/pandas-docs/stable/user_guide/indexing.html#returning-a-view-versus-a-copy\n",
      "  self._setitem_single_column(loc, value, pi)\n",
      "/Users/belinskaia/.pyenv/versions/3.9.1/envs/brain3/lib/python3.9/site-packages/pandas/core/indexing.py:1720: SettingWithCopyWarning: \n",
      "A value is trying to be set on a copy of a slice from a DataFrame.\n",
      "Try using .loc[row_indexer,col_indexer] = value instead\n",
      "\n",
      "See the caveats in the documentation: https://pandas.pydata.org/pandas-docs/stable/user_guide/indexing.html#returning-a-view-versus-a-copy\n",
      "  self._setitem_single_column(loc, value, pi)\n",
      "/Users/belinskaia/.pyenv/versions/3.9.1/envs/brain3/lib/python3.9/site-packages/pandas/core/indexing.py:1720: SettingWithCopyWarning: \n",
      "A value is trying to be set on a copy of a slice from a DataFrame.\n",
      "Try using .loc[row_indexer,col_indexer] = value instead\n",
      "\n",
      "See the caveats in the documentation: https://pandas.pydata.org/pandas-docs/stable/user_guide/indexing.html#returning-a-view-versus-a-copy\n",
      "  self._setitem_single_column(loc, value, pi)\n",
      "/Users/belinskaia/.pyenv/versions/3.9.1/envs/brain3/lib/python3.9/site-packages/pandas/core/indexing.py:1720: SettingWithCopyWarning: \n",
      "A value is trying to be set on a copy of a slice from a DataFrame.\n",
      "Try using .loc[row_indexer,col_indexer] = value instead\n",
      "\n",
      "See the caveats in the documentation: https://pandas.pydata.org/pandas-docs/stable/user_guide/indexing.html#returning-a-view-versus-a-copy\n",
      "  self._setitem_single_column(loc, value, pi)\n",
      "/Users/belinskaia/.pyenv/versions/3.9.1/envs/brain3/lib/python3.9/site-packages/pandas/core/indexing.py:1720: SettingWithCopyWarning: \n",
      "A value is trying to be set on a copy of a slice from a DataFrame.\n",
      "Try using .loc[row_indexer,col_indexer] = value instead\n",
      "\n",
      "See the caveats in the documentation: https://pandas.pydata.org/pandas-docs/stable/user_guide/indexing.html#returning-a-view-versus-a-copy\n",
      "  self._setitem_single_column(loc, value, pi)\n",
      "/Users/belinskaia/.pyenv/versions/3.9.1/envs/brain3/lib/python3.9/site-packages/pandas/core/indexing.py:1720: SettingWithCopyWarning: \n",
      "A value is trying to be set on a copy of a slice from a DataFrame.\n",
      "Try using .loc[row_indexer,col_indexer] = value instead\n",
      "\n",
      "See the caveats in the documentation: https://pandas.pydata.org/pandas-docs/stable/user_guide/indexing.html#returning-a-view-versus-a-copy\n",
      "  self._setitem_single_column(loc, value, pi)\n"
     ]
    }
   ],
   "source": [
    "fin_mag['six'] = fin_mag['metric']\n",
    "for subj_id in fin_mag['subj_id'].unique():\n",
    "    fin_mag.loc[(fin_mag['subj_id']== subj_id),'six'] = fin_mag.loc[(fin_mag['subj_id']== subj_id)&(fin_mag['block_number']==6)].metric.mean()\n",
    "    \n",
    "    "
   ]
  },
  {
   "cell_type": "code",
   "execution_count": 1357,
   "id": "derived-extension",
   "metadata": {},
   "outputs": [
    {
     "name": "stderr",
     "output_type": "stream",
     "text": [
      "<ipython-input-1357-b50d074da14d>:1: SettingWithCopyWarning: \n",
      "A value is trying to be set on a copy of a slice from a DataFrame.\n",
      "Try using .loc[row_indexer,col_indexer] = value instead\n",
      "\n",
      "See the caveats in the documentation: https://pandas.pydata.org/pandas-docs/stable/user_guide/indexing.html#returning-a-view-versus-a-copy\n",
      "  fin_mag['norm'] = fin_mag['metric']/fin_mag['six']\n"
     ]
    },
    {
     "data": {
      "text/html": [
       "<div>\n",
       "<style scoped>\n",
       "    .dataframe tbody tr th:only-of-type {\n",
       "        vertical-align: middle;\n",
       "    }\n",
       "\n",
       "    .dataframe tbody tr th {\n",
       "        vertical-align: top;\n",
       "    }\n",
       "\n",
       "    .dataframe thead th {\n",
       "        text-align: right;\n",
       "    }\n",
       "</style>\n",
       "<table border=\"1\" class=\"dataframe\">\n",
       "  <thead>\n",
       "    <tr style=\"text-align: right;\">\n",
       "      <th></th>\n",
       "      <th>block_name</th>\n",
       "      <th>metric_type</th>\n",
       "      <th>subj_id</th>\n",
       "      <th>block_number</th>\n",
       "      <th>metric</th>\n",
       "      <th>six</th>\n",
       "      <th>norm</th>\n",
       "    </tr>\n",
       "  </thead>\n",
       "  <tbody>\n",
       "    <tr>\n",
       "      <th>240</th>\n",
       "      <td>FB0</td>\n",
       "      <td>magnitude</td>\n",
       "      <td>2</td>\n",
       "      <td>6</td>\n",
       "      <td>3.049945</td>\n",
       "      <td>3.049945</td>\n",
       "      <td>1.000000</td>\n",
       "    </tr>\n",
       "    <tr>\n",
       "      <th>241</th>\n",
       "      <td>FB0</td>\n",
       "      <td>magnitude</td>\n",
       "      <td>2</td>\n",
       "      <td>8</td>\n",
       "      <td>2.855223</td>\n",
       "      <td>3.049945</td>\n",
       "      <td>0.936155</td>\n",
       "    </tr>\n",
       "    <tr>\n",
       "      <th>242</th>\n",
       "      <td>FB0</td>\n",
       "      <td>magnitude</td>\n",
       "      <td>2</td>\n",
       "      <td>10</td>\n",
       "      <td>2.823622</td>\n",
       "      <td>3.049945</td>\n",
       "      <td>0.925794</td>\n",
       "    </tr>\n",
       "    <tr>\n",
       "      <th>243</th>\n",
       "      <td>FB0</td>\n",
       "      <td>magnitude</td>\n",
       "      <td>2</td>\n",
       "      <td>12</td>\n",
       "      <td>2.811081</td>\n",
       "      <td>3.049945</td>\n",
       "      <td>0.921682</td>\n",
       "    </tr>\n",
       "    <tr>\n",
       "      <th>244</th>\n",
       "      <td>FB0</td>\n",
       "      <td>magnitude</td>\n",
       "      <td>2</td>\n",
       "      <td>14</td>\n",
       "      <td>2.917942</td>\n",
       "      <td>3.049945</td>\n",
       "      <td>0.956719</td>\n",
       "    </tr>\n",
       "    <tr>\n",
       "      <th>...</th>\n",
       "      <td>...</td>\n",
       "      <td>...</td>\n",
       "      <td>...</td>\n",
       "      <td>...</td>\n",
       "      <td>...</td>\n",
       "      <td>...</td>\n",
       "      <td>...</td>\n",
       "    </tr>\n",
       "    <tr>\n",
       "      <th>1795</th>\n",
       "      <td>FBMock</td>\n",
       "      <td>magnitude</td>\n",
       "      <td>26</td>\n",
       "      <td>6</td>\n",
       "      <td>3.013892</td>\n",
       "      <td>3.013892</td>\n",
       "      <td>1.000000</td>\n",
       "    </tr>\n",
       "    <tr>\n",
       "      <th>1796</th>\n",
       "      <td>FBMock</td>\n",
       "      <td>magnitude</td>\n",
       "      <td>26</td>\n",
       "      <td>8</td>\n",
       "      <td>3.247797</td>\n",
       "      <td>3.013892</td>\n",
       "      <td>1.077609</td>\n",
       "    </tr>\n",
       "    <tr>\n",
       "      <th>1797</th>\n",
       "      <td>FBMock</td>\n",
       "      <td>magnitude</td>\n",
       "      <td>26</td>\n",
       "      <td>10</td>\n",
       "      <td>3.297840</td>\n",
       "      <td>3.013892</td>\n",
       "      <td>1.094213</td>\n",
       "    </tr>\n",
       "    <tr>\n",
       "      <th>1798</th>\n",
       "      <td>FBMock</td>\n",
       "      <td>magnitude</td>\n",
       "      <td>26</td>\n",
       "      <td>12</td>\n",
       "      <td>3.634811</td>\n",
       "      <td>3.013892</td>\n",
       "      <td>1.206019</td>\n",
       "    </tr>\n",
       "    <tr>\n",
       "      <th>1799</th>\n",
       "      <td>FBMock</td>\n",
       "      <td>magnitude</td>\n",
       "      <td>26</td>\n",
       "      <td>14</td>\n",
       "      <td>4.311209</td>\n",
       "      <td>3.013892</td>\n",
       "      <td>1.430446</td>\n",
       "    </tr>\n",
       "  </tbody>\n",
       "</table>\n",
       "<p>480 rows × 7 columns</p>\n",
       "</div>"
      ],
      "text/plain": [
       "     block_name metric_type  subj_id  block_number    metric       six  \\\n",
       "240         FB0   magnitude        2             6  3.049945  3.049945   \n",
       "241         FB0   magnitude        2             8  2.855223  3.049945   \n",
       "242         FB0   magnitude        2            10  2.823622  3.049945   \n",
       "243         FB0   magnitude        2            12  2.811081  3.049945   \n",
       "244         FB0   magnitude        2            14  2.917942  3.049945   \n",
       "...         ...         ...      ...           ...       ...       ...   \n",
       "1795     FBMock   magnitude       26             6  3.013892  3.013892   \n",
       "1796     FBMock   magnitude       26             8  3.247797  3.013892   \n",
       "1797     FBMock   magnitude       26            10  3.297840  3.013892   \n",
       "1798     FBMock   magnitude       26            12  3.634811  3.013892   \n",
       "1799     FBMock   magnitude       26            14  4.311209  3.013892   \n",
       "\n",
       "          norm  \n",
       "240   1.000000  \n",
       "241   0.936155  \n",
       "242   0.925794  \n",
       "243   0.921682  \n",
       "244   0.956719  \n",
       "...        ...  \n",
       "1795  1.000000  \n",
       "1796  1.077609  \n",
       "1797  1.094213  \n",
       "1798  1.206019  \n",
       "1799  1.430446  \n",
       "\n",
       "[480 rows x 7 columns]"
      ]
     },
     "execution_count": 1357,
     "metadata": {},
     "output_type": "execute_result"
    }
   ],
   "source": [
    "fin_mag['norm'] = fin_mag['metric']/fin_mag['six']\n",
    "fin_mag"
   ]
  },
  {
   "cell_type": "code",
   "execution_count": 1358,
   "id": "cooked-disabled",
   "metadata": {},
   "outputs": [],
   "source": [
    "fin_norm = fin_norm.append(fin_mag)"
   ]
  },
  {
   "cell_type": "code",
   "execution_count": 1359,
   "id": "brief-douglas",
   "metadata": {},
   "outputs": [
    {
     "data": {
      "text/plain": [
       "array(['magnitude'], dtype=object)"
      ]
     },
     "execution_count": 1359,
     "metadata": {},
     "output_type": "execute_result"
    }
   ],
   "source": [
    "fin_norm.metric_type.unique()"
   ]
  },
  {
   "cell_type": "code",
   "execution_count": 1360,
   "id": "instrumental-scholar",
   "metadata": {},
   "outputs": [
    {
     "data": {
      "text/html": [
       "<div>\n",
       "<style scoped>\n",
       "    .dataframe tbody tr th:only-of-type {\n",
       "        vertical-align: middle;\n",
       "    }\n",
       "\n",
       "    .dataframe tbody tr th {\n",
       "        vertical-align: top;\n",
       "    }\n",
       "\n",
       "    .dataframe thead th {\n",
       "        text-align: right;\n",
       "    }\n",
       "</style>\n",
       "<table border=\"1\" class=\"dataframe\">\n",
       "  <thead>\n",
       "    <tr style=\"text-align: right;\">\n",
       "      <th></th>\n",
       "      <th>block_name</th>\n",
       "      <th>metric_type</th>\n",
       "      <th>subj_id</th>\n",
       "      <th>block_number</th>\n",
       "      <th>metric</th>\n",
       "      <th>six</th>\n",
       "      <th>norm</th>\n",
       "    </tr>\n",
       "  </thead>\n",
       "  <tbody>\n",
       "    <tr>\n",
       "      <th>240</th>\n",
       "      <td>FB0</td>\n",
       "      <td>magnitude</td>\n",
       "      <td>2</td>\n",
       "      <td>6</td>\n",
       "      <td>3.049945</td>\n",
       "      <td>3.049945</td>\n",
       "      <td>1.000000</td>\n",
       "    </tr>\n",
       "    <tr>\n",
       "      <th>241</th>\n",
       "      <td>FB0</td>\n",
       "      <td>magnitude</td>\n",
       "      <td>2</td>\n",
       "      <td>8</td>\n",
       "      <td>2.855223</td>\n",
       "      <td>3.049945</td>\n",
       "      <td>0.936155</td>\n",
       "    </tr>\n",
       "    <tr>\n",
       "      <th>242</th>\n",
       "      <td>FB0</td>\n",
       "      <td>magnitude</td>\n",
       "      <td>2</td>\n",
       "      <td>10</td>\n",
       "      <td>2.823622</td>\n",
       "      <td>3.049945</td>\n",
       "      <td>0.925794</td>\n",
       "    </tr>\n",
       "    <tr>\n",
       "      <th>243</th>\n",
       "      <td>FB0</td>\n",
       "      <td>magnitude</td>\n",
       "      <td>2</td>\n",
       "      <td>12</td>\n",
       "      <td>2.811081</td>\n",
       "      <td>3.049945</td>\n",
       "      <td>0.921682</td>\n",
       "    </tr>\n",
       "    <tr>\n",
       "      <th>244</th>\n",
       "      <td>FB0</td>\n",
       "      <td>magnitude</td>\n",
       "      <td>2</td>\n",
       "      <td>14</td>\n",
       "      <td>2.917942</td>\n",
       "      <td>3.049945</td>\n",
       "      <td>0.956719</td>\n",
       "    </tr>\n",
       "    <tr>\n",
       "      <th>...</th>\n",
       "      <td>...</td>\n",
       "      <td>...</td>\n",
       "      <td>...</td>\n",
       "      <td>...</td>\n",
       "      <td>...</td>\n",
       "      <td>...</td>\n",
       "      <td>...</td>\n",
       "    </tr>\n",
       "    <tr>\n",
       "      <th>1795</th>\n",
       "      <td>FBMock</td>\n",
       "      <td>magnitude</td>\n",
       "      <td>26</td>\n",
       "      <td>6</td>\n",
       "      <td>3.013892</td>\n",
       "      <td>3.013892</td>\n",
       "      <td>1.000000</td>\n",
       "    </tr>\n",
       "    <tr>\n",
       "      <th>1796</th>\n",
       "      <td>FBMock</td>\n",
       "      <td>magnitude</td>\n",
       "      <td>26</td>\n",
       "      <td>8</td>\n",
       "      <td>3.247797</td>\n",
       "      <td>3.013892</td>\n",
       "      <td>1.077609</td>\n",
       "    </tr>\n",
       "    <tr>\n",
       "      <th>1797</th>\n",
       "      <td>FBMock</td>\n",
       "      <td>magnitude</td>\n",
       "      <td>26</td>\n",
       "      <td>10</td>\n",
       "      <td>3.297840</td>\n",
       "      <td>3.013892</td>\n",
       "      <td>1.094213</td>\n",
       "    </tr>\n",
       "    <tr>\n",
       "      <th>1798</th>\n",
       "      <td>FBMock</td>\n",
       "      <td>magnitude</td>\n",
       "      <td>26</td>\n",
       "      <td>12</td>\n",
       "      <td>3.634811</td>\n",
       "      <td>3.013892</td>\n",
       "      <td>1.206019</td>\n",
       "    </tr>\n",
       "    <tr>\n",
       "      <th>1799</th>\n",
       "      <td>FBMock</td>\n",
       "      <td>magnitude</td>\n",
       "      <td>26</td>\n",
       "      <td>14</td>\n",
       "      <td>4.311209</td>\n",
       "      <td>3.013892</td>\n",
       "      <td>1.430446</td>\n",
       "    </tr>\n",
       "  </tbody>\n",
       "</table>\n",
       "<p>480 rows × 7 columns</p>\n",
       "</div>"
      ],
      "text/plain": [
       "     block_name metric_type  subj_id  block_number    metric       six  \\\n",
       "240         FB0   magnitude        2             6  3.049945  3.049945   \n",
       "241         FB0   magnitude        2             8  2.855223  3.049945   \n",
       "242         FB0   magnitude        2            10  2.823622  3.049945   \n",
       "243         FB0   magnitude        2            12  2.811081  3.049945   \n",
       "244         FB0   magnitude        2            14  2.917942  3.049945   \n",
       "...         ...         ...      ...           ...       ...       ...   \n",
       "1795     FBMock   magnitude       26             6  3.013892  3.013892   \n",
       "1796     FBMock   magnitude       26             8  3.247797  3.013892   \n",
       "1797     FBMock   magnitude       26            10  3.297840  3.013892   \n",
       "1798     FBMock   magnitude       26            12  3.634811  3.013892   \n",
       "1799     FBMock   magnitude       26            14  4.311209  3.013892   \n",
       "\n",
       "          norm  \n",
       "240   1.000000  \n",
       "241   0.936155  \n",
       "242   0.925794  \n",
       "243   0.921682  \n",
       "244   0.956719  \n",
       "...        ...  \n",
       "1795  1.000000  \n",
       "1796  1.077609  \n",
       "1797  1.094213  \n",
       "1798  1.206019  \n",
       "1799  1.430446  \n",
       "\n",
       "[480 rows x 7 columns]"
      ]
     },
     "execution_count": 1360,
     "metadata": {},
     "output_type": "execute_result"
    }
   ],
   "source": [
    "fin_norm"
   ]
  },
  {
   "cell_type": "code",
   "execution_count": 1361,
   "id": "appropriate-latvia",
   "metadata": {},
   "outputs": [],
   "source": [
    "fin_norm.to_csv('all_norm_23_02_22.csv', index=False)"
   ]
  },
  {
   "cell_type": "code",
   "execution_count": 1362,
   "id": "thermal-newton",
   "metadata": {},
   "outputs": [],
   "source": [
    "# Порядок"
   ]
  },
  {
   "cell_type": "code",
   "execution_count": 1363,
   "id": "protected-essay",
   "metadata": {},
   "outputs": [],
   "source": [
    "fin_norm = fin_norm.loc[fin_norm['block_name'].isin(['FB0', 'FB500','FB1000','FBMock'])]"
   ]
  },
  {
   "cell_type": "code",
   "execution_count": 1364,
   "id": "constitutional-psychiatry",
   "metadata": {},
   "outputs": [
    {
     "data": {
      "text/plain": [
       "block_name      0\n",
       "metric_type     0\n",
       "subj_id         0\n",
       "block_number    0\n",
       "metric          0\n",
       "six             0\n",
       "norm            0\n",
       "dtype: int64"
      ]
     },
     "execution_count": 1364,
     "metadata": {},
     "output_type": "execute_result"
    }
   ],
   "source": [
    "fin_norm.isna().sum()"
   ]
  },
  {
   "cell_type": "code",
   "execution_count": 1365,
   "id": "thousand-treasure",
   "metadata": {},
   "outputs": [
    {
     "data": {
      "text/html": [
       "<div>\n",
       "<style scoped>\n",
       "    .dataframe tbody tr th:only-of-type {\n",
       "        vertical-align: middle;\n",
       "    }\n",
       "\n",
       "    .dataframe tbody tr th {\n",
       "        vertical-align: top;\n",
       "    }\n",
       "\n",
       "    .dataframe thead th {\n",
       "        text-align: right;\n",
       "    }\n",
       "</style>\n",
       "<table border=\"1\" class=\"dataframe\">\n",
       "  <thead>\n",
       "    <tr style=\"text-align: right;\">\n",
       "      <th></th>\n",
       "      <th>block_name</th>\n",
       "      <th>metric_type</th>\n",
       "      <th>subj_id</th>\n",
       "      <th>block_number</th>\n",
       "      <th>metric</th>\n",
       "      <th>six</th>\n",
       "      <th>norm</th>\n",
       "    </tr>\n",
       "  </thead>\n",
       "  <tbody>\n",
       "    <tr>\n",
       "      <th>240</th>\n",
       "      <td>FB0</td>\n",
       "      <td>magnitude</td>\n",
       "      <td>2</td>\n",
       "      <td>6</td>\n",
       "      <td>3.049945</td>\n",
       "      <td>3.049945</td>\n",
       "      <td>1.000000</td>\n",
       "    </tr>\n",
       "    <tr>\n",
       "      <th>241</th>\n",
       "      <td>FB0</td>\n",
       "      <td>magnitude</td>\n",
       "      <td>2</td>\n",
       "      <td>8</td>\n",
       "      <td>2.855223</td>\n",
       "      <td>3.049945</td>\n",
       "      <td>0.936155</td>\n",
       "    </tr>\n",
       "    <tr>\n",
       "      <th>242</th>\n",
       "      <td>FB0</td>\n",
       "      <td>magnitude</td>\n",
       "      <td>2</td>\n",
       "      <td>10</td>\n",
       "      <td>2.823622</td>\n",
       "      <td>3.049945</td>\n",
       "      <td>0.925794</td>\n",
       "    </tr>\n",
       "    <tr>\n",
       "      <th>243</th>\n",
       "      <td>FB0</td>\n",
       "      <td>magnitude</td>\n",
       "      <td>2</td>\n",
       "      <td>12</td>\n",
       "      <td>2.811081</td>\n",
       "      <td>3.049945</td>\n",
       "      <td>0.921682</td>\n",
       "    </tr>\n",
       "    <tr>\n",
       "      <th>244</th>\n",
       "      <td>FB0</td>\n",
       "      <td>magnitude</td>\n",
       "      <td>2</td>\n",
       "      <td>14</td>\n",
       "      <td>2.917942</td>\n",
       "      <td>3.049945</td>\n",
       "      <td>0.956719</td>\n",
       "    </tr>\n",
       "    <tr>\n",
       "      <th>...</th>\n",
       "      <td>...</td>\n",
       "      <td>...</td>\n",
       "      <td>...</td>\n",
       "      <td>...</td>\n",
       "      <td>...</td>\n",
       "      <td>...</td>\n",
       "      <td>...</td>\n",
       "    </tr>\n",
       "    <tr>\n",
       "      <th>1795</th>\n",
       "      <td>FBMock</td>\n",
       "      <td>magnitude</td>\n",
       "      <td>26</td>\n",
       "      <td>6</td>\n",
       "      <td>3.013892</td>\n",
       "      <td>3.013892</td>\n",
       "      <td>1.000000</td>\n",
       "    </tr>\n",
       "    <tr>\n",
       "      <th>1796</th>\n",
       "      <td>FBMock</td>\n",
       "      <td>magnitude</td>\n",
       "      <td>26</td>\n",
       "      <td>8</td>\n",
       "      <td>3.247797</td>\n",
       "      <td>3.013892</td>\n",
       "      <td>1.077609</td>\n",
       "    </tr>\n",
       "    <tr>\n",
       "      <th>1797</th>\n",
       "      <td>FBMock</td>\n",
       "      <td>magnitude</td>\n",
       "      <td>26</td>\n",
       "      <td>10</td>\n",
       "      <td>3.297840</td>\n",
       "      <td>3.013892</td>\n",
       "      <td>1.094213</td>\n",
       "    </tr>\n",
       "    <tr>\n",
       "      <th>1798</th>\n",
       "      <td>FBMock</td>\n",
       "      <td>magnitude</td>\n",
       "      <td>26</td>\n",
       "      <td>12</td>\n",
       "      <td>3.634811</td>\n",
       "      <td>3.013892</td>\n",
       "      <td>1.206019</td>\n",
       "    </tr>\n",
       "    <tr>\n",
       "      <th>1799</th>\n",
       "      <td>FBMock</td>\n",
       "      <td>magnitude</td>\n",
       "      <td>26</td>\n",
       "      <td>14</td>\n",
       "      <td>4.311209</td>\n",
       "      <td>3.013892</td>\n",
       "      <td>1.430446</td>\n",
       "    </tr>\n",
       "  </tbody>\n",
       "</table>\n",
       "<p>480 rows × 7 columns</p>\n",
       "</div>"
      ],
      "text/plain": [
       "     block_name metric_type  subj_id  block_number    metric       six  \\\n",
       "240         FB0   magnitude        2             6  3.049945  3.049945   \n",
       "241         FB0   magnitude        2             8  2.855223  3.049945   \n",
       "242         FB0   magnitude        2            10  2.823622  3.049945   \n",
       "243         FB0   magnitude        2            12  2.811081  3.049945   \n",
       "244         FB0   magnitude        2            14  2.917942  3.049945   \n",
       "...         ...         ...      ...           ...       ...       ...   \n",
       "1795     FBMock   magnitude       26             6  3.013892  3.013892   \n",
       "1796     FBMock   magnitude       26             8  3.247797  3.013892   \n",
       "1797     FBMock   magnitude       26            10  3.297840  3.013892   \n",
       "1798     FBMock   magnitude       26            12  3.634811  3.013892   \n",
       "1799     FBMock   magnitude       26            14  4.311209  3.013892   \n",
       "\n",
       "          norm  \n",
       "240   1.000000  \n",
       "241   0.936155  \n",
       "242   0.925794  \n",
       "243   0.921682  \n",
       "244   0.956719  \n",
       "...        ...  \n",
       "1795  1.000000  \n",
       "1796  1.077609  \n",
       "1797  1.094213  \n",
       "1798  1.206019  \n",
       "1799  1.430446  \n",
       "\n",
       "[480 rows x 7 columns]"
      ]
     },
     "execution_count": 1365,
     "metadata": {},
     "output_type": "execute_result"
    }
   ],
   "source": [
    "fin_norm"
   ]
  },
  {
   "cell_type": "code",
   "execution_count": 1366,
   "id": "attached-potter",
   "metadata": {},
   "outputs": [],
   "source": [
    "def order_fun(a):\n",
    "    if a == 6:\n",
    "        return(1)\n",
    "    elif a == 21:\n",
    "        return(2)\n",
    "    elif a == 36:\n",
    "        return(3)\n",
    "    else:\n",
    "        return(4)"
   ]
  },
  {
   "cell_type": "code",
   "execution_count": 1367,
   "id": "derived-grounds",
   "metadata": {},
   "outputs": [
    {
     "data": {
      "text/html": [
       "<div>\n",
       "<style scoped>\n",
       "    .dataframe tbody tr th:only-of-type {\n",
       "        vertical-align: middle;\n",
       "    }\n",
       "\n",
       "    .dataframe tbody tr th {\n",
       "        vertical-align: top;\n",
       "    }\n",
       "\n",
       "    .dataframe thead th {\n",
       "        text-align: right;\n",
       "    }\n",
       "</style>\n",
       "<table border=\"1\" class=\"dataframe\">\n",
       "  <thead>\n",
       "    <tr style=\"text-align: right;\">\n",
       "      <th></th>\n",
       "      <th>block_name</th>\n",
       "      <th>metric_type</th>\n",
       "      <th>subj_id</th>\n",
       "      <th>block_number</th>\n",
       "      <th>metric</th>\n",
       "      <th>six</th>\n",
       "      <th>norm</th>\n",
       "      <th>order</th>\n",
       "    </tr>\n",
       "  </thead>\n",
       "  <tbody>\n",
       "    <tr>\n",
       "      <th>240</th>\n",
       "      <td>FB0</td>\n",
       "      <td>magnitude</td>\n",
       "      <td>2</td>\n",
       "      <td>6</td>\n",
       "      <td>3.049945</td>\n",
       "      <td>3.049945</td>\n",
       "      <td>1.000000</td>\n",
       "      <td>1.0</td>\n",
       "    </tr>\n",
       "    <tr>\n",
       "      <th>241</th>\n",
       "      <td>FB0</td>\n",
       "      <td>magnitude</td>\n",
       "      <td>2</td>\n",
       "      <td>8</td>\n",
       "      <td>2.855223</td>\n",
       "      <td>3.049945</td>\n",
       "      <td>0.936155</td>\n",
       "      <td>1.0</td>\n",
       "    </tr>\n",
       "    <tr>\n",
       "      <th>242</th>\n",
       "      <td>FB0</td>\n",
       "      <td>magnitude</td>\n",
       "      <td>2</td>\n",
       "      <td>10</td>\n",
       "      <td>2.823622</td>\n",
       "      <td>3.049945</td>\n",
       "      <td>0.925794</td>\n",
       "      <td>1.0</td>\n",
       "    </tr>\n",
       "  </tbody>\n",
       "</table>\n",
       "</div>"
      ],
      "text/plain": [
       "    block_name metric_type  subj_id  block_number    metric       six  \\\n",
       "240        FB0   magnitude        2             6  3.049945  3.049945   \n",
       "241        FB0   magnitude        2             8  2.855223  3.049945   \n",
       "242        FB0   magnitude        2            10  2.823622  3.049945   \n",
       "\n",
       "         norm  order  \n",
       "240  1.000000    1.0  \n",
       "241  0.936155    1.0  \n",
       "242  0.925794    1.0  "
      ]
     },
     "execution_count": 1367,
     "metadata": {},
     "output_type": "execute_result"
    }
   ],
   "source": [
    "for i, row in fin_norm.iterrows():\n",
    "    subj_id = row['subj_id']\n",
    "    block_name = row['block_name']\n",
    "    min_block_in_fb = fin_norm.loc[(fin['block_name']== block_name)&(fin_norm['subj_id']== subj_id)].block_number.min()\n",
    "    fin_norm.at[i,'order'] = order_fun(min_block_in_fb)\n",
    "fin_norm.head(3)"
   ]
  },
  {
   "cell_type": "code",
   "execution_count": 1368,
   "id": "consecutive-stable",
   "metadata": {},
   "outputs": [
    {
     "data": {
      "text/plain": [
       "array([1., 2., 3., 4.])"
      ]
     },
     "execution_count": 1368,
     "metadata": {},
     "output_type": "execute_result"
    }
   ],
   "source": [
    "fin_norm.order.unique()"
   ]
  },
  {
   "cell_type": "code",
   "execution_count": 1369,
   "id": "handed-nirvana",
   "metadata": {},
   "outputs": [],
   "source": [
    "#Проверка правильности порядков \n",
    "# 21 - 2, 6- 1\n",
    "#fin_norm.loc[(fin_norm.block_number == 21)]"
   ]
  },
  {
   "cell_type": "code",
   "execution_count": 1370,
   "id": "minimal-pierre",
   "metadata": {},
   "outputs": [
    {
     "data": {
      "text/plain": [
       "array([ 1,  2,  3,  4,  5,  6,  7,  8,  9, 10, 13, 14, 15, 16, 17, 18, 20,\n",
       "       21, 22, 23, 24, 25, 26, 12, 19])"
      ]
     },
     "execution_count": 1370,
     "metadata": {},
     "output_type": "execute_result"
    }
   ],
   "source": [
    "fin_mag_norm.subj_id.unique()"
   ]
  },
  {
   "cell_type": "code",
   "execution_count": 1371,
   "id": "welcome-ecuador",
   "metadata": {},
   "outputs": [],
   "source": [
    "#fin_mag_norm = fin_mag_norm.drop(fin_mag_norm[fin_mag_norm['subj_id'] == 12].index)\n",
    "#fin_mag_norm = fin_mag_norm.drop(fin_mag_norm[fin_mag_norm['subj_id'] == 19].index)\n",
    "\n",
    "#df_all = df_all.drop(df_all[df_all['subj_id'] == 23].index)"
   ]
  },
  {
   "cell_type": "code",
   "execution_count": 1372,
   "id": "specified-violin",
   "metadata": {},
   "outputs": [],
   "source": [
    "#fin_mag_norm.loc[fin_mag_norm['block_name'].isin(['FBMock'])]"
   ]
  },
  {
   "cell_type": "code",
   "execution_count": 1373,
   "id": "horizontal-penetration",
   "metadata": {},
   "outputs": [],
   "source": [
    "#fin_mag_norm_subj_id = fin_mag_norm.loc[fin_mag_norm['subj_id'].isin([22])]\n",
    "#sns.lmplot(x=\"block_number\", y=\"norm\", col=\"block_name\", data=fin_mag_norm_subj_id)\n"
   ]
  },
  {
   "cell_type": "code",
   "execution_count": 1374,
   "id": "bronze-friday",
   "metadata": {},
   "outputs": [],
   "source": [
    "fin_amp_norm = fin_norm.loc[fin_norm['metric_type'].isin(['amplitude'])]\n",
    "fin_dur_norm = fin_norm.loc[fin_norm['metric_type'].isin(['duration'])]\n",
    "fin_mag_norm = fin_norm.loc[fin_norm['metric_type'].isin(['magnitude'])]\n",
    "fin_spin_norm = fin_norm.loc[fin_norm['metric_type'].isin(['n_spindles'])]"
   ]
  },
  {
   "cell_type": "code",
   "execution_count": 1375,
   "id": "postal-press",
   "metadata": {},
   "outputs": [],
   "source": [
    "#fin_mag_norm = fin_norm.loc[fin_norm['metric_type'].isin(['magnitude'])]\n",
    "#fin_mag_norm_subj_id = fin_mag_norm.loc[fin_mag_norm['subj_id'].isin([2])]\n",
    "fin_mag_norm_1 = fin_mag_norm.loc[fin_mag_norm['order'].isin([1])]\n",
    "fin_mag_norm_2 = fin_mag_norm.loc[fin_mag_norm['order'].isin([2])]\n",
    "fin_mag_norm_3 = fin_mag_norm.loc[fin_mag_norm['order'].isin([3])]\n",
    "fin_mag_norm_4 = fin_mag_norm.loc[fin_mag_norm['order'].isin([4])]"
   ]
  },
  {
   "cell_type": "code",
   "execution_count": 1376,
   "id": "small-airfare",
   "metadata": {},
   "outputs": [
    {
     "data": {
      "text/html": [
       "<div>\n",
       "<style scoped>\n",
       "    .dataframe tbody tr th:only-of-type {\n",
       "        vertical-align: middle;\n",
       "    }\n",
       "\n",
       "    .dataframe tbody tr th {\n",
       "        vertical-align: top;\n",
       "    }\n",
       "\n",
       "    .dataframe thead th {\n",
       "        text-align: right;\n",
       "    }\n",
       "</style>\n",
       "<table border=\"1\" class=\"dataframe\">\n",
       "  <thead>\n",
       "    <tr style=\"text-align: right;\">\n",
       "      <th></th>\n",
       "      <th>block_name</th>\n",
       "      <th>metric_type</th>\n",
       "      <th>subj_id</th>\n",
       "      <th>block_number</th>\n",
       "      <th>metric</th>\n",
       "      <th>six</th>\n",
       "      <th>norm</th>\n",
       "      <th>order</th>\n",
       "    </tr>\n",
       "  </thead>\n",
       "  <tbody>\n",
       "    <tr>\n",
       "      <th>240</th>\n",
       "      <td>FB0</td>\n",
       "      <td>magnitude</td>\n",
       "      <td>2</td>\n",
       "      <td>6</td>\n",
       "      <td>3.049945</td>\n",
       "      <td>3.049945</td>\n",
       "      <td>1.000000</td>\n",
       "      <td>1.0</td>\n",
       "    </tr>\n",
       "    <tr>\n",
       "      <th>241</th>\n",
       "      <td>FB0</td>\n",
       "      <td>magnitude</td>\n",
       "      <td>2</td>\n",
       "      <td>8</td>\n",
       "      <td>2.855223</td>\n",
       "      <td>3.049945</td>\n",
       "      <td>0.936155</td>\n",
       "      <td>1.0</td>\n",
       "    </tr>\n",
       "    <tr>\n",
       "      <th>242</th>\n",
       "      <td>FB0</td>\n",
       "      <td>magnitude</td>\n",
       "      <td>2</td>\n",
       "      <td>10</td>\n",
       "      <td>2.823622</td>\n",
       "      <td>3.049945</td>\n",
       "      <td>0.925794</td>\n",
       "      <td>1.0</td>\n",
       "    </tr>\n",
       "    <tr>\n",
       "      <th>243</th>\n",
       "      <td>FB0</td>\n",
       "      <td>magnitude</td>\n",
       "      <td>2</td>\n",
       "      <td>12</td>\n",
       "      <td>2.811081</td>\n",
       "      <td>3.049945</td>\n",
       "      <td>0.921682</td>\n",
       "      <td>1.0</td>\n",
       "    </tr>\n",
       "    <tr>\n",
       "      <th>244</th>\n",
       "      <td>FB0</td>\n",
       "      <td>magnitude</td>\n",
       "      <td>2</td>\n",
       "      <td>14</td>\n",
       "      <td>2.917942</td>\n",
       "      <td>3.049945</td>\n",
       "      <td>0.956719</td>\n",
       "      <td>1.0</td>\n",
       "    </tr>\n",
       "    <tr>\n",
       "      <th>...</th>\n",
       "      <td>...</td>\n",
       "      <td>...</td>\n",
       "      <td>...</td>\n",
       "      <td>...</td>\n",
       "      <td>...</td>\n",
       "      <td>...</td>\n",
       "      <td>...</td>\n",
       "      <td>...</td>\n",
       "    </tr>\n",
       "    <tr>\n",
       "      <th>1795</th>\n",
       "      <td>FBMock</td>\n",
       "      <td>magnitude</td>\n",
       "      <td>26</td>\n",
       "      <td>6</td>\n",
       "      <td>3.013892</td>\n",
       "      <td>3.013892</td>\n",
       "      <td>1.000000</td>\n",
       "      <td>1.0</td>\n",
       "    </tr>\n",
       "    <tr>\n",
       "      <th>1796</th>\n",
       "      <td>FBMock</td>\n",
       "      <td>magnitude</td>\n",
       "      <td>26</td>\n",
       "      <td>8</td>\n",
       "      <td>3.247797</td>\n",
       "      <td>3.013892</td>\n",
       "      <td>1.077609</td>\n",
       "      <td>1.0</td>\n",
       "    </tr>\n",
       "    <tr>\n",
       "      <th>1797</th>\n",
       "      <td>FBMock</td>\n",
       "      <td>magnitude</td>\n",
       "      <td>26</td>\n",
       "      <td>10</td>\n",
       "      <td>3.297840</td>\n",
       "      <td>3.013892</td>\n",
       "      <td>1.094213</td>\n",
       "      <td>1.0</td>\n",
       "    </tr>\n",
       "    <tr>\n",
       "      <th>1798</th>\n",
       "      <td>FBMock</td>\n",
       "      <td>magnitude</td>\n",
       "      <td>26</td>\n",
       "      <td>12</td>\n",
       "      <td>3.634811</td>\n",
       "      <td>3.013892</td>\n",
       "      <td>1.206019</td>\n",
       "      <td>1.0</td>\n",
       "    </tr>\n",
       "    <tr>\n",
       "      <th>1799</th>\n",
       "      <td>FBMock</td>\n",
       "      <td>magnitude</td>\n",
       "      <td>26</td>\n",
       "      <td>14</td>\n",
       "      <td>4.311209</td>\n",
       "      <td>3.013892</td>\n",
       "      <td>1.430446</td>\n",
       "      <td>1.0</td>\n",
       "    </tr>\n",
       "  </tbody>\n",
       "</table>\n",
       "<p>480 rows × 8 columns</p>\n",
       "</div>"
      ],
      "text/plain": [
       "     block_name metric_type  subj_id  block_number    metric       six  \\\n",
       "240         FB0   magnitude        2             6  3.049945  3.049945   \n",
       "241         FB0   magnitude        2             8  2.855223  3.049945   \n",
       "242         FB0   magnitude        2            10  2.823622  3.049945   \n",
       "243         FB0   magnitude        2            12  2.811081  3.049945   \n",
       "244         FB0   magnitude        2            14  2.917942  3.049945   \n",
       "...         ...         ...      ...           ...       ...       ...   \n",
       "1795     FBMock   magnitude       26             6  3.013892  3.013892   \n",
       "1796     FBMock   magnitude       26             8  3.247797  3.013892   \n",
       "1797     FBMock   magnitude       26            10  3.297840  3.013892   \n",
       "1798     FBMock   magnitude       26            12  3.634811  3.013892   \n",
       "1799     FBMock   magnitude       26            14  4.311209  3.013892   \n",
       "\n",
       "          norm  order  \n",
       "240   1.000000    1.0  \n",
       "241   0.936155    1.0  \n",
       "242   0.925794    1.0  \n",
       "243   0.921682    1.0  \n",
       "244   0.956719    1.0  \n",
       "...        ...    ...  \n",
       "1795  1.000000    1.0  \n",
       "1796  1.077609    1.0  \n",
       "1797  1.094213    1.0  \n",
       "1798  1.206019    1.0  \n",
       "1799  1.430446    1.0  \n",
       "\n",
       "[480 rows x 8 columns]"
      ]
     },
     "execution_count": 1376,
     "metadata": {},
     "output_type": "execute_result"
    }
   ],
   "source": [
    "fin_mag_norm"
   ]
  },
  {
   "cell_type": "code",
   "execution_count": 1377,
   "id": "falling-bangladesh",
   "metadata": {},
   "outputs": [],
   "source": [
    "fin_mag_norm = fin_mag_norm.drop(fin_mag_norm[fin_mag_norm['norm'] >= 1.6].index)"
   ]
  },
  {
   "cell_type": "code",
   "execution_count": 1378,
   "id": "purple-toronto",
   "metadata": {},
   "outputs": [
    {
     "data": {
      "text/plain": [
       "<seaborn.axisgrid.FacetGrid at 0x1787137f0>"
      ]
     },
     "execution_count": 1378,
     "metadata": {},
     "output_type": "execute_result"
    },
    {
     "data": {
      "image/png": "[encoded data removed]",
      "text/plain": [
       "<Figure size 1440x360 with 4 Axes>"
      ]
     },
     "metadata": {
      "needs_background": "light"
     },
     "output_type": "display_data"
    }
   ],
   "source": [
    "sns.lmplot(x=\"block_number\", y=\"norm\", col=\"block_name\", col_order=['FB0', 'FB500', 'FB1000', 'FBMock'], data=fin_mag_norm)\n",
    "\n"
   ]
  },
  {
   "cell_type": "code",
   "execution_count": 1379,
   "id": "lonely-reproduction",
   "metadata": {},
   "outputs": [
    {
     "name": "stdout",
     "output_type": "stream",
     "text": [
      "Requirement already satisfied: statsmodels in /Users/belinskaia/.pyenv/versions/3.9.1/envs/brain3/lib/python3.9/site-packages (0.13.0)\n",
      "Requirement already satisfied: pandas>=0.25 in /Users/belinskaia/.pyenv/versions/3.9.1/envs/brain3/lib/python3.9/site-packages (from statsmodels) (1.2.2)\n",
      "Requirement already satisfied: scipy>=1.3 in /Users/belinskaia/.pyenv/versions/3.9.1/envs/brain3/lib/python3.9/site-packages (from statsmodels) (1.6.1)\n",
      "Requirement already satisfied: numpy>=1.17 in /Users/belinskaia/.pyenv/versions/3.9.1/envs/brain3/lib/python3.9/site-packages (from statsmodels) (1.19.5)\n",
      "Requirement already satisfied: patsy>=0.5.2 in /Users/belinskaia/.pyenv/versions/3.9.1/envs/brain3/lib/python3.9/site-packages (from statsmodels) (0.5.2)\n",
      "Requirement already satisfied: python-dateutil>=2.7.3 in /Users/belinskaia/.pyenv/versions/3.9.1/envs/brain3/lib/python3.9/site-packages (from pandas>=0.25->statsmodels) (2.8.1)\n",
      "Requirement already satisfied: pytz>=2017.3 in /Users/belinskaia/.pyenv/versions/3.9.1/envs/brain3/lib/python3.9/site-packages (from pandas>=0.25->statsmodels) (2021.1)\n",
      "Requirement already satisfied: six in /Users/belinskaia/.pyenv/versions/3.9.1/envs/brain3/lib/python3.9/site-packages (from patsy>=0.5.2->statsmodels) (1.15.0)\n",
      "\u001b[33mWARNING: You are using pip version 20.2.3; however, version 22.0.3 is available.\n",
      "You should consider upgrading via the '/Users/belinskaia/.pyenv/versions/3.9.1/envs/brain3/bin/python3.9 -m pip install --upgrade pip' command.\u001b[0m\n",
      "Note: you may need to restart the kernel to use updated packages.\n"
     ]
    }
   ],
   "source": [
    "pip install statsmodels"
   ]
  },
  {
   "cell_type": "code",
   "execution_count": 1380,
   "id": "micro-progress",
   "metadata": {},
   "outputs": [],
   "source": [
    "factor_names = ['subj_id', 'block_name', 'metric_type']\n",
    "scores_df = pd.DataFrame(columns=factor_names + ['metric', 'block_number'])\n",
    "courses_df = pd.DataFrame(columns=factor_names + ['time_course', 'block_number'])\n"
   ]
  },
  {
   "cell_type": "code",
   "execution_count": 1381,
   "id": "female-campaign",
   "metadata": {},
   "outputs": [],
   "source": [
    "for factors_values, group in df_all.groupby(factor_names):\n",
    "    curve = group['metric'].values\n",
    "    curve = pd.Series(curve).rolling(2, center=True).median().fillna(method='ffill').fillna(method='bfill')"
   ]
  },
  {
   "cell_type": "code",
   "execution_count": 1382,
   "id": "fiscal-benjamin",
   "metadata": {
    "scrolled": true
   },
   "outputs": [
    {
     "name": "stderr",
     "output_type": "stream",
     "text": [
      "/Users/belinskaia/.pyenv/versions/3.9.1/envs/brain3/lib/python3.9/site-packages/seaborn/_decorators.py:36: FutureWarning: Pass the following variables as keyword args: x, y, hue. From version 0.12, the only valid positional argument will be `data`, and passing other arguments without an explicit keyword will result in an error or misinterpretation.\n",
      "  warnings.warn(\n"
     ]
    },
    {
     "data": {
      "text/plain": [
       "[<matplotlib.axis.XTick at 0x17923c850>,\n",
       " <matplotlib.axis.XTick at 0x17923c6a0>,\n",
       " <matplotlib.axis.XTick at 0x179324760>,\n",
       " <matplotlib.axis.XTick at 0x17932e3d0>,\n",
       " <matplotlib.axis.XTick at 0x17932e8e0>]"
      ]
     },
     "execution_count": 1382,
     "metadata": {},
     "output_type": "execute_result"
    },
    {
     "data": {
      "image/png": "[encoded data removed]",
      "text/plain": [
       "<Figure size 1514.5x1440 with 16 Axes>"
      ]
     },
     "metadata": {
      "needs_background": "light"
     },
     "output_type": "display_data"
    }
   ],
   "source": [
    "g = sns.relplot('block_number', 'metric', 'block_name', data=df_all, row='metric_type', col='block_name', kind='line',\n",
    "            facet_kws={'sharey': 'row'}, row_order=['magnitude', 'n_spindles', 'duration', 'amplitude'],\n",
    "            col_order=['FB0', 'FB500', 'FB1000', 'FBMock'], hue_order=['FB0', 'FB500', 'FB1000', 'FBMock'])\n",
    "\n",
    "g.axes[-1,-1].set_xticks(np.arange(1, 15, 3))"
   ]
  },
  {
   "cell_type": "code",
   "execution_count": 139,
   "id": "inclusive-festival",
   "metadata": {},
   "outputs": [],
   "source": [
    "fin_amp = fin.loc[fin['metric_type'].isin(['amplitude'])]\n",
    "fin_dur = fin.loc[fin['metric_type'].isin(['duration'])]\n",
    "fin_mag = fin.loc[fin['metric_type'].isin(['magnitude'])]\n",
    "fin_spin = fin.loc[fin['metric_type'].isin(['n_spindles'])]"
   ]
  },
  {
   "cell_type": "code",
   "execution_count": 140,
   "id": "preliminary-discount",
   "metadata": {},
   "outputs": [],
   "source": [
    "import statsmodels.api as sm\n",
    "from statsmodels.formula.api import ols"
   ]
  },
  {
   "cell_type": "code",
   "execution_count": 141,
   "id": "still-economics",
   "metadata": {},
   "outputs": [
    {
     "data": {
      "text/html": [
       "<div>\n",
       "<style scoped>\n",
       "    .dataframe tbody tr th:only-of-type {\n",
       "        vertical-align: middle;\n",
       "    }\n",
       "\n",
       "    .dataframe tbody tr th {\n",
       "        vertical-align: top;\n",
       "    }\n",
       "\n",
       "    .dataframe thead th {\n",
       "        text-align: right;\n",
       "    }\n",
       "</style>\n",
       "<table border=\"1\" class=\"dataframe\">\n",
       "  <thead>\n",
       "    <tr style=\"text-align: right;\">\n",
       "      <th></th>\n",
       "      <th>sum_sq</th>\n",
       "      <th>df</th>\n",
       "      <th>F</th>\n",
       "      <th>PR(&gt;F)</th>\n",
       "    </tr>\n",
       "  </thead>\n",
       "  <tbody>\n",
       "    <tr>\n",
       "      <th>C(order, Sum)</th>\n",
       "      <td>0.012622</td>\n",
       "      <td>3.0</td>\n",
       "      <td>4.737476</td>\n",
       "      <td>0.002898</td>\n",
       "    </tr>\n",
       "    <tr>\n",
       "      <th>C(block_name, Sum)</th>\n",
       "      <td>0.001188</td>\n",
       "      <td>3.0</td>\n",
       "      <td>0.445736</td>\n",
       "      <td>0.720437</td>\n",
       "    </tr>\n",
       "    <tr>\n",
       "      <th>C(order, Sum):C(block_name, Sum)</th>\n",
       "      <td>0.028507</td>\n",
       "      <td>9.0</td>\n",
       "      <td>3.566720</td>\n",
       "      <td>0.000270</td>\n",
       "    </tr>\n",
       "    <tr>\n",
       "      <th>Residual</th>\n",
       "      <td>0.394301</td>\n",
       "      <td>444.0</td>\n",
       "      <td>NaN</td>\n",
       "      <td>NaN</td>\n",
       "    </tr>\n",
       "  </tbody>\n",
       "</table>\n",
       "</div>"
      ],
      "text/plain": [
       "                                    sum_sq     df         F    PR(>F)\n",
       "C(order, Sum)                     0.012622    3.0  4.737476  0.002898\n",
       "C(block_name, Sum)                0.001188    3.0  0.445736  0.720437\n",
       "C(order, Sum):C(block_name, Sum)  0.028507    9.0  3.566720  0.000270\n",
       "Residual                          0.394301  444.0       NaN       NaN"
      ]
     },
     "execution_count": 141,
     "metadata": {},
     "output_type": "execute_result"
    }
   ],
   "source": [
    "model = ols(\"metric ~ C(order,Sum) + C(block_name,Sum) + C(order,Sum)*C(block_name,Sum)\", data=fin_dur).fit()\n",
    "dur_aov_table = sm.stats.anova_lm(model, typ=2)\n",
    "dur_aov_table"
   ]
  },
  {
   "cell_type": "code",
   "execution_count": 142,
   "id": "infectious-tribune",
   "metadata": {},
   "outputs": [
    {
     "data": {
      "text/html": [
       "<div>\n",
       "<style scoped>\n",
       "    .dataframe tbody tr th:only-of-type {\n",
       "        vertical-align: middle;\n",
       "    }\n",
       "\n",
       "    .dataframe tbody tr th {\n",
       "        vertical-align: top;\n",
       "    }\n",
       "\n",
       "    .dataframe thead th {\n",
       "        text-align: right;\n",
       "    }\n",
       "</style>\n",
       "<table border=\"1\" class=\"dataframe\">\n",
       "  <thead>\n",
       "    <tr style=\"text-align: right;\">\n",
       "      <th></th>\n",
       "      <th>sum_sq</th>\n",
       "      <th>df</th>\n",
       "      <th>F</th>\n",
       "      <th>PR(&gt;F)</th>\n",
       "    </tr>\n",
       "  </thead>\n",
       "  <tbody>\n",
       "    <tr>\n",
       "      <th>Intercept</th>\n",
       "      <td>6.188153</td>\n",
       "      <td>1.0</td>\n",
       "      <td>6968.130721</td>\n",
       "      <td>1.524099e-273</td>\n",
       "    </tr>\n",
       "    <tr>\n",
       "      <th>C(order, Sum)</th>\n",
       "      <td>0.009613</td>\n",
       "      <td>3.0</td>\n",
       "      <td>3.608057</td>\n",
       "      <td>1.342452e-02</td>\n",
       "    </tr>\n",
       "    <tr>\n",
       "      <th>C(block_name, Sum)</th>\n",
       "      <td>0.000837</td>\n",
       "      <td>3.0</td>\n",
       "      <td>0.314072</td>\n",
       "      <td>8.152157e-01</td>\n",
       "    </tr>\n",
       "    <tr>\n",
       "      <th>C(order, Sum):C(block_name, Sum)</th>\n",
       "      <td>0.028507</td>\n",
       "      <td>9.0</td>\n",
       "      <td>3.566720</td>\n",
       "      <td>2.697109e-04</td>\n",
       "    </tr>\n",
       "    <tr>\n",
       "      <th>Residual</th>\n",
       "      <td>0.394301</td>\n",
       "      <td>444.0</td>\n",
       "      <td>NaN</td>\n",
       "      <td>NaN</td>\n",
       "    </tr>\n",
       "  </tbody>\n",
       "</table>\n",
       "</div>"
      ],
      "text/plain": [
       "                                    sum_sq     df            F         PR(>F)\n",
       "Intercept                         6.188153    1.0  6968.130721  1.524099e-273\n",
       "C(order, Sum)                     0.009613    3.0     3.608057   1.342452e-02\n",
       "C(block_name, Sum)                0.000837    3.0     0.314072   8.152157e-01\n",
       "C(order, Sum):C(block_name, Sum)  0.028507    9.0     3.566720   2.697109e-04\n",
       "Residual                          0.394301  444.0          NaN            NaN"
      ]
     },
     "execution_count": 142,
     "metadata": {},
     "output_type": "execute_result"
    }
   ],
   "source": [
    "model = ols(\"metric ~ C(order,Sum) + C(block_name,Sum) + C(order,Sum)*C(block_name,Sum)\", data=fin_dur).fit()\n",
    "dur_aov_table = sm.stats.anova_lm(model, typ=3)\n",
    "dur_aov_table"
   ]
  },
  {
   "cell_type": "code",
   "execution_count": 143,
   "id": "intimate-delaware",
   "metadata": {},
   "outputs": [
    {
     "data": {
      "text/html": [
       "<div>\n",
       "<style scoped>\n",
       "    .dataframe tbody tr th:only-of-type {\n",
       "        vertical-align: middle;\n",
       "    }\n",
       "\n",
       "    .dataframe tbody tr th {\n",
       "        vertical-align: top;\n",
       "    }\n",
       "\n",
       "    .dataframe thead th {\n",
       "        text-align: right;\n",
       "    }\n",
       "</style>\n",
       "<table border=\"1\" class=\"dataframe\">\n",
       "  <thead>\n",
       "    <tr style=\"text-align: right;\">\n",
       "      <th></th>\n",
       "      <th>sum_sq</th>\n",
       "      <th>df</th>\n",
       "      <th>F</th>\n",
       "      <th>PR(&gt;F)</th>\n",
       "    </tr>\n",
       "  </thead>\n",
       "  <tbody>\n",
       "    <tr>\n",
       "      <th>Intercept</th>\n",
       "      <td>6673.132260</td>\n",
       "      <td>1.0</td>\n",
       "      <td>631.564352</td>\n",
       "      <td>2.447204e-87</td>\n",
       "    </tr>\n",
       "    <tr>\n",
       "      <th>C(order, Sum)</th>\n",
       "      <td>80.585195</td>\n",
       "      <td>3.0</td>\n",
       "      <td>2.542271</td>\n",
       "      <td>5.577328e-02</td>\n",
       "    </tr>\n",
       "    <tr>\n",
       "      <th>C(block_name, Sum)</th>\n",
       "      <td>17.572878</td>\n",
       "      <td>3.0</td>\n",
       "      <td>0.554383</td>\n",
       "      <td>6.454356e-01</td>\n",
       "    </tr>\n",
       "    <tr>\n",
       "      <th>C(order, Sum):C(block_name, Sum)</th>\n",
       "      <td>439.615701</td>\n",
       "      <td>9.0</td>\n",
       "      <td>4.622943</td>\n",
       "      <td>7.344780e-06</td>\n",
       "    </tr>\n",
       "    <tr>\n",
       "      <th>Residual</th>\n",
       "      <td>4691.320393</td>\n",
       "      <td>444.0</td>\n",
       "      <td>NaN</td>\n",
       "      <td>NaN</td>\n",
       "    </tr>\n",
       "  </tbody>\n",
       "</table>\n",
       "</div>"
      ],
      "text/plain": [
       "                                       sum_sq     df           F        PR(>F)\n",
       "Intercept                         6673.132260    1.0  631.564352  2.447204e-87\n",
       "C(order, Sum)                       80.585195    3.0    2.542271  5.577328e-02\n",
       "C(block_name, Sum)                  17.572878    3.0    0.554383  6.454356e-01\n",
       "C(order, Sum):C(block_name, Sum)   439.615701    9.0    4.622943  7.344780e-06\n",
       "Residual                          4691.320393  444.0         NaN           NaN"
      ]
     },
     "execution_count": 143,
     "metadata": {},
     "output_type": "execute_result"
    }
   ],
   "source": [
    "model = ols(\"metric ~ C(order,Sum) + C(block_name,Sum) + C(order,Sum)*C(block_name,Sum)\", data=fin_mag).fit()\n",
    "mag_aov_table = sm.stats.anova_lm(model, typ=3)\n",
    "mag_aov_table"
   ]
  },
  {
   "cell_type": "code",
   "execution_count": 144,
   "id": "broke-timothy",
   "metadata": {},
   "outputs": [
    {
     "data": {
      "text/html": [
       "<div>\n",
       "<style scoped>\n",
       "    .dataframe tbody tr th:only-of-type {\n",
       "        vertical-align: middle;\n",
       "    }\n",
       "\n",
       "    .dataframe tbody tr th {\n",
       "        vertical-align: top;\n",
       "    }\n",
       "\n",
       "    .dataframe thead th {\n",
       "        text-align: right;\n",
       "    }\n",
       "</style>\n",
       "<table border=\"1\" class=\"dataframe\">\n",
       "  <thead>\n",
       "    <tr style=\"text-align: right;\">\n",
       "      <th></th>\n",
       "      <th>sum_sq</th>\n",
       "      <th>df</th>\n",
       "      <th>F</th>\n",
       "      <th>PR(&gt;F)</th>\n",
       "    </tr>\n",
       "  </thead>\n",
       "  <tbody>\n",
       "    <tr>\n",
       "      <th>Intercept</th>\n",
       "      <td>96.691268</td>\n",
       "      <td>1.0</td>\n",
       "      <td>154.901641</td>\n",
       "      <td>1.035151e-30</td>\n",
       "    </tr>\n",
       "    <tr>\n",
       "      <th>C(order, Sum)</th>\n",
       "      <td>12.910949</td>\n",
       "      <td>3.0</td>\n",
       "      <td>6.894546</td>\n",
       "      <td>1.514435e-04</td>\n",
       "    </tr>\n",
       "    <tr>\n",
       "      <th>C(block_name, Sum)</th>\n",
       "      <td>4.953296</td>\n",
       "      <td>3.0</td>\n",
       "      <td>2.645098</td>\n",
       "      <td>4.868764e-02</td>\n",
       "    </tr>\n",
       "    <tr>\n",
       "      <th>C(order, Sum):C(block_name, Sum)</th>\n",
       "      <td>26.623008</td>\n",
       "      <td>9.0</td>\n",
       "      <td>4.738964</td>\n",
       "      <td>4.913670e-06</td>\n",
       "    </tr>\n",
       "    <tr>\n",
       "      <th>Residual</th>\n",
       "      <td>277.149567</td>\n",
       "      <td>444.0</td>\n",
       "      <td>NaN</td>\n",
       "      <td>NaN</td>\n",
       "    </tr>\n",
       "  </tbody>\n",
       "</table>\n",
       "</div>"
      ],
      "text/plain": [
       "                                      sum_sq     df           F        PR(>F)\n",
       "Intercept                          96.691268    1.0  154.901641  1.035151e-30\n",
       "C(order, Sum)                      12.910949    3.0    6.894546  1.514435e-04\n",
       "C(block_name, Sum)                  4.953296    3.0    2.645098  4.868764e-02\n",
       "C(order, Sum):C(block_name, Sum)   26.623008    9.0    4.738964  4.913670e-06\n",
       "Residual                          277.149567  444.0         NaN           NaN"
      ]
     },
     "execution_count": 144,
     "metadata": {},
     "output_type": "execute_result"
    }
   ],
   "source": [
    "model = ols(\"metric ~ C(order,Sum) + C(block_name,Sum) + C(order,Sum)*C(block_name,Sum)\", data=fin_spin).fit()\n",
    "spin_aov_table = sm.stats.anova_lm(model, typ=3)\n",
    "spin_aov_table"
   ]
  },
  {
   "cell_type": "code",
   "execution_count": 145,
   "id": "removed-apple",
   "metadata": {},
   "outputs": [
    {
     "data": {
      "text/html": [
       "<div>\n",
       "<style scoped>\n",
       "    .dataframe tbody tr th:only-of-type {\n",
       "        vertical-align: middle;\n",
       "    }\n",
       "\n",
       "    .dataframe tbody tr th {\n",
       "        vertical-align: top;\n",
       "    }\n",
       "\n",
       "    .dataframe thead th {\n",
       "        text-align: right;\n",
       "    }\n",
       "</style>\n",
       "<table border=\"1\" class=\"dataframe\">\n",
       "  <thead>\n",
       "    <tr style=\"text-align: right;\">\n",
       "      <th></th>\n",
       "      <th>sum_sq</th>\n",
       "      <th>df</th>\n",
       "      <th>F</th>\n",
       "      <th>PR(&gt;F)</th>\n",
       "    </tr>\n",
       "  </thead>\n",
       "  <tbody>\n",
       "    <tr>\n",
       "      <th>Intercept</th>\n",
       "      <td>45080.785474</td>\n",
       "      <td>1.0</td>\n",
       "      <td>1737.011436</td>\n",
       "      <td>1.459282e-155</td>\n",
       "    </tr>\n",
       "    <tr>\n",
       "      <th>C(order, Sum)</th>\n",
       "      <td>32.028883</td>\n",
       "      <td>3.0</td>\n",
       "      <td>0.411369</td>\n",
       "      <td>7.449140e-01</td>\n",
       "    </tr>\n",
       "    <tr>\n",
       "      <th>C(block_name, Sum)</th>\n",
       "      <td>2.497376</td>\n",
       "      <td>3.0</td>\n",
       "      <td>0.032076</td>\n",
       "      <td>9.922748e-01</td>\n",
       "    </tr>\n",
       "    <tr>\n",
       "      <th>C(order, Sum):C(block_name, Sum)</th>\n",
       "      <td>1607.050231</td>\n",
       "      <td>9.0</td>\n",
       "      <td>6.880154</td>\n",
       "      <td>2.701646e-09</td>\n",
       "    </tr>\n",
       "    <tr>\n",
       "      <th>Residual</th>\n",
       "      <td>11523.164636</td>\n",
       "      <td>444.0</td>\n",
       "      <td>NaN</td>\n",
       "      <td>NaN</td>\n",
       "    </tr>\n",
       "  </tbody>\n",
       "</table>\n",
       "</div>"
      ],
      "text/plain": [
       "                                        sum_sq     df            F  \\\n",
       "Intercept                         45080.785474    1.0  1737.011436   \n",
       "C(order, Sum)                        32.028883    3.0     0.411369   \n",
       "C(block_name, Sum)                    2.497376    3.0     0.032076   \n",
       "C(order, Sum):C(block_name, Sum)   1607.050231    9.0     6.880154   \n",
       "Residual                          11523.164636  444.0          NaN   \n",
       "\n",
       "                                         PR(>F)  \n",
       "Intercept                         1.459282e-155  \n",
       "C(order, Sum)                      7.449140e-01  \n",
       "C(block_name, Sum)                 9.922748e-01  \n",
       "C(order, Sum):C(block_name, Sum)   2.701646e-09  \n",
       "Residual                                    NaN  "
      ]
     },
     "execution_count": 145,
     "metadata": {},
     "output_type": "execute_result"
    }
   ],
   "source": [
    "model = ols(\"metric ~ C(order,Sum) + C(block_name,Sum) + C(order,Sum)*C(block_name,Sum)\", data=fin_amp).fit()\n",
    "amp_aov_table = sm.stats.anova_lm(model, typ=3)\n",
    "amp_aov_table"
   ]
  },
  {
   "cell_type": "code",
   "execution_count": 146,
   "id": "miniature-climate",
   "metadata": {},
   "outputs": [
    {
     "data": {
      "text/html": [
       "<div>\n",
       "<style scoped>\n",
       "    .dataframe tbody tr th:only-of-type {\n",
       "        vertical-align: middle;\n",
       "    }\n",
       "\n",
       "    .dataframe tbody tr th {\n",
       "        vertical-align: top;\n",
       "    }\n",
       "\n",
       "    .dataframe thead th {\n",
       "        text-align: right;\n",
       "    }\n",
       "</style>\n",
       "<table border=\"1\" class=\"dataframe\">\n",
       "  <thead>\n",
       "    <tr style=\"text-align: right;\">\n",
       "      <th></th>\n",
       "      <th>metric type</th>\n",
       "      <th>p-value order</th>\n",
       "      <th>p-value fb type</th>\n",
       "      <th>p-value interaction</th>\n",
       "    </tr>\n",
       "  </thead>\n",
       "  <tbody>\n",
       "    <tr>\n",
       "      <th>0</th>\n",
       "      <td>magnitude</td>\n",
       "      <td>0.055773</td>\n",
       "      <td>0.645436</td>\n",
       "      <td>7.344780e-06</td>\n",
       "    </tr>\n",
       "    <tr>\n",
       "      <th>1</th>\n",
       "      <td>number_spin</td>\n",
       "      <td>0.000151</td>\n",
       "      <td>0.048688</td>\n",
       "      <td>4.913670e-06</td>\n",
       "    </tr>\n",
       "    <tr>\n",
       "      <th>2</th>\n",
       "      <td>duration</td>\n",
       "      <td>0.013425</td>\n",
       "      <td>0.815216</td>\n",
       "      <td>2.697109e-04</td>\n",
       "    </tr>\n",
       "    <tr>\n",
       "      <th>3</th>\n",
       "      <td>amplitude</td>\n",
       "      <td>0.744914</td>\n",
       "      <td>0.992275</td>\n",
       "      <td>2.701646e-09</td>\n",
       "    </tr>\n",
       "  </tbody>\n",
       "</table>\n",
       "</div>"
      ],
      "text/plain": [
       "   metric type  p-value order  p-value fb type  p-value interaction\n",
       "0    magnitude       0.055773         0.645436         7.344780e-06\n",
       "1  number_spin       0.000151         0.048688         4.913670e-06\n",
       "2     duration       0.013425         0.815216         2.697109e-04\n",
       "3    amplitude       0.744914         0.992275         2.701646e-09"
      ]
     },
     "execution_count": 146,
     "metadata": {},
     "output_type": "execute_result"
    }
   ],
   "source": [
    "table = {'metric type': ['magnitude', 'number_spin', 'duration','amplitude'], 'p-value order': [5.577328e-02\n",
    ", 1.514435e-04, 1.342452e-02, 7.449140e-01], 'p-value fb type': [6.454356e-01,4.868764e-02,8.152157e-01,9.922748e-01],\n",
    "             'p-value interaction':[7.344780e-06,4.913670e-06,2.697109e-04,2.701646e-09]}\n",
    "table = pd.DataFrame(table) \n",
    "table\n"
   ]
  },
  {
   "cell_type": "code",
   "execution_count": 147,
   "id": "genuine-virus",
   "metadata": {},
   "outputs": [
    {
     "ename": "NameError",
     "evalue": "name 'aov_table' is not defined",
     "output_type": "error",
     "traceback": [
      "\u001b[0;31m---------------------------------------------------------------------------\u001b[0m",
      "\u001b[0;31mNameError\u001b[0m                                 Traceback (most recent call last)",
      "\u001b[0;32m<ipython-input-147-a4b0a678c1c0>\u001b[0m in \u001b[0;36m<module>\u001b[0;34m\u001b[0m\n\u001b[1;32m      1\u001b[0m \u001b[0mmodel\u001b[0m \u001b[0;34m=\u001b[0m \u001b[0mols\u001b[0m\u001b[0;34m(\u001b[0m\u001b[0;34m\"metric ~ C(order) + C(block_name) + C(order)*C(block_name)\"\u001b[0m\u001b[0;34m,\u001b[0m \u001b[0mdata\u001b[0m\u001b[0;34m=\u001b[0m\u001b[0mfin_mag\u001b[0m\u001b[0;34m)\u001b[0m\u001b[0;34m.\u001b[0m\u001b[0mfit\u001b[0m\u001b[0;34m(\u001b[0m\u001b[0;34m)\u001b[0m\u001b[0;34m\u001b[0m\u001b[0;34m\u001b[0m\u001b[0m\n\u001b[1;32m      2\u001b[0m \u001b[0mamp_aov_table\u001b[0m \u001b[0;34m=\u001b[0m \u001b[0msm\u001b[0m\u001b[0;34m.\u001b[0m\u001b[0mstats\u001b[0m\u001b[0;34m.\u001b[0m\u001b[0manova_lm\u001b[0m\u001b[0;34m(\u001b[0m\u001b[0mmodel\u001b[0m\u001b[0;34m,\u001b[0m \u001b[0mtyp\u001b[0m\u001b[0;34m=\u001b[0m\u001b[0;36m2\u001b[0m\u001b[0;34m)\u001b[0m\u001b[0;34m\u001b[0m\u001b[0;34m\u001b[0m\u001b[0m\n\u001b[0;32m----> 3\u001b[0;31m \u001b[0maov_table\u001b[0m\u001b[0;34m\u001b[0m\u001b[0;34m\u001b[0m\u001b[0m\n\u001b[0m",
      "\u001b[0;31mNameError\u001b[0m: name 'aov_table' is not defined"
     ]
    }
   ],
   "source": [
    "model = ols(\"metric ~ C(order) + C(block_name) + C(order)*C(block_name)\", data=fin_mag).fit()\n",
    "amp_aov_table = sm.stats.anova_lm(model, typ=2)\n",
    "aov_table"
   ]
  },
  {
   "cell_type": "code",
   "execution_count": 149,
   "id": "unlimited-jesus",
   "metadata": {},
   "outputs": [],
   "source": [
    "fin_mag = fin.loc[fin['metric_type'].isin(['magnitude'])]"
   ]
  },
  {
   "cell_type": "code",
   "execution_count": 150,
   "id": "functional-nerve",
   "metadata": {},
   "outputs": [
    {
     "data": {
      "text/html": [
       "<div>\n",
       "<style scoped>\n",
       "    .dataframe tbody tr th:only-of-type {\n",
       "        vertical-align: middle;\n",
       "    }\n",
       "\n",
       "    .dataframe tbody tr th {\n",
       "        vertical-align: top;\n",
       "    }\n",
       "\n",
       "    .dataframe thead th {\n",
       "        text-align: right;\n",
       "    }\n",
       "</style>\n",
       "<table border=\"1\" class=\"dataframe\">\n",
       "  <thead>\n",
       "    <tr style=\"text-align: right;\">\n",
       "      <th></th>\n",
       "      <th>block_name</th>\n",
       "      <th>metric_type</th>\n",
       "      <th>subj_id</th>\n",
       "      <th>block_number</th>\n",
       "      <th>metric</th>\n",
       "      <th>order</th>\n",
       "    </tr>\n",
       "  </thead>\n",
       "  <tbody>\n",
       "    <tr>\n",
       "      <th>345</th>\n",
       "      <td>FB0</td>\n",
       "      <td>n_spindles</td>\n",
       "      <td>2</td>\n",
       "      <td>6</td>\n",
       "      <td>0.388847</td>\n",
       "      <td>1.0</td>\n",
       "    </tr>\n",
       "    <tr>\n",
       "      <th>346</th>\n",
       "      <td>FB0</td>\n",
       "      <td>n_spindles</td>\n",
       "      <td>2</td>\n",
       "      <td>8</td>\n",
       "      <td>0.284692</td>\n",
       "      <td>1.0</td>\n",
       "    </tr>\n",
       "    <tr>\n",
       "      <th>347</th>\n",
       "      <td>FB0</td>\n",
       "      <td>n_spindles</td>\n",
       "      <td>2</td>\n",
       "      <td>10</td>\n",
       "      <td>0.277748</td>\n",
       "      <td>1.0</td>\n",
       "    </tr>\n",
       "  </tbody>\n",
       "</table>\n",
       "</div>"
      ],
      "text/plain": [
       "    block_name metric_type  subj_id  block_number    metric  order\n",
       "345        FB0  n_spindles        2             6  0.388847    1.0\n",
       "346        FB0  n_spindles        2             8  0.284692    1.0\n",
       "347        FB0  n_spindles        2            10  0.277748    1.0"
      ]
     },
     "execution_count": 150,
     "metadata": {},
     "output_type": "execute_result"
    }
   ],
   "source": [
    "fin_spin.head(3)"
   ]
  },
  {
   "cell_type": "markdown",
   "id": "visible-causing",
   "metadata": {},
   "source": [
    "mag\n",
    "1-2\n",
    "P-value: 0.05147866795135099\n",
    "\n",
    "1-3\n",
    "P-value: 0.00252428145378482\n",
    "\n",
    "1-4\n",
    "P-value: 0.03390520168746676\n",
    "\n",
    "2-3\n",
    "P-value: 0.03710137787296669\n",
    "\n",
    "2-4\n",
    "P-value: 0.1315372561583429\n",
    "\n",
    "3-4\n",
    "P-value: 0.9249684173624989\n",
    "\n",
    "\n",
    "spin\n",
    "1-2\n",
    "P-value: 2.7268889525193738e-06\n",
    "\n",
    "1-3\n",
    "P-value: 0.0001589109142036954\n",
    "\n",
    "1-4\n",
    "P-value: 0.00029066013701677915\n",
    "\n",
    "2-3\n",
    "P-value: 0.0022541907273392467\n",
    "\n",
    "2-4\n",
    "P-value: 0.02143309076326164\n",
    "\n",
    "3-4\n",
    "\n",
    "P-value: 0.1109604619481164\n",
    "\n",
    "\n",
    "\n",
    "\n",
    "ampl\n",
    "\n",
    "dur"
   ]
  },
  {
   "cell_type": "code",
   "execution_count": 166,
   "id": "attractive-space",
   "metadata": {},
   "outputs": [],
   "source": [
    "first = fin_spin.loc[fin_spin['order'].isin([1])]\n",
    "second = fin_spin.loc[fin_spin['order'].isin([2])]\n",
    "third = fin_spin.loc[fin_spin['order'].isin([3])]\n",
    "forth = fin_spin.loc[fin_spin['order'].isin([4])]"
   ]
  },
  {
   "cell_type": "code",
   "execution_count": 225,
   "id": "western-volume",
   "metadata": {},
   "outputs": [],
   "source": [
    "fin_spin = fin.loc[fin['metric_type'].isin(['duration'])]"
   ]
  },
  {
   "cell_type": "code",
   "execution_count": 226,
   "id": "quarterly-destination",
   "metadata": {},
   "outputs": [],
   "source": [
    "third = fin_spin.loc[fin_spin['order'].isin([3])]\n",
    "first_fb0 = third.loc[third['block_name'].isin(['FB0'])]\n",
    "first_fb500 = third.loc[third['block_name'].isin(['FB500'])]\n",
    "first_fb1000 = third.loc[third['block_name'].isin(['FB1000'])]\n",
    "first_fbMock = third.loc[third['block_name'].isin(['FBMock'])]"
   ]
  },
  {
   "cell_type": "code",
   "execution_count": 227,
   "id": "satisfactory-equity",
   "metadata": {},
   "outputs": [
    {
     "name": "stdout",
     "output_type": "stream",
     "text": [
      "P-value: 0.11504956636370899\n",
      "Н0 верна, группы не отличаются\n"
     ]
    }
   ],
   "source": [
    "from scipy import stats as st\n",
    "alpha = 0.05\n",
    "results = st.ttest_ind(first_fb0['metric'], first_fb1000['metric'],  equal_var = False)\n",
    "print('P-value:', results.pvalue)\n",
    "\n",
    "if (results.pvalue < alpha):\n",
    "    print('H0 не верна, группы отличаются')\n",
    "else:\n",
    "    print('Н0 верна, группы не отличаются')"
   ]
  },
  {
   "cell_type": "code",
   "execution_count": 228,
   "id": "metric-toyota",
   "metadata": {},
   "outputs": [
    {
     "data": {
      "text/html": [
       "<div>\n",
       "<style scoped>\n",
       "    .dataframe tbody tr th:only-of-type {\n",
       "        vertical-align: middle;\n",
       "    }\n",
       "\n",
       "    .dataframe tbody tr th {\n",
       "        vertical-align: top;\n",
       "    }\n",
       "\n",
       "    .dataframe thead th {\n",
       "        text-align: right;\n",
       "    }\n",
       "</style>\n",
       "<table border=\"1\" class=\"dataframe\">\n",
       "  <thead>\n",
       "    <tr style=\"text-align: right;\">\n",
       "      <th></th>\n",
       "      <th>metric_type</th>\n",
       "      <th>FB0-FM500</th>\n",
       "      <th>FB0-FB1000</th>\n",
       "      <th>FB500-FB1000</th>\n",
       "      <th>FB0-FBMock</th>\n",
       "      <th>FB500-FBMock</th>\n",
       "      <th>FB1000-FBMock</th>\n",
       "    </tr>\n",
       "  </thead>\n",
       "  <tbody>\n",
       "    <tr>\n",
       "      <th>0</th>\n",
       "      <td>magnitude</td>\n",
       "      <td>0.004900</td>\n",
       "      <td>0.0057</td>\n",
       "      <td>0.0012</td>\n",
       "      <td>0.0114</td>\n",
       "      <td>0.0057</td>\n",
       "      <td>0.2302</td>\n",
       "    </tr>\n",
       "    <tr>\n",
       "      <th>1</th>\n",
       "      <td>number_spin</td>\n",
       "      <td>0.004900</td>\n",
       "      <td>0.0092</td>\n",
       "      <td>0.0244</td>\n",
       "      <td>0.0137</td>\n",
       "      <td>0.0049</td>\n",
       "      <td>0.1170</td>\n",
       "    </tr>\n",
       "    <tr>\n",
       "      <th>2</th>\n",
       "      <td>duration</td>\n",
       "      <td>0.024600</td>\n",
       "      <td>0.0115</td>\n",
       "      <td>0.2001</td>\n",
       "      <td>0.0538</td>\n",
       "      <td>0.0122</td>\n",
       "      <td>0.5603</td>\n",
       "    </tr>\n",
       "    <tr>\n",
       "      <th>3</th>\n",
       "      <td>amplitude</td>\n",
       "      <td>0.000031</td>\n",
       "      <td>0.0095</td>\n",
       "      <td>0.0706</td>\n",
       "      <td>0.0246</td>\n",
       "      <td>0.0023</td>\n",
       "      <td>0.3998</td>\n",
       "    </tr>\n",
       "  </tbody>\n",
       "</table>\n",
       "</div>"
      ],
      "text/plain": [
       "   metric_type  FB0-FM500  FB0-FB1000  FB500-FB1000  FB0-FBMock  FB500-FBMock  \\\n",
       "0    magnitude   0.004900      0.0057        0.0012      0.0114        0.0057   \n",
       "1  number_spin   0.004900      0.0092        0.0244      0.0137        0.0049   \n",
       "2     duration   0.024600      0.0115        0.2001      0.0538        0.0122   \n",
       "3    amplitude   0.000031      0.0095        0.0706      0.0246        0.0023   \n",
       "\n",
       "   FB1000-FBMock  \n",
       "0         0.2302  \n",
       "1         0.1170  \n",
       "2         0.5603  \n",
       "3         0.3998  "
      ]
     },
     "execution_count": 228,
     "metadata": {},
     "output_type": "execute_result"
    }
   ],
   "source": [
    "df_3 = pd.DataFrame({'metric_type': ['magnitude', 'number_spin', 'duration','amplitude'],\n",
    "                   'FB0-FM500': [0.0049,0.0049,0.0246,3.1076641624161515e-05],\n",
    "                   'FB0-FB1000': [0.0057,0.0092,0.0115,0.0095],\n",
    "                    'FB500-FB1000': [0.0012, 0.0244 ,0.2001, 0.0706],\n",
    "                     'FB0-FBMock': [0.0114,0.0137,0.0538, 0.0246],\n",
    "                     'FB500-FBMock': [0.0057,0.0049,0.0122,0.0023],\n",
    "                     'FB1000-FBMock': [0.2302,0.1170,0.5603,0.3998]})\n",
    "df_3.set_index('metric_type')\n",
    "df_3"
   ]
  },
  {
   "cell_type": "code",
   "execution_count": 230,
   "id": "seven-management",
   "metadata": {},
   "outputs": [],
   "source": [
    "fdr = [0.0049,0.0049,0.0246,3.1076641624161515e-05, 0.0057,0.0092,0.0115,0.0095, 0.0012, 0.0244 ,0.2001, 0.0706]"
   ]
  },
  {
   "cell_type": "code",
   "execution_count": 232,
   "id": "illegal-passage",
   "metadata": {},
   "outputs": [
    {
     "ename": "TypeError",
     "evalue": "'<' not supported between instances of 'float' and 'str'",
     "output_type": "error",
     "traceback": [
      "\u001b[0;31m---------------------------------------------------------------------------\u001b[0m",
      "\u001b[0;31mTypeError\u001b[0m                                 Traceback (most recent call last)",
      "\u001b[0;32m~/.pyenv/versions/3.9.1/envs/brain3/lib/python3.9/site-packages/numpy/core/fromnumeric.py\u001b[0m in \u001b[0;36m_wrapfunc\u001b[0;34m(obj, method, *args, **kwds)\u001b[0m\n\u001b[1;32m     57\u001b[0m     \u001b[0;32mtry\u001b[0m\u001b[0;34m:\u001b[0m\u001b[0;34m\u001b[0m\u001b[0;34m\u001b[0m\u001b[0m\n\u001b[0;32m---> 58\u001b[0;31m         \u001b[0;32mreturn\u001b[0m \u001b[0mbound\u001b[0m\u001b[0;34m(\u001b[0m\u001b[0;34m*\u001b[0m\u001b[0margs\u001b[0m\u001b[0;34m,\u001b[0m \u001b[0;34m**\u001b[0m\u001b[0mkwds\u001b[0m\u001b[0;34m)\u001b[0m\u001b[0;34m\u001b[0m\u001b[0;34m\u001b[0m\u001b[0m\n\u001b[0m\u001b[1;32m     59\u001b[0m     \u001b[0;32mexcept\u001b[0m \u001b[0mTypeError\u001b[0m\u001b[0;34m:\u001b[0m\u001b[0;34m\u001b[0m\u001b[0;34m\u001b[0m\u001b[0m\n",
      "\u001b[0;31mTypeError\u001b[0m: '<' not supported between instances of 'float' and 'str'",
      "\nDuring handling of the above exception, another exception occurred:\n",
      "\u001b[0;31mTypeError\u001b[0m                                 Traceback (most recent call last)",
      "\u001b[0;32m<ipython-input-232-0edf0a256785>\u001b[0m in \u001b[0;36m<module>\u001b[0;34m\u001b[0m\n\u001b[1;32m      1\u001b[0m \u001b[0;31m#FDR_correction\u001b[0m\u001b[0;34m\u001b[0m\u001b[0;34m\u001b[0m\u001b[0;34m\u001b[0m\u001b[0m\n\u001b[1;32m      2\u001b[0m \u001b[0;32mimport\u001b[0m \u001b[0mstatsmodels\u001b[0m\u001b[0;34m.\u001b[0m\u001b[0msandbox\u001b[0m\u001b[0;34m.\u001b[0m\u001b[0mstats\u001b[0m\u001b[0;34m.\u001b[0m\u001b[0mmulticomp\u001b[0m \u001b[0;32mas\u001b[0m \u001b[0mmulticomp\u001b[0m\u001b[0;34m\u001b[0m\u001b[0;34m\u001b[0m\u001b[0m\n\u001b[0;32m----> 3\u001b[0;31m \u001b[0mpval_corrected\u001b[0m \u001b[0;34m=\u001b[0m \u001b[0mmulticomp\u001b[0m\u001b[0;34m.\u001b[0m\u001b[0mmultipletests\u001b[0m\u001b[0;34m(\u001b[0m\u001b[0mdf_3\u001b[0m\u001b[0;34m,\u001b[0m \u001b[0mmethod\u001b[0m\u001b[0;34m=\u001b[0m\u001b[0;34m'fdr_bh'\u001b[0m\u001b[0;34m,\u001b[0m \u001b[0mis_sorted\u001b[0m\u001b[0;34m=\u001b[0m\u001b[0;32mFalse\u001b[0m\u001b[0;34m,\u001b[0m \u001b[0mreturnsorted\u001b[0m\u001b[0;34m=\u001b[0m\u001b[0;32mFalse\u001b[0m\u001b[0;34m)\u001b[0m\u001b[0;34m\u001b[0m\u001b[0;34m\u001b[0m\u001b[0m\n\u001b[0m\u001b[1;32m      4\u001b[0m \u001b[0mpval_corrected\u001b[0m\u001b[0;34m\u001b[0m\u001b[0;34m\u001b[0m\u001b[0m\n\u001b[1;32m      5\u001b[0m \u001b[0;31m#reg_coef_df['pval_corrected'] = list(pval_corrected)\u001b[0m\u001b[0;34m\u001b[0m\u001b[0;34m\u001b[0m\u001b[0;34m\u001b[0m\u001b[0m\n",
      "\u001b[0;32m~/.pyenv/versions/3.9.1/envs/brain3/lib/python3.9/site-packages/statsmodels/stats/multitest.py\u001b[0m in \u001b[0;36mmultipletests\u001b[0;34m(pvals, alpha, method, is_sorted, returnsorted)\u001b[0m\n\u001b[1;32m    141\u001b[0m \u001b[0;34m\u001b[0m\u001b[0m\n\u001b[1;32m    142\u001b[0m     \u001b[0;32mif\u001b[0m \u001b[0;32mnot\u001b[0m \u001b[0mis_sorted\u001b[0m\u001b[0;34m:\u001b[0m\u001b[0;34m\u001b[0m\u001b[0;34m\u001b[0m\u001b[0m\n\u001b[0;32m--> 143\u001b[0;31m         \u001b[0msortind\u001b[0m \u001b[0;34m=\u001b[0m \u001b[0mnp\u001b[0m\u001b[0;34m.\u001b[0m\u001b[0margsort\u001b[0m\u001b[0;34m(\u001b[0m\u001b[0mpvals\u001b[0m\u001b[0;34m)\u001b[0m\u001b[0;34m\u001b[0m\u001b[0;34m\u001b[0m\u001b[0m\n\u001b[0m\u001b[1;32m    144\u001b[0m         \u001b[0mpvals\u001b[0m \u001b[0;34m=\u001b[0m \u001b[0mnp\u001b[0m\u001b[0;34m.\u001b[0m\u001b[0mtake\u001b[0m\u001b[0;34m(\u001b[0m\u001b[0mpvals\u001b[0m\u001b[0;34m,\u001b[0m \u001b[0msortind\u001b[0m\u001b[0;34m)\u001b[0m\u001b[0;34m\u001b[0m\u001b[0;34m\u001b[0m\u001b[0m\n\u001b[1;32m    145\u001b[0m \u001b[0;34m\u001b[0m\u001b[0m\n",
      "\u001b[0;32m<__array_function__ internals>\u001b[0m in \u001b[0;36margsort\u001b[0;34m(*args, **kwargs)\u001b[0m\n",
      "\u001b[0;32m~/.pyenv/versions/3.9.1/envs/brain3/lib/python3.9/site-packages/numpy/core/fromnumeric.py\u001b[0m in \u001b[0;36margsort\u001b[0;34m(a, axis, kind, order)\u001b[0m\n\u001b[1;32m   1105\u001b[0m \u001b[0;34m\u001b[0m\u001b[0m\n\u001b[1;32m   1106\u001b[0m     \"\"\"\n\u001b[0;32m-> 1107\u001b[0;31m     \u001b[0;32mreturn\u001b[0m \u001b[0m_wrapfunc\u001b[0m\u001b[0;34m(\u001b[0m\u001b[0ma\u001b[0m\u001b[0;34m,\u001b[0m \u001b[0;34m'argsort'\u001b[0m\u001b[0;34m,\u001b[0m \u001b[0maxis\u001b[0m\u001b[0;34m=\u001b[0m\u001b[0maxis\u001b[0m\u001b[0;34m,\u001b[0m \u001b[0mkind\u001b[0m\u001b[0;34m=\u001b[0m\u001b[0mkind\u001b[0m\u001b[0;34m,\u001b[0m \u001b[0morder\u001b[0m\u001b[0;34m=\u001b[0m\u001b[0morder\u001b[0m\u001b[0;34m)\u001b[0m\u001b[0;34m\u001b[0m\u001b[0;34m\u001b[0m\u001b[0m\n\u001b[0m\u001b[1;32m   1108\u001b[0m \u001b[0;34m\u001b[0m\u001b[0m\n\u001b[1;32m   1109\u001b[0m \u001b[0;34m\u001b[0m\u001b[0m\n",
      "\u001b[0;32m~/.pyenv/versions/3.9.1/envs/brain3/lib/python3.9/site-packages/numpy/core/fromnumeric.py\u001b[0m in \u001b[0;36m_wrapfunc\u001b[0;34m(obj, method, *args, **kwds)\u001b[0m\n\u001b[1;32m     65\u001b[0m         \u001b[0;31m# Call _wrapit from within the except clause to ensure a potential\u001b[0m\u001b[0;34m\u001b[0m\u001b[0;34m\u001b[0m\u001b[0;34m\u001b[0m\u001b[0m\n\u001b[1;32m     66\u001b[0m         \u001b[0;31m# exception has a traceback chain.\u001b[0m\u001b[0;34m\u001b[0m\u001b[0;34m\u001b[0m\u001b[0;34m\u001b[0m\u001b[0m\n\u001b[0;32m---> 67\u001b[0;31m         \u001b[0;32mreturn\u001b[0m \u001b[0m_wrapit\u001b[0m\u001b[0;34m(\u001b[0m\u001b[0mobj\u001b[0m\u001b[0;34m,\u001b[0m \u001b[0mmethod\u001b[0m\u001b[0;34m,\u001b[0m \u001b[0;34m*\u001b[0m\u001b[0margs\u001b[0m\u001b[0;34m,\u001b[0m \u001b[0;34m**\u001b[0m\u001b[0mkwds\u001b[0m\u001b[0;34m)\u001b[0m\u001b[0;34m\u001b[0m\u001b[0;34m\u001b[0m\u001b[0m\n\u001b[0m\u001b[1;32m     68\u001b[0m \u001b[0;34m\u001b[0m\u001b[0m\n\u001b[1;32m     69\u001b[0m \u001b[0;34m\u001b[0m\u001b[0m\n",
      "\u001b[0;32m~/.pyenv/versions/3.9.1/envs/brain3/lib/python3.9/site-packages/numpy/core/fromnumeric.py\u001b[0m in \u001b[0;36m_wrapit\u001b[0;34m(obj, method, *args, **kwds)\u001b[0m\n\u001b[1;32m     42\u001b[0m     \u001b[0;32mexcept\u001b[0m \u001b[0mAttributeError\u001b[0m\u001b[0;34m:\u001b[0m\u001b[0;34m\u001b[0m\u001b[0;34m\u001b[0m\u001b[0m\n\u001b[1;32m     43\u001b[0m         \u001b[0mwrap\u001b[0m \u001b[0;34m=\u001b[0m \u001b[0;32mNone\u001b[0m\u001b[0;34m\u001b[0m\u001b[0;34m\u001b[0m\u001b[0m\n\u001b[0;32m---> 44\u001b[0;31m     \u001b[0mresult\u001b[0m \u001b[0;34m=\u001b[0m \u001b[0mgetattr\u001b[0m\u001b[0;34m(\u001b[0m\u001b[0masarray\u001b[0m\u001b[0;34m(\u001b[0m\u001b[0mobj\u001b[0m\u001b[0;34m)\u001b[0m\u001b[0;34m,\u001b[0m \u001b[0mmethod\u001b[0m\u001b[0;34m)\u001b[0m\u001b[0;34m(\u001b[0m\u001b[0;34m*\u001b[0m\u001b[0margs\u001b[0m\u001b[0;34m,\u001b[0m \u001b[0;34m**\u001b[0m\u001b[0mkwds\u001b[0m\u001b[0;34m)\u001b[0m\u001b[0;34m\u001b[0m\u001b[0;34m\u001b[0m\u001b[0m\n\u001b[0m\u001b[1;32m     45\u001b[0m     \u001b[0;32mif\u001b[0m \u001b[0mwrap\u001b[0m\u001b[0;34m:\u001b[0m\u001b[0;34m\u001b[0m\u001b[0;34m\u001b[0m\u001b[0m\n\u001b[1;32m     46\u001b[0m         \u001b[0;32mif\u001b[0m \u001b[0;32mnot\u001b[0m \u001b[0misinstance\u001b[0m\u001b[0;34m(\u001b[0m\u001b[0mresult\u001b[0m\u001b[0;34m,\u001b[0m \u001b[0mmu\u001b[0m\u001b[0;34m.\u001b[0m\u001b[0mndarray\u001b[0m\u001b[0;34m)\u001b[0m\u001b[0;34m:\u001b[0m\u001b[0;34m\u001b[0m\u001b[0;34m\u001b[0m\u001b[0m\n",
      "\u001b[0;31mTypeError\u001b[0m: '<' not supported between instances of 'float' and 'str'"
     ]
    }
   ],
   "source": [
    "#FDR_correction\n",
    "import statsmodels.sandbox.stats.multicomp as multicomp\n",
    "pval_corrected = multicomp.multipletests(df_3, method='fdr_bh', is_sorted=False, returnsorted=False)\n",
    "pval_corrected\n",
    "#reg_coef_df['pval_corrected'] = list(pval_corrected)"
   ]
  },
  {
   "cell_type": "code",
   "execution_count": null,
   "id": "crude-italy",
   "metadata": {},
   "outputs": [],
   "source": []
  },
  {
   "cell_type": "code",
   "execution_count": 104,
   "id": "serial-addiction",
   "metadata": {},
   "outputs": [
    {
     "data": {
      "text/html": [
       "<div>\n",
       "<style scoped>\n",
       "    .dataframe tbody tr th:only-of-type {\n",
       "        vertical-align: middle;\n",
       "    }\n",
       "\n",
       "    .dataframe tbody tr th {\n",
       "        vertical-align: top;\n",
       "    }\n",
       "\n",
       "    .dataframe thead th {\n",
       "        text-align: right;\n",
       "    }\n",
       "</style>\n",
       "<table border=\"1\" class=\"dataframe\">\n",
       "  <thead>\n",
       "    <tr style=\"text-align: right;\">\n",
       "      <th></th>\n",
       "      <th>Diff. between blocks</th>\n",
       "      <th>Magnitude p-values</th>\n",
       "      <th>Number of spin. p-values</th>\n",
       "    </tr>\n",
       "  </thead>\n",
       "  <tbody>\n",
       "    <tr>\n",
       "      <th>0</th>\n",
       "      <td>First-Second</td>\n",
       "      <td>0.051479</td>\n",
       "      <td>0.000003</td>\n",
       "    </tr>\n",
       "    <tr>\n",
       "      <th>1</th>\n",
       "      <td>First-third</td>\n",
       "      <td>0.002524</td>\n",
       "      <td>0.000159</td>\n",
       "    </tr>\n",
       "    <tr>\n",
       "      <th>2</th>\n",
       "      <td>First-fourth</td>\n",
       "      <td>0.033905</td>\n",
       "      <td>0.000291</td>\n",
       "    </tr>\n",
       "    <tr>\n",
       "      <th>3</th>\n",
       "      <td>Second-third</td>\n",
       "      <td>0.037101</td>\n",
       "      <td>0.002254</td>\n",
       "    </tr>\n",
       "    <tr>\n",
       "      <th>4</th>\n",
       "      <td>Second-fourth</td>\n",
       "      <td>0.131537</td>\n",
       "      <td>0.021433</td>\n",
       "    </tr>\n",
       "    <tr>\n",
       "      <th>5</th>\n",
       "      <td>Third-fourth</td>\n",
       "      <td>0.924968</td>\n",
       "      <td>0.110960</td>\n",
       "    </tr>\n",
       "  </tbody>\n",
       "</table>\n",
       "</div>"
      ],
      "text/plain": [
       "  Diff. between blocks  Magnitude p-values  Number of spin. p-values\n",
       "0         First-Second            0.051479                  0.000003\n",
       "1          First-third            0.002524                  0.000159\n",
       "2         First-fourth            0.033905                  0.000291\n",
       "3         Second-third            0.037101                  0.002254\n",
       "4        Second-fourth            0.131537                  0.021433\n",
       "5         Third-fourth            0.924968                  0.110960"
      ]
     },
     "execution_count": 104,
     "metadata": {},
     "output_type": "execute_result"
    }
   ],
   "source": [
    "table_3 = {'Diff. between blocks': ['First-Second', 'First-third', 'First-fourth','Second-third','Second-fourth','Third-fourth'],\n",
    "           'Magnitude p-values': [ 0.05147866795135099, 0.00252428145378482, 0.03390520168746676, 0.03710137787296669, 0.1315372561583429, 0.9249684173624989], 'Number of spin. p-values': [2.7268889525193738e-06,0.0001589109142036954, 0.00029066013701677915, 0.0022541907273392467,0.02143309076326164,0.1109604619481164]}\n",
    "table_3 = pd.DataFrame(table_3) \n",
    "table_3"
   ]
  },
  {
   "cell_type": "markdown",
   "id": "ancient-question",
   "metadata": {},
   "source": [
    "2 блок\n",
    "маг \n",
    "0-мок\n",
    "P-value: 2.545806170145239e-10\n",
    "\n",
    "0-1000\n",
    "P-value: 0.0562401765037972\n",
    "\n",
    "\n",
    "0-500\n",
    "P-value: 4.890554914392519e-07\n",
    "\n",
    "500-мок\n",
    "P-value: 0.06849869017043535\n",
    "\n",
    "500-1000\n",
    "P-value: 1.5244503867839614e-06\n",
    "\n",
    "1000-мок\n",
    "P-value: 2.5836991943184647e-09\n",
    "\n",
    "\n",
    "spin\n",
    "0-мок\n",
    "\n",
    "0-1000\n",
    "\n",
    "\n",
    "0-500\n",
    "\n",
    "500-1000\n",
    "\n",
    "1000-мок\n",
    "\n",
    "4 блок\n",
    "mag\n",
    "0 - mock\n",
    "P-value: 0.003945009486283221\n",
    "0-1000\n",
    "P-value: 0.06300770660480134\n",
    "0-500 нет \n",
    "500-1000 нет\n",
    "500-мок нет\n",
    "\n",
    "3 блок\n",
    "spin\n",
    "0 - mock\n",
    "P-value: 0.013781436826536113\n",
    "0-1000\n",
    "P-value: 0.009290796753193244\n",
    "0-500\n",
    "P-value: 0.00491615933765438\n",
    "\n",
    "500-1000\n",
    "\n",
    "1000-мок\n",
    "\n",
    "\n",
    "mag\n",
    "0 - mock\n",
    "P-value: 0.011471930863944579\n",
    "0-1000\n",
    "P-value: 0.005772215261671846\n",
    "0-500\n",
    "P-value: 0.00016896494379250868\n",
    "\n",
    "500-1000\n",
    "\n",
    "1000-мок\n",
    "\n",
    "500- мок\n",
    "\n",
    "ampl\n",
    "0 - mock\n",
    "P-value: 0.011471930863944579\n",
    "0-1000\n",
    "P-value: 0.005772215261671846\n",
    "0-500\n",
    "P-value: 0.00016896494379250868\n",
    "\n",
    "500-1000\n",
    "\n",
    "1000-мок\n",
    "\n",
    "dur\n",
    "0 - mock\n",
    "P-value: 0.011471930863944579\n",
    "0-1000\n",
    "P-value: 0.005772215261671846\n",
    "0-500\n",
    "P-value: 0.00016896494379250868\n",
    "\n",
    "500-1000\n",
    "\n",
    "1000-мок\n",
    "\n"
   ]
  },
  {
   "cell_type": "code",
   "execution_count": 107,
   "id": "incomplete-disease",
   "metadata": {},
   "outputs": [
    {
     "data": {
      "text/html": [
       "<div>\n",
       "<style scoped>\n",
       "    .dataframe tbody tr th:only-of-type {\n",
       "        vertical-align: middle;\n",
       "    }\n",
       "\n",
       "    .dataframe tbody tr th {\n",
       "        vertical-align: top;\n",
       "    }\n",
       "\n",
       "    .dataframe thead th {\n",
       "        text-align: right;\n",
       "    }\n",
       "</style>\n",
       "<table border=\"1\" class=\"dataframe\">\n",
       "  <thead>\n",
       "    <tr style=\"text-align: right;\">\n",
       "      <th></th>\n",
       "      <th>FB0-FM500</th>\n",
       "      <th>FB0-FB1000</th>\n",
       "      <th>FB500-FB1000</th>\n",
       "      <th>FB0-FBMock</th>\n",
       "      <th>FB500-FBMock</th>\n",
       "      <th>FB1000-FBMock</th>\n",
       "    </tr>\n",
       "  </thead>\n",
       "  <tbody>\n",
       "    <tr>\n",
       "      <th>0</th>\n",
       "      <td>magnitude</td>\n",
       "      <td>magnitude</td>\n",
       "      <td>magnitude</td>\n",
       "      <td>magnitude</td>\n",
       "      <td>magnitude</td>\n",
       "      <td>magnitude</td>\n",
       "    </tr>\n",
       "  </tbody>\n",
       "</table>\n",
       "</div>"
      ],
      "text/plain": [
       "   FB0-FM500 FB0-FB1000 FB500-FB1000 FB0-FBMock FB500-FBMock FB1000-FBMock\n",
       "0  magnitude  magnitude    magnitude  magnitude    magnitude     magnitude"
      ]
     },
     "execution_count": 107,
     "metadata": {},
     "output_type": "execute_result"
    }
   ],
   "source": [
    "table3 = {'FB0-FM500': ['magnitude'],\n",
    "         'FB0-FB1000': ['magnitude'],\n",
    "         'FB500-FB1000': ['magnitude'],\n",
    "         'FB0-FBMock': ['magnitude'],\n",
    "         'FB500-FBMock': ['magnitude'],\n",
    "         'FB1000-FBMock': ['magnitude']}\n",
    "table3 = pd.DataFrame(table3) \n",
    "table3"
   ]
  },
  {
   "cell_type": "code",
   "execution_count": null,
   "id": "blank-credits",
   "metadata": {},
   "outputs": [],
   "source": [
    "table_3 = {'FB0-FM500': ['FB0-FM500', 'FB0-FB1000', 'FB0-FBMock','FB500-FB1000','FB500-FBMock'],\n",
    "           'metric type': ['magnitude', 'number_spin', 'duration','amplitude'], 'p-value order': [0.00016896494379250868, 0.005772215261671846, 0.011471930863944579]}\n",
    "table_3 = pd.DataFrame(table_3) \n",
    "table_3"
   ]
  },
  {
   "cell_type": "code",
   "execution_count": null,
   "id": "eligible-qualification",
   "metadata": {},
   "outputs": [],
   "source": [
    "#FDR_correction\n",
    "import statsmodels.sandbox.stats.multicomp as multicomp\n",
    "pval_corrected = multicomp.multipletests(reg_coef_df['p_value'], method='fdr_bh', is_sorted=False, returnsorted=False)[1]\n",
    "reg_coef_df['pval_corrected'] = list(pval_corrected)"
   ]
  },
  {
   "cell_type": "code",
   "execution_count": null,
   "id": "modular-fifty",
   "metadata": {},
   "outputs": [],
   "source": [
    "fin.groupby(['order', 'metric_type', 'subj_id','block_number']).mean()['metric']"
   ]
  },
  {
   "cell_type": "code",
   "execution_count": null,
   "id": "postal-necessity",
   "metadata": {},
   "outputs": [],
   "source": []
  },
  {
   "cell_type": "code",
   "execution_count": 429,
   "id": "waiting-viewer",
   "metadata": {},
   "outputs": [],
   "source": [
    "fin_mag = fin.loc[fin['metric_type'] == 'n_spindles']"
   ]
  },
  {
   "cell_type": "code",
   "execution_count": 93,
   "id": "significant-place",
   "metadata": {},
   "outputs": [],
   "source": [
    "#Linear regres coef \n",
    "from scipy import stats\n",
    "reg_coef = []\n",
    "fb_types = list(fin.block_name.unique())\n",
    "\n",
    "for fb_type in fb_types:\n",
    "    a =[]\n",
    "    x = fin_mag.loc[fin_mag['block_name'] == fb_type].block_number\n",
    "    y = fin_mag.loc[fin_mag['block_name'] == fb_type].metric\n",
    "    a.append(fb_type)\n",
    "    slope, intercept, r_value, p_value, std_err = stats.linregress(x,y)\n",
    "    a.append(slope)\n",
    "    a.append(intercept)\n",
    "    a.append(r_value) \n",
    "    a.append(p_value) \n",
    "    a.append(std_err) \n",
    "    reg_coef.append(a) "
   ]
  },
  {
   "cell_type": "code",
   "execution_count": 94,
   "id": "ordinary-pontiac",
   "metadata": {},
   "outputs": [],
   "source": [
    "#Linear regres coef dataframe\n",
    "reg_coef_df = pd.DataFrame(reg_coef) \n",
    "reg_coef_df = reg_coef_df.rename(columns={0: 'type', 1: \"slope\", 2: \"intercept\", 3: \"r_value\", 4: \"p_value\", 5: \"std_err\"})\n",
    "reg_coef_df.reset_index(drop=True, inplace=True)"
   ]
  },
  {
   "cell_type": "code",
   "execution_count": 95,
   "id": "temporal-reset",
   "metadata": {},
   "outputs": [
    {
     "data": {
      "text/html": [
       "<div>\n",
       "<style scoped>\n",
       "    .dataframe tbody tr th:only-of-type {\n",
       "        vertical-align: middle;\n",
       "    }\n",
       "\n",
       "    .dataframe tbody tr th {\n",
       "        vertical-align: top;\n",
       "    }\n",
       "\n",
       "    .dataframe thead th {\n",
       "        text-align: right;\n",
       "    }\n",
       "</style>\n",
       "<table border=\"1\" class=\"dataframe\">\n",
       "  <thead>\n",
       "    <tr style=\"text-align: right;\">\n",
       "      <th></th>\n",
       "      <th>type</th>\n",
       "      <th>slope</th>\n",
       "      <th>intercept</th>\n",
       "      <th>r_value</th>\n",
       "      <th>p_value</th>\n",
       "      <th>std_err</th>\n",
       "    </tr>\n",
       "  </thead>\n",
       "  <tbody>\n",
       "    <tr>\n",
       "      <th>0</th>\n",
       "      <td>FB0</td>\n",
       "      <td>0.032449</td>\n",
       "      <td>3.179468</td>\n",
       "      <td>0.153402</td>\n",
       "      <td>0.101674</td>\n",
       "      <td>0.019663</td>\n",
       "    </tr>\n",
       "    <tr>\n",
       "      <th>1</th>\n",
       "      <td>FB1000</td>\n",
       "      <td>0.046045</td>\n",
       "      <td>2.491029</td>\n",
       "      <td>0.275056</td>\n",
       "      <td>0.002930</td>\n",
       "      <td>0.015140</td>\n",
       "    </tr>\n",
       "    <tr>\n",
       "      <th>2</th>\n",
       "      <td>FB500</td>\n",
       "      <td>0.020293</td>\n",
       "      <td>3.396784</td>\n",
       "      <td>0.071572</td>\n",
       "      <td>0.447189</td>\n",
       "      <td>0.026604</td>\n",
       "    </tr>\n",
       "    <tr>\n",
       "      <th>3</th>\n",
       "      <td>FBMock</td>\n",
       "      <td>-0.002529</td>\n",
       "      <td>3.636057</td>\n",
       "      <td>-0.037077</td>\n",
       "      <td>0.694029</td>\n",
       "      <td>0.006412</td>\n",
       "    </tr>\n",
       "  </tbody>\n",
       "</table>\n",
       "</div>"
      ],
      "text/plain": [
       "     type     slope  intercept   r_value   p_value   std_err\n",
       "0     FB0  0.032449   3.179468  0.153402  0.101674  0.019663\n",
       "1  FB1000  0.046045   2.491029  0.275056  0.002930  0.015140\n",
       "2   FB500  0.020293   3.396784  0.071572  0.447189  0.026604\n",
       "3  FBMock -0.002529   3.636057 -0.037077  0.694029  0.006412"
      ]
     },
     "execution_count": 95,
     "metadata": {},
     "output_type": "execute_result"
    }
   ],
   "source": [
    "reg_coef_df"
   ]
  },
  {
   "cell_type": "code",
   "execution_count": 19,
   "id": "important-slovenia",
   "metadata": {},
   "outputs": [],
   "source": [
    "#Взять все метрики\n",
    "magnitude = df_all.loc[df_all['metric_type'].isin(['magnitude'])]\n",
    "#n_spindles\n",
    "n_spindles = df_all.loc[df_all['metric_type'].isin(['n_spindles'])]\n",
    "#duration\n",
    "duration = df_all.loc[df_all['metric_type'].isin(['duration'])]\n",
    "#amplitude\n",
    "amplitude = df_all.loc[df_all['metric_type'].isin(['amplitude'])]\n"
   ]
  },
  {
   "cell_type": "code",
   "execution_count": 119,
   "id": "reduced-regular",
   "metadata": {},
   "outputs": [],
   "source": [
    "#Взять все метрики\n",
    "magnitude_fb0 = duration.loc[duration['block_name'].isin(['FB0'])]\n",
    "#n_spindles\n",
    "magnitude_fb500 = duration.loc[duration['block_name'].isin(['FB500'])]\n",
    "#duration\n",
    "magnitude_fb1000 = duration.loc[duration['block_name'].isin(['FB1000'])]\n",
    "#amplitude\n",
    "magnitude_mock = duration.loc[duration['block_name'].isin(['FB1000'])]"
   ]
  },
  {
   "cell_type": "code",
   "execution_count": 461,
   "id": "impossible-bundle",
   "metadata": {},
   "outputs": [],
   "source": [
    "fin = pd.DataFrame(data = group_signal).reset_index()"
   ]
  },
  {
   "cell_type": "code",
   "execution_count": 462,
   "id": "adult-operation",
   "metadata": {},
   "outputs": [
    {
     "ename": "ValueError",
     "evalue": "Must have equal len keys and value when setting with an iterable",
     "output_type": "error",
     "traceback": [
      "\u001b[0;31m---------------------------------------------------------------------------\u001b[0m",
      "\u001b[0;31mValueError\u001b[0m                                Traceback (most recent call last)",
      "\u001b[0;32m<ipython-input-462-45f0576ec568>\u001b[0m in \u001b[0;36m<module>\u001b[0;34m\u001b[0m\n\u001b[1;32m      1\u001b[0m \u001b[0mfin\u001b[0m\u001b[0;34m[\u001b[0m\u001b[0;34m'block_number_abs'\u001b[0m\u001b[0;34m]\u001b[0m\u001b[0;34m=\u001b[0m\u001b[0mfin\u001b[0m\u001b[0;34m[\u001b[0m\u001b[0;34m'metric'\u001b[0m\u001b[0;34m]\u001b[0m\u001b[0;34m\u001b[0m\u001b[0;34m\u001b[0m\u001b[0m\n\u001b[1;32m      2\u001b[0m \u001b[0;32mfor\u001b[0m \u001b[0msubj_id\u001b[0m \u001b[0;32min\u001b[0m \u001b[0mfin\u001b[0m\u001b[0;34m[\u001b[0m\u001b[0;34m'subj_id'\u001b[0m\u001b[0;34m]\u001b[0m\u001b[0;34m.\u001b[0m\u001b[0munique\u001b[0m\u001b[0;34m(\u001b[0m\u001b[0;34m)\u001b[0m\u001b[0;34m:\u001b[0m\u001b[0;34m\u001b[0m\u001b[0;34m\u001b[0m\u001b[0m\n\u001b[0;32m----> 3\u001b[0;31m     \u001b[0mfin\u001b[0m\u001b[0;34m.\u001b[0m\u001b[0mloc\u001b[0m\u001b[0;34m[\u001b[0m\u001b[0mfin\u001b[0m\u001b[0;34m[\u001b[0m\u001b[0;34m'subj_id'\u001b[0m\u001b[0;34m]\u001b[0m\u001b[0;34m==\u001b[0m \u001b[0msubj_id\u001b[0m\u001b[0;34m,\u001b[0m \u001b[0;34m'block_number_abs'\u001b[0m\u001b[0;34m]\u001b[0m \u001b[0;34m=\u001b[0m \u001b[0mnp\u001b[0m\u001b[0;34m.\u001b[0m\u001b[0marange\u001b[0m\u001b[0;34m(\u001b[0m\u001b[0mlen\u001b[0m\u001b[0;34m(\u001b[0m\u001b[0mfin\u001b[0m\u001b[0;34m[\u001b[0m\u001b[0;34m(\u001b[0m\u001b[0mfin\u001b[0m\u001b[0;34m[\u001b[0m\u001b[0;34m'subj_id'\u001b[0m\u001b[0;34m]\u001b[0m\u001b[0;34m==\u001b[0m\u001b[0msubj_id\u001b[0m\u001b[0;34m)\u001b[0m\u001b[0;34m]\u001b[0m\u001b[0;34m.\u001b[0m\u001b[0mblock_number\u001b[0m\u001b[0;34m.\u001b[0m\u001b[0munique\u001b[0m\u001b[0;34m(\u001b[0m\u001b[0;34m)\u001b[0m\u001b[0;34m)\u001b[0m\u001b[0;34m)\u001b[0m\u001b[0;34m\u001b[0m\u001b[0;34m\u001b[0m\u001b[0m\n\u001b[0m",
      "\u001b[0;32m~/.pyenv/versions/3.9.1/envs/brain3/lib/python3.9/site-packages/pandas/core/indexing.py\u001b[0m in \u001b[0;36m__setitem__\u001b[0;34m(self, key, value)\u001b[0m\n\u001b[1;32m    690\u001b[0m \u001b[0;34m\u001b[0m\u001b[0m\n\u001b[1;32m    691\u001b[0m         \u001b[0miloc\u001b[0m \u001b[0;34m=\u001b[0m \u001b[0mself\u001b[0m \u001b[0;32mif\u001b[0m \u001b[0mself\u001b[0m\u001b[0;34m.\u001b[0m\u001b[0mname\u001b[0m \u001b[0;34m==\u001b[0m \u001b[0;34m\"iloc\"\u001b[0m \u001b[0;32melse\u001b[0m \u001b[0mself\u001b[0m\u001b[0;34m.\u001b[0m\u001b[0mobj\u001b[0m\u001b[0;34m.\u001b[0m\u001b[0miloc\u001b[0m\u001b[0;34m\u001b[0m\u001b[0;34m\u001b[0m\u001b[0m\n\u001b[0;32m--> 692\u001b[0;31m         \u001b[0miloc\u001b[0m\u001b[0;34m.\u001b[0m\u001b[0m_setitem_with_indexer\u001b[0m\u001b[0;34m(\u001b[0m\u001b[0mindexer\u001b[0m\u001b[0;34m,\u001b[0m \u001b[0mvalue\u001b[0m\u001b[0;34m,\u001b[0m \u001b[0mself\u001b[0m\u001b[0;34m.\u001b[0m\u001b[0mname\u001b[0m\u001b[0;34m)\u001b[0m\u001b[0;34m\u001b[0m\u001b[0;34m\u001b[0m\u001b[0m\n\u001b[0m\u001b[1;32m    693\u001b[0m \u001b[0;34m\u001b[0m\u001b[0m\n\u001b[1;32m    694\u001b[0m     \u001b[0;32mdef\u001b[0m \u001b[0m_validate_key\u001b[0m\u001b[0;34m(\u001b[0m\u001b[0mself\u001b[0m\u001b[0;34m,\u001b[0m \u001b[0mkey\u001b[0m\u001b[0;34m,\u001b[0m \u001b[0maxis\u001b[0m\u001b[0;34m:\u001b[0m \u001b[0mint\u001b[0m\u001b[0;34m)\u001b[0m\u001b[0;34m:\u001b[0m\u001b[0;34m\u001b[0m\u001b[0;34m\u001b[0m\u001b[0m\n",
      "\u001b[0;32m~/.pyenv/versions/3.9.1/envs/brain3/lib/python3.9/site-packages/pandas/core/indexing.py\u001b[0m in \u001b[0;36m_setitem_with_indexer\u001b[0;34m(self, indexer, value, name)\u001b[0m\n\u001b[1;32m   1633\u001b[0m         \u001b[0;32mif\u001b[0m \u001b[0mtake_split_path\u001b[0m\u001b[0;34m:\u001b[0m\u001b[0;34m\u001b[0m\u001b[0;34m\u001b[0m\u001b[0m\n\u001b[1;32m   1634\u001b[0m             \u001b[0;31m# We have to operate column-wise\u001b[0m\u001b[0;34m\u001b[0m\u001b[0;34m\u001b[0m\u001b[0;34m\u001b[0m\u001b[0m\n\u001b[0;32m-> 1635\u001b[0;31m             \u001b[0mself\u001b[0m\u001b[0;34m.\u001b[0m\u001b[0m_setitem_with_indexer_split_path\u001b[0m\u001b[0;34m(\u001b[0m\u001b[0mindexer\u001b[0m\u001b[0;34m,\u001b[0m \u001b[0mvalue\u001b[0m\u001b[0;34m,\u001b[0m \u001b[0mname\u001b[0m\u001b[0;34m)\u001b[0m\u001b[0;34m\u001b[0m\u001b[0;34m\u001b[0m\u001b[0m\n\u001b[0m\u001b[1;32m   1636\u001b[0m         \u001b[0;32melse\u001b[0m\u001b[0;34m:\u001b[0m\u001b[0;34m\u001b[0m\u001b[0;34m\u001b[0m\u001b[0m\n\u001b[1;32m   1637\u001b[0m             \u001b[0mself\u001b[0m\u001b[0;34m.\u001b[0m\u001b[0m_setitem_single_block\u001b[0m\u001b[0;34m(\u001b[0m\u001b[0mindexer\u001b[0m\u001b[0;34m,\u001b[0m \u001b[0mvalue\u001b[0m\u001b[0;34m,\u001b[0m \u001b[0mname\u001b[0m\u001b[0;34m)\u001b[0m\u001b[0;34m\u001b[0m\u001b[0;34m\u001b[0m\u001b[0m\n",
      "\u001b[0;32m~/.pyenv/versions/3.9.1/envs/brain3/lib/python3.9/site-packages/pandas/core/indexing.py\u001b[0m in \u001b[0;36m_setitem_with_indexer_split_path\u001b[0;34m(self, indexer, value, name)\u001b[0m\n\u001b[1;32m   1686\u001b[0m                     \u001b[0;32mreturn\u001b[0m \u001b[0mself\u001b[0m\u001b[0;34m.\u001b[0m\u001b[0m_setitem_with_indexer\u001b[0m\u001b[0;34m(\u001b[0m\u001b[0;34m(\u001b[0m\u001b[0mpi\u001b[0m\u001b[0;34m,\u001b[0m \u001b[0minfo_axis\u001b[0m\u001b[0;34m[\u001b[0m\u001b[0;36m0\u001b[0m\u001b[0;34m]\u001b[0m\u001b[0;34m)\u001b[0m\u001b[0;34m,\u001b[0m \u001b[0mvalue\u001b[0m\u001b[0;34m[\u001b[0m\u001b[0;36m0\u001b[0m\u001b[0;34m]\u001b[0m\u001b[0;34m)\u001b[0m\u001b[0;34m\u001b[0m\u001b[0;34m\u001b[0m\u001b[0m\n\u001b[1;32m   1687\u001b[0m \u001b[0;34m\u001b[0m\u001b[0m\n\u001b[0;32m-> 1688\u001b[0;31m                 raise ValueError(\n\u001b[0m\u001b[1;32m   1689\u001b[0m                     \u001b[0;34m\"Must have equal len keys and value \"\u001b[0m\u001b[0;34m\u001b[0m\u001b[0;34m\u001b[0m\u001b[0m\n\u001b[1;32m   1690\u001b[0m                     \u001b[0;34m\"when setting with an iterable\"\u001b[0m\u001b[0;34m\u001b[0m\u001b[0;34m\u001b[0m\u001b[0m\n",
      "\u001b[0;31mValueError\u001b[0m: Must have equal len keys and value when setting with an iterable"
     ]
    }
   ],
   "source": [
    "fin['block_number_abs']=fin['metric']\n",
    "for subj_id in fin['subj_id'].unique():\n",
    "    fin.loc[fin['subj_id']== subj_id, 'block_number_abs'] = np.arange(len(fin[(fin['subj_id']==subj_id)].block_number.unique()))"
   ]
  },
  {
   "cell_type": "code",
   "execution_count": 145,
   "id": "american-chart",
   "metadata": {},
   "outputs": [],
   "source": [
    "fin['block_number_abs'] = fin['block_number_abs'].astype(int)"
   ]
  },
  {
   "cell_type": "code",
   "execution_count": 146,
   "id": "aerial-parcel",
   "metadata": {},
   "outputs": [],
   "source": [
    "fin['norm'] = fin['metric']\n",
    "for subj_id in fin['subj_id'].unique():\n",
    "    fin.loc[fin['subj_id']== subj_id, 'norm'] = fin.loc[fin['subj_id']== subj_id, 'norm']/fin.loc[(fin['subj_id']==subj_id)&(fin['block_number_abs']==0), 'norm'].mean()\n",
    "    "
   ]
  },
  {
   "cell_type": "code",
   "execution_count": 148,
   "id": "novel-little",
   "metadata": {},
   "outputs": [
    {
     "data": {
      "text/plain": [
       "<seaborn.axisgrid.FacetGrid at 0x13005c8e0>"
      ]
     },
     "execution_count": 148,
     "metadata": {},
     "output_type": "execute_result"
    },
    {
     "data": {
      "image/png": "[encoded data removed]",
      "text/plain": [
       "<Figure size 360x360 with 1 Axes>"
      ]
     },
     "metadata": {
      "needs_background": "light"
     },
     "output_type": "display_data"
    }
   ],
   "source": [
    "sns.relplot(x=\"block_number_abs\", y=\"norm\", data=fin, kind=\"line\")"
   ]
  },
  {
   "cell_type": "code",
   "execution_count": null,
   "id": "critical-steering",
   "metadata": {},
   "outputs": [],
   "source": []
  }
 ],
 "metadata": {
  "kernelspec": {
   "display_name": "Python 3",
   "language": "python",
   "name": "python3"
  },
  "language_info": {
   "codemirror_mode": {
    "name": "ipython",
    "version": 3
   },
   "file_extension": ".py",
   "mimetype": "text/x-python",
   "name": "python",
   "nbconvert_exporter": "python",
   "pygments_lexer": "ipython3",
   "version": "3.9.1"
  }
 },
 "nbformat": 4,
 "nbformat_minor": 5
}
