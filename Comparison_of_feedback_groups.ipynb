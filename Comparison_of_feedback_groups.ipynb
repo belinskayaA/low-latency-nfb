{
 "cells": [
  {
   "cell_type": "markdown",
   "id": "extended-underwear",
   "metadata": {},
   "source": [
    "# Comparison of feedback groups"
   ]
  },
  {
   "cell_type": "code",
   "execution_count": 1085,
   "id": "compliant-jason",
   "metadata": {},
   "outputs": [],
   "source": [
    "import pandas as pd\n",
    "import numpy as np\n",
    "import seaborn as sns\n",
    "import pylab as plt"
   ]
  },
  {
   "cell_type": "code",
   "execution_count": 140,
   "id": "preliminary-discount",
   "metadata": {},
   "outputs": [],
   "source": [
    "import statsmodels.api as sm\n",
    "from statsmodels.formula.api import ols"
   ]
  },
  {
   "cell_type": "code",
   "execution_count": 1338,
   "id": "alien-market",
   "metadata": {},
   "outputs": [
    {
     "data": {
      "text/html": [
       "<div>\n",
       "<style scoped>\n",
       "    .dataframe tbody tr th:only-of-type {\n",
       "        vertical-align: middle;\n",
       "    }\n",
       "\n",
       "    .dataframe tbody tr th {\n",
       "        vertical-align: top;\n",
       "    }\n",
       "\n",
       "    .dataframe thead th {\n",
       "        text-align: right;\n",
       "    }\n",
       "</style>\n",
       "<table border=\"1\" class=\"dataframe\">\n",
       "  <thead>\n",
       "    <tr style=\"text-align: right;\">\n",
       "      <th></th>\n",
       "      <th>metric</th>\n",
       "      <th>metric_type</th>\n",
       "      <th>block_number</th>\n",
       "      <th>threshold_factor</th>\n",
       "      <th>block_name</th>\n",
       "      <th>subj_id</th>\n",
       "    </tr>\n",
       "  </thead>\n",
       "  <tbody>\n",
       "    <tr>\n",
       "      <th>0</th>\n",
       "      <td>2.623608</td>\n",
       "      <td>magnitude</td>\n",
       "      <td>1</td>\n",
       "      <td>2.5</td>\n",
       "      <td>Baseline0</td>\n",
       "      <td>1</td>\n",
       "    </tr>\n",
       "    <tr>\n",
       "      <th>1</th>\n",
       "      <td>0.194311</td>\n",
       "      <td>n_spindles</td>\n",
       "      <td>1</td>\n",
       "      <td>2.5</td>\n",
       "      <td>Baseline0</td>\n",
       "      <td>1</td>\n",
       "    </tr>\n",
       "    <tr>\n",
       "      <th>2</th>\n",
       "      <td>0.101000</td>\n",
       "      <td>duration</td>\n",
       "      <td>1</td>\n",
       "      <td>2.5</td>\n",
       "      <td>Baseline0</td>\n",
       "      <td>1</td>\n",
       "    </tr>\n",
       "  </tbody>\n",
       "</table>\n",
       "</div>"
      ],
      "text/plain": [
       "     metric metric_type  block_number  threshold_factor block_name  subj_id\n",
       "0  2.623608   magnitude             1               2.5  Baseline0        1\n",
       "1  0.194311  n_spindles             1               2.5  Baseline0        1\n",
       "2  0.101000    duration             1               2.5  Baseline0        1"
      ]
     },
     "execution_count": 1338,
     "metadata": {},
     "output_type": "execute_result"
    }
   ],
   "source": [
    "df_all = pd.read_csv('/Users/belinskaia/Desktop/CBI/nfb_old_csv/alpha_old_script/all.csv')\n",
    "df_all.head(3)"
   ]
  },
  {
   "cell_type": "markdown",
   "id": "unknown-complex",
   "metadata": {},
   "source": [
    "We were not interested in the dynamics within each 2-minute training block, so we will group the observations into blocks."
   ]
  },
  {
   "cell_type": "code",
   "execution_count": 1349,
   "id": "subsequent-blake",
   "metadata": {},
   "outputs": [
    {
     "data": {
      "text/plain": [
       "block_name  metric_type  subj_id  block_number\n",
       "FB0         amplitude    2        6               9.391494\n",
       "                                  8               7.594289\n",
       "                                  10              8.255711\n",
       "                                  12              7.567940\n",
       "                                  14              7.366757\n",
       "                                                    ...   \n",
       "FBMock      n_spindles   26       6               0.138874\n",
       "                                  8               0.236086\n",
       "                                  10              0.187480\n",
       "                                  12              0.416623\n",
       "                                  14              1.090164\n",
       "Name: metric, Length: 1920, dtype: float64"
      ]
     },
     "execution_count": 1349,
     "metadata": {},
     "output_type": "execute_result"
    }
   ],
   "source": [
    "group_signal = df_all.groupby(['block_name', 'metric_type', 'subj_id','block_number']).mean()['metric']\n",
    "group_signal"
   ]
  },
  {
   "cell_type": "code",
   "execution_count": 1350,
   "id": "another-nickel",
   "metadata": {},
   "outputs": [],
   "source": [
    "fin = pd.DataFrame(data = group_signal).reset_index()"
   ]
  },
  {
   "cell_type": "code",
   "execution_count": 1361,
   "id": "appropriate-latvia",
   "metadata": {},
   "outputs": [],
   "source": [
    "fin_norm.to_csv('all_norm_23_02_22.csv', index=False)"
   ]
  },
  {
   "cell_type": "markdown",
   "id": "promising-principle",
   "metadata": {},
   "source": [
    "### Order factor"
   ]
  },
  {
   "cell_type": "markdown",
   "id": "alert-habitat",
   "metadata": {},
   "source": [
    "The order of conditions is an important factor for within-subject design through the influence of previous sessions.Therefore, it is important for us to indicate not only the type of feedback, but also the serial number of the condition, in order to consider it as a separate factor."
   ]
  },
  {
   "cell_type": "code",
   "execution_count": 1366,
   "id": "attached-potter",
   "metadata": {},
   "outputs": [],
   "source": [
    "def order_fun(a):\n",
    "    if a == 6:\n",
    "        return(1)\n",
    "    elif a == 21:\n",
    "        return(2)\n",
    "    elif a == 36:\n",
    "        return(3)\n",
    "    else:\n",
    "        return(4)"
   ]
  },
  {
   "cell_type": "code",
   "execution_count": 1367,
   "id": "derived-grounds",
   "metadata": {},
   "outputs": [
    {
     "data": {
      "text/html": [
       "<div>\n",
       "<style scoped>\n",
       "    .dataframe tbody tr th:only-of-type {\n",
       "        vertical-align: middle;\n",
       "    }\n",
       "\n",
       "    .dataframe tbody tr th {\n",
       "        vertical-align: top;\n",
       "    }\n",
       "\n",
       "    .dataframe thead th {\n",
       "        text-align: right;\n",
       "    }\n",
       "</style>\n",
       "<table border=\"1\" class=\"dataframe\">\n",
       "  <thead>\n",
       "    <tr style=\"text-align: right;\">\n",
       "      <th></th>\n",
       "      <th>block_name</th>\n",
       "      <th>metric_type</th>\n",
       "      <th>subj_id</th>\n",
       "      <th>block_number</th>\n",
       "      <th>metric</th>\n",
       "      <th>six</th>\n",
       "      <th>norm</th>\n",
       "      <th>order</th>\n",
       "    </tr>\n",
       "  </thead>\n",
       "  <tbody>\n",
       "    <tr>\n",
       "      <th>240</th>\n",
       "      <td>FB0</td>\n",
       "      <td>magnitude</td>\n",
       "      <td>2</td>\n",
       "      <td>6</td>\n",
       "      <td>3.049945</td>\n",
       "      <td>3.049945</td>\n",
       "      <td>1.000000</td>\n",
       "      <td>1.0</td>\n",
       "    </tr>\n",
       "    <tr>\n",
       "      <th>241</th>\n",
       "      <td>FB0</td>\n",
       "      <td>magnitude</td>\n",
       "      <td>2</td>\n",
       "      <td>8</td>\n",
       "      <td>2.855223</td>\n",
       "      <td>3.049945</td>\n",
       "      <td>0.936155</td>\n",
       "      <td>1.0</td>\n",
       "    </tr>\n",
       "    <tr>\n",
       "      <th>242</th>\n",
       "      <td>FB0</td>\n",
       "      <td>magnitude</td>\n",
       "      <td>2</td>\n",
       "      <td>10</td>\n",
       "      <td>2.823622</td>\n",
       "      <td>3.049945</td>\n",
       "      <td>0.925794</td>\n",
       "      <td>1.0</td>\n",
       "    </tr>\n",
       "  </tbody>\n",
       "</table>\n",
       "</div>"
      ],
      "text/plain": [
       "    block_name metric_type  subj_id  block_number    metric       six  \\\n",
       "240        FB0   magnitude        2             6  3.049945  3.049945   \n",
       "241        FB0   magnitude        2             8  2.855223  3.049945   \n",
       "242        FB0   magnitude        2            10  2.823622  3.049945   \n",
       "\n",
       "         norm  order  \n",
       "240  1.000000    1.0  \n",
       "241  0.936155    1.0  \n",
       "242  0.925794    1.0  "
      ]
     },
     "execution_count": 1367,
     "metadata": {},
     "output_type": "execute_result"
    }
   ],
   "source": [
    "for i, row in fin_norm.iterrows():\n",
    "    subj_id = row['subj_id']\n",
    "    block_name = row['block_name']\n",
    "    min_block_in_fb = fin_norm.loc[(fin['block_name']== block_name)&(fin_norm['subj_id']== subj_id)].block_number.min()\n",
    "    fin_norm.at[i,'order'] = order_fun(min_block_in_fb)\n",
    "fin_norm.head(3)"
   ]
  },
  {
   "cell_type": "code",
   "execution_count": 1374,
   "id": "bronze-friday",
   "metadata": {},
   "outputs": [],
   "source": [
    "fin_amp_norm = fin_norm.loc[fin_norm['metric_type'].isin(['amplitude'])]\n",
    "fin_dur_norm = fin_norm.loc[fin_norm['metric_type'].isin(['duration'])]\n",
    "fin_mag_norm = fin_norm.loc[fin_norm['metric_type'].isin(['magnitude'])]\n",
    "fin_spin_norm = fin_norm.loc[fin_norm['metric_type'].isin(['n_spindles'])]"
   ]
  },
  {
   "cell_type": "code",
   "execution_count": 1375,
   "id": "postal-press",
   "metadata": {},
   "outputs": [],
   "source": [
    "fin_mag_norm_1 = fin_mag_norm.loc[fin_mag_norm['order'].isin([1])]\n",
    "fin_mag_norm_2 = fin_mag_norm.loc[fin_mag_norm['order'].isin([2])]\n",
    "fin_mag_norm_3 = fin_mag_norm.loc[fin_mag_norm['order'].isin([3])]\n",
    "fin_mag_norm_4 = fin_mag_norm.loc[fin_mag_norm['order'].isin([4])]"
   ]
  },
  {
   "cell_type": "code",
   "execution_count": 1378,
   "id": "purple-toronto",
   "metadata": {},
   "outputs": [
    {
     "data": {
      "text/plain": [
       "<seaborn.axisgrid.FacetGrid at 0x1787137f0>"
      ]
     },
     "execution_count": 1378,
     "metadata": {},
     "output_type": "execute_result"
    },
    {
     "data": {
      "image/png": "[encoded data removed]",
      "text/plain": [
       "<Figure size 1440x360 with 4 Axes>"
      ]
     },
     "metadata": {
      "needs_background": "light"
     },
     "output_type": "display_data"
    }
   ],
   "source": [
    "sns.lmplot(x=\"block_number\", y=\"norm\", col=\"block_name\", col_order=['FB0', 'FB500', 'FB1000', 'FBMock'], data=fin_mag_norm)\n",
    "\n"
   ]
  },
  {
   "cell_type": "markdown",
   "id": "elder-attachment",
   "metadata": {},
   "source": [
    "### Analysis of variance interaction between factors (ANOVA)"
   ]
  },
  {
   "cell_type": "markdown",
   "id": "southwest-owner",
   "metadata": {},
   "source": [
    "We were interested not only in the influence of the delay and order factors on the metrics of alpha rhythm change, but also in the interaction. In the analysis of variance (ANOVA) tests, the interactions of variables within a dataset are examined searching for two types of effects: main and interaction. "
   ]
  },
  {
   "cell_type": "code",
   "execution_count": 141,
   "id": "still-economics",
   "metadata": {},
   "outputs": [
    {
     "data": {
      "text/html": [
       "<div>\n",
       "<style scoped>\n",
       "    .dataframe tbody tr th:only-of-type {\n",
       "        vertical-align: middle;\n",
       "    }\n",
       "\n",
       "    .dataframe tbody tr th {\n",
       "        vertical-align: top;\n",
       "    }\n",
       "\n",
       "    .dataframe thead th {\n",
       "        text-align: right;\n",
       "    }\n",
       "</style>\n",
       "<table border=\"1\" class=\"dataframe\">\n",
       "  <thead>\n",
       "    <tr style=\"text-align: right;\">\n",
       "      <th></th>\n",
       "      <th>sum_sq</th>\n",
       "      <th>df</th>\n",
       "      <th>F</th>\n",
       "      <th>PR(&gt;F)</th>\n",
       "    </tr>\n",
       "  </thead>\n",
       "  <tbody>\n",
       "    <tr>\n",
       "      <th>C(order, Sum)</th>\n",
       "      <td>0.012622</td>\n",
       "      <td>3.0</td>\n",
       "      <td>4.737476</td>\n",
       "      <td>0.002898</td>\n",
       "    </tr>\n",
       "    <tr>\n",
       "      <th>C(block_name, Sum)</th>\n",
       "      <td>0.001188</td>\n",
       "      <td>3.0</td>\n",
       "      <td>0.445736</td>\n",
       "      <td>0.720437</td>\n",
       "    </tr>\n",
       "    <tr>\n",
       "      <th>C(order, Sum):C(block_name, Sum)</th>\n",
       "      <td>0.028507</td>\n",
       "      <td>9.0</td>\n",
       "      <td>3.566720</td>\n",
       "      <td>0.000270</td>\n",
       "    </tr>\n",
       "    <tr>\n",
       "      <th>Residual</th>\n",
       "      <td>0.394301</td>\n",
       "      <td>444.0</td>\n",
       "      <td>NaN</td>\n",
       "      <td>NaN</td>\n",
       "    </tr>\n",
       "  </tbody>\n",
       "</table>\n",
       "</div>"
      ],
      "text/plain": [
       "                                    sum_sq     df         F    PR(>F)\n",
       "C(order, Sum)                     0.012622    3.0  4.737476  0.002898\n",
       "C(block_name, Sum)                0.001188    3.0  0.445736  0.720437\n",
       "C(order, Sum):C(block_name, Sum)  0.028507    9.0  3.566720  0.000270\n",
       "Residual                          0.394301  444.0       NaN       NaN"
      ]
     },
     "execution_count": 141,
     "metadata": {},
     "output_type": "execute_result"
    }
   ],
   "source": [
    "model = ols(\"metric ~ C(order,Sum) + C(block_name,Sum) + C(order,Sum)*C(block_name,Sum)\", data=fin_dur).fit()\n",
    "dur_aov_table = sm.stats.anova_lm(model, typ=2)\n",
    "dur_aov_table"
   ]
  },
  {
   "cell_type": "code",
   "execution_count": 142,
   "id": "infectious-tribune",
   "metadata": {},
   "outputs": [
    {
     "data": {
      "text/html": [
       "<div>\n",
       "<style scoped>\n",
       "    .dataframe tbody tr th:only-of-type {\n",
       "        vertical-align: middle;\n",
       "    }\n",
       "\n",
       "    .dataframe tbody tr th {\n",
       "        vertical-align: top;\n",
       "    }\n",
       "\n",
       "    .dataframe thead th {\n",
       "        text-align: right;\n",
       "    }\n",
       "</style>\n",
       "<table border=\"1\" class=\"dataframe\">\n",
       "  <thead>\n",
       "    <tr style=\"text-align: right;\">\n",
       "      <th></th>\n",
       "      <th>sum_sq</th>\n",
       "      <th>df</th>\n",
       "      <th>F</th>\n",
       "      <th>PR(&gt;F)</th>\n",
       "    </tr>\n",
       "  </thead>\n",
       "  <tbody>\n",
       "    <tr>\n",
       "      <th>Intercept</th>\n",
       "      <td>6.188153</td>\n",
       "      <td>1.0</td>\n",
       "      <td>6968.130721</td>\n",
       "      <td>1.524099e-273</td>\n",
       "    </tr>\n",
       "    <tr>\n",
       "      <th>C(order, Sum)</th>\n",
       "      <td>0.009613</td>\n",
       "      <td>3.0</td>\n",
       "      <td>3.608057</td>\n",
       "      <td>1.342452e-02</td>\n",
       "    </tr>\n",
       "    <tr>\n",
       "      <th>C(block_name, Sum)</th>\n",
       "      <td>0.000837</td>\n",
       "      <td>3.0</td>\n",
       "      <td>0.314072</td>\n",
       "      <td>8.152157e-01</td>\n",
       "    </tr>\n",
       "    <tr>\n",
       "      <th>C(order, Sum):C(block_name, Sum)</th>\n",
       "      <td>0.028507</td>\n",
       "      <td>9.0</td>\n",
       "      <td>3.566720</td>\n",
       "      <td>2.697109e-04</td>\n",
       "    </tr>\n",
       "    <tr>\n",
       "      <th>Residual</th>\n",
       "      <td>0.394301</td>\n",
       "      <td>444.0</td>\n",
       "      <td>NaN</td>\n",
       "      <td>NaN</td>\n",
       "    </tr>\n",
       "  </tbody>\n",
       "</table>\n",
       "</div>"
      ],
      "text/plain": [
       "                                    sum_sq     df            F         PR(>F)\n",
       "Intercept                         6.188153    1.0  6968.130721  1.524099e-273\n",
       "C(order, Sum)                     0.009613    3.0     3.608057   1.342452e-02\n",
       "C(block_name, Sum)                0.000837    3.0     0.314072   8.152157e-01\n",
       "C(order, Sum):C(block_name, Sum)  0.028507    9.0     3.566720   2.697109e-04\n",
       "Residual                          0.394301  444.0          NaN            NaN"
      ]
     },
     "execution_count": 142,
     "metadata": {},
     "output_type": "execute_result"
    }
   ],
   "source": [
    "model = ols(\"metric ~ C(order,Sum) + C(block_name,Sum) + C(order,Sum)*C(block_name,Sum)\", data=fin_dur).fit()\n",
    "dur_aov_table = sm.stats.anova_lm(model, typ=3)\n",
    "dur_aov_table"
   ]
  },
  {
   "cell_type": "code",
   "execution_count": 143,
   "id": "intimate-delaware",
   "metadata": {},
   "outputs": [
    {
     "data": {
      "text/html": [
       "<div>\n",
       "<style scoped>\n",
       "    .dataframe tbody tr th:only-of-type {\n",
       "        vertical-align: middle;\n",
       "    }\n",
       "\n",
       "    .dataframe tbody tr th {\n",
       "        vertical-align: top;\n",
       "    }\n",
       "\n",
       "    .dataframe thead th {\n",
       "        text-align: right;\n",
       "    }\n",
       "</style>\n",
       "<table border=\"1\" class=\"dataframe\">\n",
       "  <thead>\n",
       "    <tr style=\"text-align: right;\">\n",
       "      <th></th>\n",
       "      <th>sum_sq</th>\n",
       "      <th>df</th>\n",
       "      <th>F</th>\n",
       "      <th>PR(&gt;F)</th>\n",
       "    </tr>\n",
       "  </thead>\n",
       "  <tbody>\n",
       "    <tr>\n",
       "      <th>Intercept</th>\n",
       "      <td>6673.132260</td>\n",
       "      <td>1.0</td>\n",
       "      <td>631.564352</td>\n",
       "      <td>2.447204e-87</td>\n",
       "    </tr>\n",
       "    <tr>\n",
       "      <th>C(order, Sum)</th>\n",
       "      <td>80.585195</td>\n",
       "      <td>3.0</td>\n",
       "      <td>2.542271</td>\n",
       "      <td>5.577328e-02</td>\n",
       "    </tr>\n",
       "    <tr>\n",
       "      <th>C(block_name, Sum)</th>\n",
       "      <td>17.572878</td>\n",
       "      <td>3.0</td>\n",
       "      <td>0.554383</td>\n",
       "      <td>6.454356e-01</td>\n",
       "    </tr>\n",
       "    <tr>\n",
       "      <th>C(order, Sum):C(block_name, Sum)</th>\n",
       "      <td>439.615701</td>\n",
       "      <td>9.0</td>\n",
       "      <td>4.622943</td>\n",
       "      <td>7.344780e-06</td>\n",
       "    </tr>\n",
       "    <tr>\n",
       "      <th>Residual</th>\n",
       "      <td>4691.320393</td>\n",
       "      <td>444.0</td>\n",
       "      <td>NaN</td>\n",
       "      <td>NaN</td>\n",
       "    </tr>\n",
       "  </tbody>\n",
       "</table>\n",
       "</div>"
      ],
      "text/plain": [
       "                                       sum_sq     df           F        PR(>F)\n",
       "Intercept                         6673.132260    1.0  631.564352  2.447204e-87\n",
       "C(order, Sum)                       80.585195    3.0    2.542271  5.577328e-02\n",
       "C(block_name, Sum)                  17.572878    3.0    0.554383  6.454356e-01\n",
       "C(order, Sum):C(block_name, Sum)   439.615701    9.0    4.622943  7.344780e-06\n",
       "Residual                          4691.320393  444.0         NaN           NaN"
      ]
     },
     "execution_count": 143,
     "metadata": {},
     "output_type": "execute_result"
    }
   ],
   "source": [
    "model = ols(\"metric ~ C(order,Sum) + C(block_name,Sum) + C(order,Sum)*C(block_name,Sum)\", data=fin_mag).fit()\n",
    "mag_aov_table = sm.stats.anova_lm(model, typ=3)\n",
    "mag_aov_table"
   ]
  },
  {
   "cell_type": "code",
   "execution_count": 144,
   "id": "broke-timothy",
   "metadata": {},
   "outputs": [
    {
     "data": {
      "text/html": [
       "<div>\n",
       "<style scoped>\n",
       "    .dataframe tbody tr th:only-of-type {\n",
       "        vertical-align: middle;\n",
       "    }\n",
       "\n",
       "    .dataframe tbody tr th {\n",
       "        vertical-align: top;\n",
       "    }\n",
       "\n",
       "    .dataframe thead th {\n",
       "        text-align: right;\n",
       "    }\n",
       "</style>\n",
       "<table border=\"1\" class=\"dataframe\">\n",
       "  <thead>\n",
       "    <tr style=\"text-align: right;\">\n",
       "      <th></th>\n",
       "      <th>sum_sq</th>\n",
       "      <th>df</th>\n",
       "      <th>F</th>\n",
       "      <th>PR(&gt;F)</th>\n",
       "    </tr>\n",
       "  </thead>\n",
       "  <tbody>\n",
       "    <tr>\n",
       "      <th>Intercept</th>\n",
       "      <td>96.691268</td>\n",
       "      <td>1.0</td>\n",
       "      <td>154.901641</td>\n",
       "      <td>1.035151e-30</td>\n",
       "    </tr>\n",
       "    <tr>\n",
       "      <th>C(order, Sum)</th>\n",
       "      <td>12.910949</td>\n",
       "      <td>3.0</td>\n",
       "      <td>6.894546</td>\n",
       "      <td>1.514435e-04</td>\n",
       "    </tr>\n",
       "    <tr>\n",
       "      <th>C(block_name, Sum)</th>\n",
       "      <td>4.953296</td>\n",
       "      <td>3.0</td>\n",
       "      <td>2.645098</td>\n",
       "      <td>4.868764e-02</td>\n",
       "    </tr>\n",
       "    <tr>\n",
       "      <th>C(order, Sum):C(block_name, Sum)</th>\n",
       "      <td>26.623008</td>\n",
       "      <td>9.0</td>\n",
       "      <td>4.738964</td>\n",
       "      <td>4.913670e-06</td>\n",
       "    </tr>\n",
       "    <tr>\n",
       "      <th>Residual</th>\n",
       "      <td>277.149567</td>\n",
       "      <td>444.0</td>\n",
       "      <td>NaN</td>\n",
       "      <td>NaN</td>\n",
       "    </tr>\n",
       "  </tbody>\n",
       "</table>\n",
       "</div>"
      ],
      "text/plain": [
       "                                      sum_sq     df           F        PR(>F)\n",
       "Intercept                          96.691268    1.0  154.901641  1.035151e-30\n",
       "C(order, Sum)                      12.910949    3.0    6.894546  1.514435e-04\n",
       "C(block_name, Sum)                  4.953296    3.0    2.645098  4.868764e-02\n",
       "C(order, Sum):C(block_name, Sum)   26.623008    9.0    4.738964  4.913670e-06\n",
       "Residual                          277.149567  444.0         NaN           NaN"
      ]
     },
     "execution_count": 144,
     "metadata": {},
     "output_type": "execute_result"
    }
   ],
   "source": [
    "model = ols(\"metric ~ C(order,Sum) + C(block_name,Sum) + C(order,Sum)*C(block_name,Sum)\", data=fin_spin).fit()\n",
    "spin_aov_table = sm.stats.anova_lm(model, typ=3)\n",
    "spin_aov_table"
   ]
  },
  {
   "cell_type": "code",
   "execution_count": 145,
   "id": "removed-apple",
   "metadata": {},
   "outputs": [
    {
     "data": {
      "text/html": [
       "<div>\n",
       "<style scoped>\n",
       "    .dataframe tbody tr th:only-of-type {\n",
       "        vertical-align: middle;\n",
       "    }\n",
       "\n",
       "    .dataframe tbody tr th {\n",
       "        vertical-align: top;\n",
       "    }\n",
       "\n",
       "    .dataframe thead th {\n",
       "        text-align: right;\n",
       "    }\n",
       "</style>\n",
       "<table border=\"1\" class=\"dataframe\">\n",
       "  <thead>\n",
       "    <tr style=\"text-align: right;\">\n",
       "      <th></th>\n",
       "      <th>sum_sq</th>\n",
       "      <th>df</th>\n",
       "      <th>F</th>\n",
       "      <th>PR(&gt;F)</th>\n",
       "    </tr>\n",
       "  </thead>\n",
       "  <tbody>\n",
       "    <tr>\n",
       "      <th>Intercept</th>\n",
       "      <td>45080.785474</td>\n",
       "      <td>1.0</td>\n",
       "      <td>1737.011436</td>\n",
       "      <td>1.459282e-155</td>\n",
       "    </tr>\n",
       "    <tr>\n",
       "      <th>C(order, Sum)</th>\n",
       "      <td>32.028883</td>\n",
       "      <td>3.0</td>\n",
       "      <td>0.411369</td>\n",
       "      <td>7.449140e-01</td>\n",
       "    </tr>\n",
       "    <tr>\n",
       "      <th>C(block_name, Sum)</th>\n",
       "      <td>2.497376</td>\n",
       "      <td>3.0</td>\n",
       "      <td>0.032076</td>\n",
       "      <td>9.922748e-01</td>\n",
       "    </tr>\n",
       "    <tr>\n",
       "      <th>C(order, Sum):C(block_name, Sum)</th>\n",
       "      <td>1607.050231</td>\n",
       "      <td>9.0</td>\n",
       "      <td>6.880154</td>\n",
       "      <td>2.701646e-09</td>\n",
       "    </tr>\n",
       "    <tr>\n",
       "      <th>Residual</th>\n",
       "      <td>11523.164636</td>\n",
       "      <td>444.0</td>\n",
       "      <td>NaN</td>\n",
       "      <td>NaN</td>\n",
       "    </tr>\n",
       "  </tbody>\n",
       "</table>\n",
       "</div>"
      ],
      "text/plain": [
       "                                        sum_sq     df            F  \\\n",
       "Intercept                         45080.785474    1.0  1737.011436   \n",
       "C(order, Sum)                        32.028883    3.0     0.411369   \n",
       "C(block_name, Sum)                    2.497376    3.0     0.032076   \n",
       "C(order, Sum):C(block_name, Sum)   1607.050231    9.0     6.880154   \n",
       "Residual                          11523.164636  444.0          NaN   \n",
       "\n",
       "                                         PR(>F)  \n",
       "Intercept                         1.459282e-155  \n",
       "C(order, Sum)                      7.449140e-01  \n",
       "C(block_name, Sum)                 9.922748e-01  \n",
       "C(order, Sum):C(block_name, Sum)   2.701646e-09  \n",
       "Residual                                    NaN  "
      ]
     },
     "execution_count": 145,
     "metadata": {},
     "output_type": "execute_result"
    }
   ],
   "source": [
    "model = ols(\"metric ~ C(order,Sum) + C(block_name,Sum) + C(order,Sum)*C(block_name,Sum)\", data=fin_amp).fit()\n",
    "amp_aov_table = sm.stats.anova_lm(model, typ=3)\n",
    "amp_aov_table"
   ]
  },
  {
   "cell_type": "markdown",
   "id": "adapted-citizenship",
   "metadata": {},
   "source": [
    "### FDR_correction\n",
    "When we make this many comparisons, it is important to adjust for multiple comparisons to avoid any significance of the differences being due to chance."
   ]
  },
  {
   "cell_type": "code",
   "execution_count": null,
   "id": "eligible-qualification",
   "metadata": {},
   "outputs": [],
   "source": [
    "#FDR_correction\n",
    "import statsmodels.sandbox.stats.multicomp as multicomp\n",
    "pval_corrected = multicomp.multipletests(reg_coef_df['p_value'], method='fdr_bh', is_sorted=False, returnsorted=False)[1]\n",
    "reg_coef_df['pval_corrected'] = list(pval_corrected)"
   ]
  },
  {
   "cell_type": "markdown",
   "id": "invalid-estimate",
   "metadata": {},
   "source": [
    "One can see that all changes in rhythm characteristics (magnitude, number of spindles, amplitude and duration) significantly depend on the interaction of factors NFB latency and Order of condition (all four p-values less than 0,01 after FDR correction). \n",
    "\n",
    "The main effect of the Order also appears to be significant or marginally significant for all characteristics, except for the amplitude  (magnitude p-value - 0,05; number of spindles p-value - 0,0001; duration p-value - 0,01, FDR corrected). Interestingly, the number of spindles appears to be most reliably influenced by the Order factor. \n",
    "\n",
    "In addition, we see the significance of the feedback latency factor for the number of bursts (p-value 0,04), which agrees with our earlier observation (Ossadtchi et al, 2017) that the incidence rate of the alpha bursts is the most sensitive rhythm characteristics in this type of the alpha neurofeedback training.  \n"
   ]
  },
  {
   "cell_type": "markdown",
   "id": "shared-generator",
   "metadata": {},
   "source": [
    "### T-test\n",
    "We performed pairwise comparison of changes in the average gain of different morphological descriptors between sessions using the t-test to find out in which of sessions 1, 2, 3 or 4 the most significant changes occurred in all subjects regardless of the feedback latency factor. "
   ]
  },
  {
   "cell_type": "markdown",
   "id": "conventional-applicant",
   "metadata": {},
   "source": [
    "Стьюдент и проверка гипотез попарно"
   ]
  },
  {
   "cell_type": "code",
   "execution_count": 166,
   "id": "attractive-space",
   "metadata": {},
   "outputs": [],
   "source": [
    "first = fin_spin.loc[fin_spin['order'].isin([1])]\n",
    "second = fin_spin.loc[fin_spin['order'].isin([2])]\n",
    "third = fin_spin.loc[fin_spin['order'].isin([3])]\n",
    "forth = fin_spin.loc[fin_spin['order'].isin([4])]"
   ]
  },
  {
   "cell_type": "code",
   "execution_count": 225,
   "id": "western-volume",
   "metadata": {},
   "outputs": [],
   "source": [
    "fin_spin = fin.loc[fin['metric_type'].isin(['duration'])]"
   ]
  },
  {
   "cell_type": "code",
   "execution_count": 226,
   "id": "quarterly-destination",
   "metadata": {},
   "outputs": [],
   "source": [
    "third = fin_spin.loc[fin_spin['order'].isin([3])]\n",
    "first_fb0 = third.loc[third['block_name'].isin(['FB0'])]\n",
    "first_fb500 = third.loc[third['block_name'].isin(['FB500'])]\n",
    "first_fb1000 = third.loc[third['block_name'].isin(['FB1000'])]\n",
    "first_fbMock = third.loc[third['block_name'].isin(['FBMock'])]"
   ]
  },
  {
   "cell_type": "code",
   "execution_count": 227,
   "id": "satisfactory-equity",
   "metadata": {},
   "outputs": [
    {
     "name": "stdout",
     "output_type": "stream",
     "text": [
      "P-value: 0.11504956636370899\n",
      "Н0 верна, группы не отличаются\n"
     ]
    }
   ],
   "source": [
    "from scipy import stats as st\n",
    "alpha = 0.05\n",
    "results = st.ttest_ind(first_fb0['metric'], first_fb1000['metric'],  equal_var = False)\n",
    "print('P-value:', results.pvalue)\n",
    "\n",
    "if (results.pvalue < alpha):\n",
    "    print('H0 не верна, группы отличаются')\n",
    "else:\n",
    "    print('Н0 верна, группы не отличаются')"
   ]
  },
  {
   "cell_type": "markdown",
   "id": "particular-wheat",
   "metadata": {},
   "source": [
    "### Linear regression "
   ]
  },
  {
   "cell_type": "markdown",
   "id": "exempt-reaction",
   "metadata": {},
   "source": [
    "We also calculated the difference in the slopes of the curves for linear regression, but the types of feedback still did not differ."
   ]
  },
  {
   "cell_type": "code",
   "execution_count": 93,
   "id": "significant-place",
   "metadata": {},
   "outputs": [],
   "source": [
    "#Linear regres coef \n",
    "from scipy import stats\n",
    "reg_coef = []\n",
    "fb_types = list(fin.block_name.unique())\n",
    "\n",
    "for fb_type in fb_types:\n",
    "    a =[]\n",
    "    x = fin_mag.loc[fin_mag['block_name'] == fb_type].block_number\n",
    "    y = fin_mag.loc[fin_mag['block_name'] == fb_type].metric\n",
    "    a.append(fb_type)\n",
    "    slope, intercept, r_value, p_value, std_err = stats.linregress(x,y)\n",
    "    a.append(slope)\n",
    "    a.append(intercept)\n",
    "    a.append(r_value) \n",
    "    a.append(p_value) \n",
    "    a.append(std_err) \n",
    "    reg_coef.append(a) "
   ]
  },
  {
   "cell_type": "code",
   "execution_count": 94,
   "id": "ordinary-pontiac",
   "metadata": {},
   "outputs": [],
   "source": [
    "#Linear regres coef dataframe\n",
    "reg_coef_df = pd.DataFrame(reg_coef) \n",
    "reg_coef_df = reg_coef_df.rename(columns={0: 'type', 1: \"slope\", 2: \"intercept\", 3: \"r_value\", 4: \"p_value\", 5: \"std_err\"})\n",
    "reg_coef_df.reset_index(drop=True, inplace=True)"
   ]
  },
  {
   "cell_type": "code",
   "execution_count": 95,
   "id": "temporal-reset",
   "metadata": {},
   "outputs": [
    {
     "data": {
      "text/html": [
       "<div>\n",
       "<style scoped>\n",
       "    .dataframe tbody tr th:only-of-type {\n",
       "        vertical-align: middle;\n",
       "    }\n",
       "\n",
       "    .dataframe tbody tr th {\n",
       "        vertical-align: top;\n",
       "    }\n",
       "\n",
       "    .dataframe thead th {\n",
       "        text-align: right;\n",
       "    }\n",
       "</style>\n",
       "<table border=\"1\" class=\"dataframe\">\n",
       "  <thead>\n",
       "    <tr style=\"text-align: right;\">\n",
       "      <th></th>\n",
       "      <th>type</th>\n",
       "      <th>slope</th>\n",
       "      <th>intercept</th>\n",
       "      <th>r_value</th>\n",
       "      <th>p_value</th>\n",
       "      <th>std_err</th>\n",
       "    </tr>\n",
       "  </thead>\n",
       "  <tbody>\n",
       "    <tr>\n",
       "      <th>0</th>\n",
       "      <td>FB0</td>\n",
       "      <td>0.032449</td>\n",
       "      <td>3.179468</td>\n",
       "      <td>0.153402</td>\n",
       "      <td>0.101674</td>\n",
       "      <td>0.019663</td>\n",
       "    </tr>\n",
       "    <tr>\n",
       "      <th>1</th>\n",
       "      <td>FB1000</td>\n",
       "      <td>0.046045</td>\n",
       "      <td>2.491029</td>\n",
       "      <td>0.275056</td>\n",
       "      <td>0.002930</td>\n",
       "      <td>0.015140</td>\n",
       "    </tr>\n",
       "    <tr>\n",
       "      <th>2</th>\n",
       "      <td>FB500</td>\n",
       "      <td>0.020293</td>\n",
       "      <td>3.396784</td>\n",
       "      <td>0.071572</td>\n",
       "      <td>0.447189</td>\n",
       "      <td>0.026604</td>\n",
       "    </tr>\n",
       "    <tr>\n",
       "      <th>3</th>\n",
       "      <td>FBMock</td>\n",
       "      <td>-0.002529</td>\n",
       "      <td>3.636057</td>\n",
       "      <td>-0.037077</td>\n",
       "      <td>0.694029</td>\n",
       "      <td>0.006412</td>\n",
       "    </tr>\n",
       "  </tbody>\n",
       "</table>\n",
       "</div>"
      ],
      "text/plain": [
       "     type     slope  intercept   r_value   p_value   std_err\n",
       "0     FB0  0.032449   3.179468  0.153402  0.101674  0.019663\n",
       "1  FB1000  0.046045   2.491029  0.275056  0.002930  0.015140\n",
       "2   FB500  0.020293   3.396784  0.071572  0.447189  0.026604\n",
       "3  FBMock -0.002529   3.636057 -0.037077  0.694029  0.006412"
      ]
     },
     "execution_count": 95,
     "metadata": {},
     "output_type": "execute_result"
    }
   ],
   "source": [
    "reg_coef_df"
   ]
  },
  {
   "cell_type": "markdown",
   "id": "silver-thumb",
   "metadata": {},
   "source": [
    "Due to all these results, we decided not to use this paradigm :)"
   ]
  }
 ],
 "metadata": {
  "kernelspec": {
   "display_name": "Python 3",
   "language": "python",
   "name": "python3"
  },
  "language_info": {
   "codemirror_mode": {
    "name": "ipython",
    "version": 3
   },
   "file_extension": ".py",
   "mimetype": "text/x-python",
   "name": "python",
   "nbconvert_exporter": "python",
   "pygments_lexer": "ipython3",
   "version": "3.9.1"
  }
 },
 "nbformat": 4,
 "nbformat_minor": 5
}
